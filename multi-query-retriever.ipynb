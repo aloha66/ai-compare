{
 "cells": [
  {
   "cell_type": "code",
   "id": "initial_id",
   "metadata": {
    "collapsed": true,
    "ExecuteTime": {
     "end_time": "2024-07-30T22:44:32.156437Z",
     "start_time": "2024-07-30T22:44:32.133464Z"
    }
   },
   "source": [
    "import config.env\n",
    "\n",
    "import os"
   ],
   "outputs": [],
   "execution_count": 1
  },
  {
   "metadata": {
    "ExecuteTime": {
     "end_time": "2024-07-30T22:44:32.172361Z",
     "start_time": "2024-07-30T22:44:32.157402Z"
    }
   },
   "cell_type": "code",
   "source": [
    "# Set logging for the queries\n",
    "import logging\n",
    "\n",
    "logging.basicConfig()\n",
    "logging.getLogger(\"langchain.retrievers.multi_query\").setLevel(logging.INFO)"
   ],
   "id": "f85594eb6565b9fd",
   "outputs": [],
   "execution_count": 2
  },
  {
   "metadata": {
    "ExecuteTime": {
     "end_time": "2024-07-30T22:44:33.788458Z",
     "start_time": "2024-07-30T22:44:32.173358Z"
    }
   },
   "cell_type": "code",
   "source": [
    "from langchain_openai import OpenAIEmbeddings, ChatOpenAI\n",
    "from langchain_community.vectorstores import FAISS\n",
    "\n",
    "\n",
    "db = FAISS.load_local(os.environ[\"DATABASE\"], OpenAIEmbeddings(),allow_dangerous_deserialization=True)\n",
    "\n",
    "llm = ChatOpenAI(model=os.environ[\"OPENAI_MODEL_ID\"])"
   ],
   "id": "6091d781c2e249e5",
   "outputs": [],
   "execution_count": 3
  },
  {
   "metadata": {
    "ExecuteTime": {
     "end_time": "2024-07-30T22:44:33.899731Z",
     "start_time": "2024-07-30T22:44:33.789424Z"
    }
   },
   "cell_type": "code",
   "source": [
    "from langchain.retrievers import MultiQueryRetriever\n",
    "\n",
    "retriever_from_llm = MultiQueryRetriever.from_llm(\n",
    "    retriever=db.as_retriever(  search_type=\"similarity_score_threshold\",\n",
    "    search_kwargs={\"score_threshold\": 0.8}), llm=llm\n",
    ")"
   ],
   "id": "8631e433daad4bfa",
   "outputs": [],
   "execution_count": 4
  },
  {
   "metadata": {
    "ExecuteTime": {
     "end_time": "2024-07-30T22:44:33.915746Z",
     "start_time": "2024-07-30T22:44:33.900701Z"
    }
   },
   "cell_type": "code",
   "source": "query = \"荣耀Magic V Flip的价格\"",
   "id": "d6cb27e1cb191ca6",
   "outputs": [],
   "execution_count": 5
  },
  {
   "metadata": {
    "ExecuteTime": {
     "end_time": "2024-07-30T22:44:36.400350Z",
     "start_time": "2024-07-30T22:44:33.916659Z"
    }
   },
   "cell_type": "code",
   "source": [
    "unique_docs = retriever_from_llm.invoke(query)\n",
    "len(unique_docs)\n",
    "\n",
    "unique_docs"
   ],
   "id": "51b49daef68e44ab",
   "outputs": [
    {
     "name": "stderr",
     "output_type": "stream",
     "text": [
      "INFO:langchain.retrievers.multi_query:Generated queries: ['荣耀Magic V Flip的售价是多少？  ', '请问荣耀Magic V Flip手机的价格信息是什么？  ', '我想知道荣耀Magic V Flip的市场价格。']\n"
     ]
    },
    {
     "data": {
      "text/plain": [
       "[Document(metadata={'Header 1': '荣耀Magic V Flip'}, page_content='# 荣耀Magic V Flip  \\n规格参数')]"
      ]
     },
     "execution_count": 6,
     "metadata": {},
     "output_type": "execute_result"
    }
   ],
   "execution_count": 6
  },
  {
   "metadata": {
    "ExecuteTime": {
     "end_time": "2024-07-30T22:44:36.416375Z",
     "start_time": "2024-07-30T22:44:36.401321Z"
    }
   },
   "cell_type": "code",
   "source": "",
   "id": "f4e042685f41b835",
   "outputs": [],
   "execution_count": 6
  }
 ],
 "metadata": {
  "kernelspec": {
   "display_name": "Python 3",
   "language": "python",
   "name": "python3"
  },
  "language_info": {
   "codemirror_mode": {
    "name": "ipython",
    "version": 2
   },
   "file_extension": ".py",
   "mimetype": "text/x-python",
   "name": "python",
   "nbconvert_exporter": "python",
   "pygments_lexer": "ipython2",
   "version": "2.7.6"
  }
 },
 "nbformat": 4,
 "nbformat_minor": 5
}
