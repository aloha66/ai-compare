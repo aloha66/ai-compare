{
 "cells": [
  {
   "metadata": {
    "ExecuteTime": {
     "end_time": "2024-08-05T23:44:18.198642Z",
     "start_time": "2024-08-05T23:44:18.190663Z"
    }
   },
   "cell_type": "code",
   "source": [
    "import os\n",
    "import config.env"
   ],
   "id": "d39669994ce569e1",
   "outputs": [],
   "execution_count": 66
  },
  {
   "metadata": {
    "ExecuteTime": {
     "end_time": "2024-08-05T23:44:18.245517Z",
     "start_time": "2024-08-05T23:44:18.236541Z"
    }
   },
   "cell_type": "code",
   "source": [
    "from langchain_community.utilities import SQLDatabase\n",
    "\n",
    "db = SQLDatabase.from_uri(\"sqlite:///FlowerShop.db\")"
   ],
   "id": "28d9e3d4a25c2dd5",
   "outputs": [],
   "execution_count": 67
  },
  {
   "metadata": {
    "ExecuteTime": {
     "end_time": "2024-08-05T23:44:18.261598Z",
     "start_time": "2024-08-05T23:44:18.247512Z"
    }
   },
   "cell_type": "code",
   "source": [
    "def get_schema(_):\n",
    "    return db.get_table_info()\n",
    "\n",
    "def run_query(query):\n",
    "    return db.run(query)"
   ],
   "id": "40623d8a31ee032a",
   "outputs": [],
   "execution_count": 68
  },
  {
   "metadata": {
    "ExecuteTime": {
     "end_time": "2024-08-05T23:44:18.277509Z",
     "start_time": "2024-08-05T23:44:18.262471Z"
    }
   },
   "cell_type": "code",
   "source": "get_schema(None)",
   "id": "c62b66bc01ae09d",
   "outputs": [
    {
     "data": {
      "text/plain": [
       "'\\nCREATE TABLE \"Flowers\" (\\n\\t\"ID\" INTEGER, \\n\\t\"Name\" TEXT NOT NULL, \\n\\t\"Type\" TEXT NOT NULL, \\n\\t\"Source\" TEXT NOT NULL, \\n\\t\"PurchasePrice\" REAL, \\n\\t\"SalePrice\" REAL, \\n\\t\"StockQuantity\" INTEGER, \\n\\t\"SoldQuantity\" INTEGER, \\n\\t\"ExpiryDate\" DATE, \\n\\t\"Description\" TEXT, \\n\\t\"EntryDate\" DATE DEFAULT CURRENT_DATE, \\n\\tPRIMARY KEY (\"ID\")\\n)\\n\\n/*\\n3 rows from Flowers table:\\nID\\tName\\tType\\tSource\\tPurchasePrice\\tSalePrice\\tStockQuantity\\tSoldQuantity\\tExpiryDate\\tDescription\\tEntryDate\\n1\\tRose\\tFlower\\tFrance\\t1.2\\t2.5\\t100\\t10\\t2023-12-31\\tA beautiful red rose\\t2024-08-04\\n2\\tTulip\\tFlower\\tNetherlands\\t0.8\\t2.0\\t150\\t25\\t2023-12-31\\tA colorful tulip\\t2024-08-04\\n3\\tLily\\tFlower\\tChina\\t1.5\\t3.0\\t80\\t5\\t2023-12-31\\tAn elegant white lily\\t2024-08-04\\n*/'"
      ]
     },
     "execution_count": 69,
     "metadata": {},
     "output_type": "execute_result"
    }
   ],
   "execution_count": 69
  },
  {
   "metadata": {},
   "cell_type": "markdown",
   "source": "查询sql",
   "id": "3fc9a3351ad1c7b"
  },
  {
   "metadata": {
    "ExecuteTime": {
     "end_time": "2024-08-05T23:44:18.293388Z",
     "start_time": "2024-08-05T23:44:18.278428Z"
    }
   },
   "cell_type": "code",
   "source": [
    "from langchain_core.prompts import ChatPromptTemplate\n",
    "\n",
    "system_template =\"\"\"\n",
    "你是一个数据库专家,根据给定的输入问题，将其转换成SQL查询语句，只负责生成查询语句，禁止生成新增，修改，删除等语句，这是违法的。直接返回查询语句，不需要添加任何标点符号，不需要返回markdown格式的代码\n",
    "根据下表结构，编写一个SQL查询来回答用户的问题：{schema}\n",
    "\n",
    "问题：{question}\n",
    "SQL查询\n",
    "\"\"\"\n",
    "\n",
    "\n",
    "prompt = ChatPromptTemplate.from_messages([(\"system\",system_template),(\"human\",\"input\"),])"
   ],
   "id": "6fdb2745524eb848",
   "outputs": [],
   "execution_count": 70
  },
  {
   "metadata": {
    "ExecuteTime": {
     "end_time": "2024-08-05T23:44:18.371788Z",
     "start_time": "2024-08-05T23:44:18.294386Z"
    }
   },
   "cell_type": "code",
   "source": [
    "from langchain_core.output_parsers import StrOutputParser\n",
    "from langchain_openai import ChatOpenAI\n",
    "from langchain_core.runnables import RunnablePassthrough\n",
    "\n",
    "llm = ChatOpenAI(model=\"deepseek-chat\",base_url=os.environ[\"DEEPSEEK_OPENAI_API_BASE\"],api_key=os.environ[\"DEEPSEEK_OPENAI_API_KEY\"])\n",
    "\n",
    "sql_response = (RunnablePassthrough.assign(schema=get_schema)\n",
    "| prompt\n",
    "| llm\n",
    "|StrOutputParser())"
   ],
   "id": "949ebd7244725ccd",
   "outputs": [],
   "execution_count": 71
  },
  {
   "metadata": {
    "ExecuteTime": {
     "end_time": "2024-08-05T23:44:18.387745Z",
     "start_time": "2024-08-05T23:44:18.372785Z"
    }
   },
   "cell_type": "code",
   "source": [
    "# query =  sql_response.invoke({\"question\":\"有多少种不同的鲜花？\"})\n",
    "# query"
   ],
   "id": "bf7440a77a5c62f6",
   "outputs": [],
   "execution_count": 72
  },
  {
   "metadata": {
    "ExecuteTime": {
     "end_time": "2024-08-05T23:51:29.386254Z",
     "start_time": "2024-08-05T23:51:29.368302Z"
    }
   },
   "cell_type": "code",
   "source": "db.run(\"SELECT COUNT(DISTINCT Name) FROM Flowers\")",
   "id": "9740eba95b347ba8",
   "outputs": [
    {
     "data": {
      "text/plain": [
       "'[(5,)]'"
      ]
     },
     "execution_count": 76,
     "metadata": {},
     "output_type": "execute_result"
    }
   ],
   "execution_count": 76
  },
  {
   "metadata": {},
   "cell_type": "markdown",
   "source": "解答",
   "id": "3af9d0a7a4f7e081"
  },
  {
   "metadata": {
    "ExecuteTime": {
     "end_time": "2024-08-05T23:44:18.403771Z",
     "start_time": "2024-08-05T23:44:18.388742Z"
    }
   },
   "cell_type": "code",
   "source": [
    "answer_template =\"\"\"\n",
    "给定一个输入问题和SQL语句，将其转成自然语言答案。\n",
    "\n",
    "表结构：{schema}\n",
    "问题：{question}\n",
    "SQL查询：{query}\n",
    "SQL响应：{response}\n",
    "\n",
    "答案\n",
    "\"\"\"\n",
    "\n",
    "\n",
    "prompt_res = ChatPromptTemplate.from_messages([(\"system\",answer_template),])"
   ],
   "id": "ba63f56bbf243030",
   "outputs": [],
   "execution_count": 73
  },
  {
   "metadata": {
    "ExecuteTime": {
     "end_time": "2024-08-05T23:44:18.418661Z",
     "start_time": "2024-08-05T23:44:18.404699Z"
    }
   },
   "cell_type": "code",
   "source": [
    "full_chain = (RunnablePassthrough.assign(query=sql_response)\n",
    "              | RunnablePassthrough.assign(schema=get_schema,response=lambda x:db.run(x[\"query\"]))\n",
    "              |prompt_res\n",
    "              |llm)"
   ],
   "id": "d68124420288c8ab",
   "outputs": [],
   "execution_count": 74
  },
  {
   "metadata": {
    "ExecuteTime": {
     "end_time": "2024-08-05T23:44:20.895149Z",
     "start_time": "2024-08-05T23:44:18.420656Z"
    }
   },
   "cell_type": "code",
   "source": "full_chain.invoke({\"question\":\"有多少种不同的鲜花？\"})",
   "id": "977c892aeb716b53",
   "outputs": [
    {
     "data": {
      "text/plain": [
       "AIMessage(content='根据SQL查询结果，有5种不同的鲜花。', response_metadata={'token_usage': {'completion_tokens': 11, 'prompt_tokens': 357, 'total_tokens': 368, 'prompt_cache_hit_tokens': 0, 'prompt_cache_miss_tokens': 357}, 'model_name': 'deepseek-chat', 'system_fingerprint': 'fp_7e0991cad4', 'finish_reason': 'stop', 'logprobs': None}, id='run-4e20371a-62d2-4d00-a15d-eaec95bc69e0-0', usage_metadata={'input_tokens': 357, 'output_tokens': 11, 'total_tokens': 368})"
      ]
     },
     "execution_count": 75,
     "metadata": {},
     "output_type": "execute_result"
    }
   ],
   "execution_count": 75
  }
 ],
 "metadata": {
  "kernelspec": {
   "display_name": "Python 3",
   "language": "python",
   "name": "python3"
  },
  "language_info": {
   "codemirror_mode": {
    "name": "ipython",
    "version": 2
   },
   "file_extension": ".py",
   "mimetype": "text/x-python",
   "name": "python",
   "nbconvert_exporter": "python",
   "pygments_lexer": "ipython2",
   "version": "2.7.6"
  }
 },
 "nbformat": 4,
 "nbformat_minor": 5
}
