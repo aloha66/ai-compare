{
 "cells": [
  {
   "cell_type": "code",
   "id": "initial_id",
   "metadata": {
    "collapsed": true,
    "ExecuteTime": {
     "end_time": "2024-07-21T02:03:24.675474Z",
     "start_time": "2024-07-21T02:03:24.655552Z"
    }
   },
   "source": "save_local = \"save_local\"",
   "outputs": [],
   "execution_count": 1
  },
  {
   "metadata": {},
   "cell_type": "markdown",
   "source": "## 加载 FAISS 向量数据库已有结果",
   "id": "b2664cb01a6ce6a3"
  },
  {
   "metadata": {
    "ExecuteTime": {
     "end_time": "2024-07-21T02:03:25.860207Z",
     "start_time": "2024-07-21T02:03:24.676467Z"
    }
   },
   "cell_type": "code",
   "source": [
    "from langchain_openai import OpenAIEmbeddings\n",
    "from langchain_community.vectorstores import FAISS\n",
    "\n",
    "db = FAISS.load_local(save_local, OpenAIEmbeddings(),allow_dangerous_deserialization=True)"
   ],
   "id": "57925ab6a88a13f3",
   "outputs": [],
   "execution_count": 2
  },
  {
   "metadata": {
    "ExecuteTime": {
     "end_time": "2024-07-21T02:03:25.875167Z",
     "start_time": "2024-07-21T02:03:25.861204Z"
    }
   },
   "cell_type": "code",
   "source": [
    "# query = \"MacBook Air13寸的价格\"\n",
    "query = \"获取MacBook Air 15寸型号的重量信息\""
   ],
   "id": "f3b2aa5023bf9782",
   "outputs": [],
   "execution_count": 3
  },
  {
   "metadata": {
    "ExecuteTime": {
     "end_time": "2024-07-21T02:03:25.890126Z",
     "start_time": "2024-07-21T02:03:25.876188Z"
    }
   },
   "cell_type": "code",
   "source": "### 相似度查询，结果很冗余",
   "id": "c900261cd467c0a3",
   "outputs": [],
   "execution_count": 4
  },
  {
   "metadata": {
    "ExecuteTime": {
     "end_time": "2024-07-21T02:03:31.611245Z",
     "start_time": "2024-07-21T02:03:25.892121Z"
    }
   },
   "cell_type": "code",
   "source": "db.similarity_search(query)",
   "id": "1e2793824c11e9ab",
   "outputs": [
    {
     "data": {
      "text/plain": [
       "[Document(page_content='# MacBook Air15寸\\n\\n## 外观\\n\\n银色、星光色、深空灰色、午夜色\\n\\n## 价格\\n\\nRMB 10,499\\nRMB 11,999\\nRMB 13,499'),\n",
       " Document(page_content='# MacBook Air13寸\\n\\n## 外观\\n\\n银色 星光色 深空灰色 午夜色\\n\\n## 价格\\n\\nRMB 7999 (8 核图形处理器，256GB 固态硬盘)\\nRMB 9499 (10 核图形处理器，512GB 固态硬盘)\\nRMB 8999\\nRMB 10,499\\nRMB 11,999'),\n",
       " Document(page_content='尺寸和重量\\n\\n高度：1.15 厘米 (0.45 英寸)\\n宽度：34.04 厘米 (13.40 英寸)\\n深度：23.76 厘米 (9.35 英寸)\\n重量：1.51 千克 (3.3 磅)^{5}\\n深度：23.76 厘米 (9.35 英寸)\\n宽度：34.04 厘米 (13.40 英寸)\\n高度：1.15 厘米 (0.45 英寸)'),\n",
       " Document(page_content='包装内容\\n\\n13 英寸 MacBook Air\\n30W USB-C 电源适配器\\n(8 核图形处理器的 M2 机型和 M3 机型)\\n或\\n35W 双 USB-C 端口小型电源适配器\\n(10 核图形处理器、512GB 存储容量的 M2 机型和 M3 机型)\\nUSB-C 转 MagSafe 3 连接线\\n(2 米)')]"
      ]
     },
     "execution_count": 5,
     "metadata": {},
     "output_type": "execute_result"
    }
   ],
   "execution_count": 5
  },
  {
   "metadata": {},
   "cell_type": "markdown",
   "source": [
    "### 使用 retriever 从向量数据库中获取结果\n",
    "\n",
    "#### 使用参数 `k` 指定返回结果数量"
   ],
   "id": "a401d842eb9ca3d7"
  },
  {
   "metadata": {
    "ExecuteTime": {
     "end_time": "2024-07-21T02:03:31.626205Z",
     "start_time": "2024-07-21T02:03:31.612243Z"
    }
   },
   "cell_type": "code",
   "source": [
    "topK_retriever = db.as_retriever(\n",
    "    search_kwargs={\"k\": 3}\n",
    ")\n"
   ],
   "id": "c340a97e146fe7aa",
   "outputs": [],
   "execution_count": 6
  },
  {
   "metadata": {
    "ExecuteTime": {
     "end_time": "2024-07-21T02:03:32.468449Z",
     "start_time": "2024-07-21T02:03:31.627203Z"
    }
   },
   "cell_type": "code",
   "source": [
    "docs = topK_retriever.invoke(query)\n",
    "docs"
   ],
   "id": "c48c421e08b0c927",
   "outputs": [
    {
     "data": {
      "text/plain": [
       "[Document(page_content='# MacBook Air15寸\\n\\n## 外观\\n\\n银色、星光色、深空灰色、午夜色\\n\\n## 价格\\n\\nRMB 10,499\\nRMB 11,999\\nRMB 13,499'),\n",
       " Document(page_content='# MacBook Air13寸\\n\\n## 外观\\n\\n银色 星光色 深空灰色 午夜色\\n\\n## 价格\\n\\nRMB 7999 (8 核图形处理器，256GB 固态硬盘)\\nRMB 9499 (10 核图形处理器，512GB 固态硬盘)\\nRMB 8999\\nRMB 10,499\\nRMB 11,999'),\n",
       " Document(page_content='尺寸和重量\\n\\n高度：1.15 厘米 (0.45 英寸)\\n宽度：34.04 厘米 (13.40 英寸)\\n深度：23.76 厘米 (9.35 英寸)\\n重量：1.51 千克 (3.3 磅)^{5}\\n深度：23.76 厘米 (9.35 英寸)\\n宽度：34.04 厘米 (13.40 英寸)\\n高度：1.15 厘米 (0.45 英寸)')]"
      ]
     },
     "execution_count": 7,
     "metadata": {},
     "output_type": "execute_result"
    }
   ],
   "execution_count": 7
  },
  {
   "metadata": {},
   "cell_type": "markdown",
   "source": "#### 使用 similarity_score_threshold 设置阈值，提升结果的相关性质量",
   "id": "6a6da84c56054cc9"
  },
  {
   "metadata": {
    "ExecuteTime": {
     "end_time": "2024-07-21T02:03:32.483408Z",
     "start_time": "2024-07-21T02:03:32.469445Z"
    }
   },
   "cell_type": "code",
   "source": [
    "retriever = db.as_retriever(\n",
    "     search_type=\"similarity_score_threshold\",\n",
    "    search_kwargs={\"score_threshold\": 0.8}\n",
    ")"
   ],
   "id": "8e707f9e1ceb3dab",
   "outputs": [],
   "execution_count": 8
  },
  {
   "metadata": {
    "ExecuteTime": {
     "end_time": "2024-07-21T02:03:44.598361Z",
     "start_time": "2024-07-21T02:03:32.484406Z"
    }
   },
   "cell_type": "code",
   "source": [
    "docs = retriever.invoke(query)\n",
    "docs"
   ],
   "id": "1fb6bade79dd3c00",
   "outputs": [
    {
     "name": "stderr",
     "output_type": "stream",
     "text": [
      "C:\\Users\\aloha66\\AppData\\Roaming\\Python\\Python310\\site-packages\\langchain_core\\vectorstores\\base.py:745: UserWarning: No relevant docs were retrieved using the relevance score threshold 0.8\n",
      "  warnings.warn(\n"
     ]
    },
    {
     "data": {
      "text/plain": [
       "[]"
      ]
     },
     "execution_count": 9,
     "metadata": {},
     "output_type": "execute_result"
    }
   ],
   "execution_count": 9
  },
  {
   "metadata": {},
   "cell_type": "markdown",
   "source": "### 不带任何参数的查询 ",
   "id": "f19fed53b9683a39"
  },
  {
   "metadata": {
    "ExecuteTime": {
     "end_time": "2024-07-21T02:03:44.613027Z",
     "start_time": "2024-07-21T02:03:44.599142Z"
    }
   },
   "cell_type": "code",
   "source": "retriever = db.as_retriever()",
   "id": "930aa7ab37ebd5e5",
   "outputs": [],
   "execution_count": 10
  },
  {
   "metadata": {
    "ExecuteTime": {
     "end_time": "2024-07-21T02:03:47.629747Z",
     "start_time": "2024-07-21T02:03:44.614015Z"
    }
   },
   "cell_type": "code",
   "source": [
    "docs = retriever.invoke(query)\n",
    "docs"
   ],
   "id": "6fb33df2ef15b6b",
   "outputs": [
    {
     "data": {
      "text/plain": [
       "[Document(page_content='# MacBook Air15寸\\n\\n## 外观\\n\\n银色、星光色、深空灰色、午夜色\\n\\n## 价格\\n\\nRMB 10,499\\nRMB 11,999\\nRMB 13,499'),\n",
       " Document(page_content='# MacBook Air13寸\\n\\n## 外观\\n\\n银色 星光色 深空灰色 午夜色\\n\\n## 价格\\n\\nRMB 7999 (8 核图形处理器，256GB 固态硬盘)\\nRMB 9499 (10 核图形处理器，512GB 固态硬盘)\\nRMB 8999\\nRMB 10,499\\nRMB 11,999'),\n",
       " Document(page_content='尺寸和重量\\n\\n高度：1.15 厘米 (0.45 英寸)\\n宽度：34.04 厘米 (13.40 英寸)\\n深度：23.76 厘米 (9.35 英寸)\\n重量：1.51 千克 (3.3 磅)^{5}\\n深度：23.76 厘米 (9.35 英寸)\\n宽度：34.04 厘米 (13.40 英寸)\\n高度：1.15 厘米 (0.45 英寸)'),\n",
       " Document(page_content='包装内容\\n\\n13 英寸 MacBook Air\\n30W USB-C 电源适配器\\n(8 核图形处理器的 M2 机型和 M3 机型)\\n或\\n35W 双 USB-C 端口小型电源适配器\\n(10 核图形处理器、512GB 存储容量的 M2 机型和 M3 机型)\\nUSB-C 转 MagSafe 3 连接线\\n(2 米)')]"
      ]
     },
     "execution_count": 11,
     "metadata": {},
     "output_type": "execute_result"
    }
   ],
   "execution_count": 11
  },
  {
   "metadata": {
    "ExecuteTime": {
     "end_time": "2024-07-21T02:03:47.644703Z",
     "start_time": "2024-07-21T02:03:47.630740Z"
    }
   },
   "cell_type": "code",
   "source": "",
   "id": "f0982794524b0f04",
   "outputs": [],
   "execution_count": 11
  }
 ],
 "metadata": {
  "kernelspec": {
   "display_name": "Python 3",
   "language": "python",
   "name": "python3"
  },
  "language_info": {
   "codemirror_mode": {
    "name": "ipython",
    "version": 2
   },
   "file_extension": ".py",
   "mimetype": "text/x-python",
   "name": "python",
   "nbconvert_exporter": "python",
   "pygments_lexer": "ipython2",
   "version": "2.7.6"
  }
 },
 "nbformat": 4,
 "nbformat_minor": 5
}
