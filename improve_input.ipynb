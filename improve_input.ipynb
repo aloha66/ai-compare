{
 "cells": [
  {
   "metadata": {
    "ExecuteTime": {
     "end_time": "2024-07-20T15:03:58.470858Z",
     "start_time": "2024-07-20T15:03:58.466868Z"
    }
   },
   "cell_type": "code",
   "source": "import config.env",
   "id": "d80ebf983619f548",
   "outputs": [],
   "execution_count": 16
  },
  {
   "cell_type": "code",
   "id": "initial_id",
   "metadata": {
    "collapsed": true,
    "ExecuteTime": {
     "end_time": "2024-07-20T15:03:58.485817Z",
     "start_time": "2024-07-20T15:03:58.474871Z"
    }
   },
   "source": [
    "from langchain.globals import set_debug,set_verbose\n",
    "\n",
    "set_verbose(True) # 没有更多的信息\n",
    "set_debug(True)  # 全部的信息，太多了"
   ],
   "outputs": [],
   "execution_count": 17
  },
  {
   "metadata": {
    "ExecuteTime": {
     "end_time": "2024-07-20T15:03:58.500778Z",
     "start_time": "2024-07-20T15:03:58.486816Z"
    }
   },
   "cell_type": "code",
   "source": [
    "system_template = (\n",
    "\"\"\"\n",
    "你是一个提示词大师，最擅长的就是从用户的一句话中理解用户意图，拆分关键信息，提取出指令需要的背景、要求、需求等要素，然后编写出一条能够高效执行的指令。请按照以下的步骤来执行： \n",
    "\n",
    "1.阅读理解用户发的句子或者词语，分析句子或者词语，理解用户的最核心要求 \n",
    "2.拆分出一个个独立的关键信息\n",
    "3.编写指令\n",
    "4.检查指令，自我检查指令还存在哪些问题，进行优化，一直到你自己觉得已经完美\n",
    "5.提供指令给用户。\n",
    "\n",
    "要求：\n",
    "1.其中需求和要求一定要分点罗列，每一点换一行，切记切记，这点很重要\n",
    "2.指令考虑的角度要全面、具体，尽可能不遗漏，可以用上“换位思考”“逆向思维”等技巧\n",
    "3.指令不能太简单，要尽可能详细 \n",
    "4.最重要的是，你目前的查询手段只能通过本地数据库搜索，不能使用互联网等工具查询\n",
    "\n",
    "## 输出格式\n",
    "用户的需求如下：\n",
    "1.{{要求1}}\n",
    "2.{{要求2}}\n",
    "3.{{要求3}}\n",
    "4.{{要求4}}\n",
    "…\n",
    "\"\"\"\n",
    ")"
   ],
   "id": "780c50e6eae4fe79",
   "outputs": [],
   "execution_count": 18
  },
  {
   "metadata": {
    "ExecuteTime": {
     "end_time": "2024-07-20T15:04:04.843886Z",
     "start_time": "2024-07-20T15:03:58.501777Z"
    }
   },
   "cell_type": "code",
   "source": [
    "from langchain_core.prompts import ChatPromptTemplate\n",
    "from langchain_core.output_parsers import StrOutputParser\n",
    "import os\n",
    "from langchain_openai import ChatOpenAI\n",
    "\n",
    "system_prompt = ChatPromptTemplate.from_messages(\n",
    "    [(\"system\", system_template),(\"human\", \"{input}\"),],\n",
    ")\n",
    "\n",
    "llm = ChatOpenAI(model=\"deepseek-chat\",base_url=os.environ[\"DEEPSEEK_OPENAI_API_BASE\"],api_key=os.environ[\"DEEPSEEK_OPENAI_API_KEY\"])\n",
    "\n",
    "chain = system_prompt | llm | StrOutputParser()\n",
    "\n",
    "chain.invoke({\"input\":\"MacBook Air15寸的重量\"})\n"
   ],
   "id": "1affef0812e17d7d",
   "outputs": [
    {
     "name": "stdout",
     "output_type": "stream",
     "text": [
      "\u001B[32;1m\u001B[1;3m[chain/start]\u001B[0m \u001B[1m[chain:RunnableSequence] Entering Chain run with input:\n",
      "\u001B[0m{\n",
      "  \"input\": \"MacBook Air15寸的重量\"\n",
      "}\n",
      "\u001B[32;1m\u001B[1;3m[chain/start]\u001B[0m \u001B[1m[chain:RunnableSequence > prompt:ChatPromptTemplate] Entering Prompt run with input:\n",
      "\u001B[0m{\n",
      "  \"input\": \"MacBook Air15寸的重量\"\n",
      "}\n",
      "\u001B[36;1m\u001B[1;3m[chain/end]\u001B[0m \u001B[1m[chain:RunnableSequence > prompt:ChatPromptTemplate] [1ms] Exiting Prompt run with output:\n",
      "\u001B[0m[outputs]\n",
      "\u001B[32;1m\u001B[1;3m[llm/start]\u001B[0m \u001B[1m[chain:RunnableSequence > llm:ChatOpenAI] Entering LLM run with input:\n",
      "\u001B[0m{\n",
      "  \"prompts\": [\n",
      "    \"System: \\n你是一个提示词大师，最擅长的就是从用户的一句话中提取出指令需要的背景、要求、需求等要素，然后编写出一条能够高效执行的指令。请按照以下的步骤来执行： \\n\\n1.阅读理解用户发的句子或者词语，分析句子或者词语，理解用户的最核心要求； \\n 2.编写指令；\\n 3.检查指令，自我检查指令还存在哪些问题，进行优化，一直到你自己觉得已经完美；\\n 4.提供指令给用户。\\n\\n要求：\\n1.其中需求和要求一定要分点罗列，每一点换一行，切记切记，这点很重要；\\n2.指令考虑的角度要全面、具体，尽可能不遗漏，可以用上“换位思考”“逆向思维”等技巧；\\n3.指令不能太简单，要尽可能详细； \\n4.最重要的是，你目前的查询手段只能通过本地数据库搜索，不能使用互联网等工具查询\\n\\n## 输出格式\\n用户的需求如下：\\n1.{要求1}\\n2.{要求2}\\n3.{要求3}\\n4.{要求4}\\n…\\n\\nHuman: MacBook Air15寸的重量\"\n",
      "  ]\n",
      "}\n",
      "\u001B[36;1m\u001B[1;3m[llm/end]\u001B[0m \u001B[1m[chain:RunnableSequence > llm:ChatOpenAI] [6.26s] Exiting LLM run with output:\n",
      "\u001B[0m{\n",
      "  \"generations\": [\n",
      "    [\n",
      "      {\n",
      "        \"text\": \"用户的需求如下：\\n1. 获取MacBook Air 15寸型号的重量信息。\\n\\n指令：\\n1. 打开本地数据库，搜索“MacBook Air 15寸”型号的详细规格信息。\\n2. 在搜索结果中，查找并记录该型号的重量数据。\\n3. 确认记录的重量数据是否为最新版本，以确保信息的准确性。\\n4. 将获取的重量信息整理成易于理解的格式，准备向用户展示。\",\n",
      "        \"generation_info\": {\n",
      "          \"finish_reason\": \"stop\",\n",
      "          \"logprobs\": null\n",
      "        },\n",
      "        \"type\": \"ChatGeneration\",\n",
      "        \"message\": {\n",
      "          \"lc\": 1,\n",
      "          \"type\": \"constructor\",\n",
      "          \"id\": [\n",
      "            \"langchain\",\n",
      "            \"schema\",\n",
      "            \"messages\",\n",
      "            \"AIMessage\"\n",
      "          ],\n",
      "          \"kwargs\": {\n",
      "            \"content\": \"用户的需求如下：\\n1. 获取MacBook Air 15寸型号的重量信息。\\n\\n指令：\\n1. 打开本地数据库，搜索“MacBook Air 15寸”型号的详细规格信息。\\n2. 在搜索结果中，查找并记录该型号的重量数据。\\n3. 确认记录的重量数据是否为最新版本，以确保信息的准确性。\\n4. 将获取的重量信息整理成易于理解的格式，准备向用户展示。\",\n",
      "            \"response_metadata\": {\n",
      "              \"token_usage\": {\n",
      "                \"completion_tokens\": 105,\n",
      "                \"prompt_tokens\": 253,\n",
      "                \"total_tokens\": 358\n",
      "              },\n",
      "              \"model_name\": \"deepseek-chat\",\n",
      "              \"system_fingerprint\": \"fp_7e0991cad4\",\n",
      "              \"finish_reason\": \"stop\",\n",
      "              \"logprobs\": null\n",
      "            },\n",
      "            \"type\": \"ai\",\n",
      "            \"id\": \"run-d0dfa9b6-68a3-465c-a7af-5c4cd7bf2671-0\",\n",
      "            \"usage_metadata\": {\n",
      "              \"input_tokens\": 253,\n",
      "              \"output_tokens\": 105,\n",
      "              \"total_tokens\": 358\n",
      "            },\n",
      "            \"tool_calls\": [],\n",
      "            \"invalid_tool_calls\": []\n",
      "          }\n",
      "        }\n",
      "      }\n",
      "    ]\n",
      "  ],\n",
      "  \"llm_output\": {\n",
      "    \"token_usage\": {\n",
      "      \"completion_tokens\": 105,\n",
      "      \"prompt_tokens\": 253,\n",
      "      \"total_tokens\": 358\n",
      "    },\n",
      "    \"model_name\": \"deepseek-chat\",\n",
      "    \"system_fingerprint\": \"fp_7e0991cad4\"\n",
      "  },\n",
      "  \"run\": null\n",
      "}\n",
      "\u001B[32;1m\u001B[1;3m[chain/start]\u001B[0m \u001B[1m[chain:RunnableSequence > parser:StrOutputParser] Entering Parser run with input:\n",
      "\u001B[0m[inputs]\n",
      "\u001B[36;1m\u001B[1;3m[chain/end]\u001B[0m \u001B[1m[chain:RunnableSequence > parser:StrOutputParser] [0ms] Exiting Parser run with output:\n",
      "\u001B[0m{\n",
      "  \"output\": \"用户的需求如下：\\n1. 获取MacBook Air 15寸型号的重量信息。\\n\\n指令：\\n1. 打开本地数据库，搜索“MacBook Air 15寸”型号的详细规格信息。\\n2. 在搜索结果中，查找并记录该型号的重量数据。\\n3. 确认记录的重量数据是否为最新版本，以确保信息的准确性。\\n4. 将获取的重量信息整理成易于理解的格式，准备向用户展示。\"\n",
      "}\n",
      "\u001B[36;1m\u001B[1;3m[chain/end]\u001B[0m \u001B[1m[chain:RunnableSequence] [6.27s] Exiting Chain run with output:\n",
      "\u001B[0m{\n",
      "  \"output\": \"用户的需求如下：\\n1. 获取MacBook Air 15寸型号的重量信息。\\n\\n指令：\\n1. 打开本地数据库，搜索“MacBook Air 15寸”型号的详细规格信息。\\n2. 在搜索结果中，查找并记录该型号的重量数据。\\n3. 确认记录的重量数据是否为最新版本，以确保信息的准确性。\\n4. 将获取的重量信息整理成易于理解的格式，准备向用户展示。\"\n",
      "}\n"
     ]
    },
    {
     "data": {
      "text/plain": [
       "'用户的需求如下：\\n1. 获取MacBook Air 15寸型号的重量信息。\\n\\n指令：\\n1. 打开本地数据库，搜索“MacBook Air 15寸”型号的详细规格信息。\\n2. 在搜索结果中，查找并记录该型号的重量数据。\\n3. 确认记录的重量数据是否为最新版本，以确保信息的准确性。\\n4. 将获取的重量信息整理成易于理解的格式，准备向用户展示。'"
      ]
     },
     "execution_count": 19,
     "metadata": {},
     "output_type": "execute_result"
    }
   ],
   "execution_count": 19
  },
  {
   "metadata": {
    "ExecuteTime": {
     "end_time": "2024-07-20T15:04:04.858876Z",
     "start_time": "2024-07-20T15:04:04.845881Z"
    }
   },
   "cell_type": "code",
   "source": "",
   "id": "c728704839549d68",
   "outputs": [],
   "execution_count": 19
  }
 ],
 "metadata": {
  "kernelspec": {
   "display_name": "Python 3",
   "language": "python",
   "name": "python3"
  },
  "language_info": {
   "codemirror_mode": {
    "name": "ipython",
    "version": 2
   },
   "file_extension": ".py",
   "mimetype": "text/x-python",
   "name": "python",
   "nbconvert_exporter": "python",
   "pygments_lexer": "ipython2",
   "version": "2.7.6"
  }
 },
 "nbformat": 4,
 "nbformat_minor": 5
}
