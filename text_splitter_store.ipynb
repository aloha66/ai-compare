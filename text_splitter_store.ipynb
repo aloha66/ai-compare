{
 "cells": [
  {
   "metadata": {},
   "cell_type": "markdown",
   "source": "## 加载文件",
   "id": "2ffcd19614a3f9cb"
  },
  {
   "cell_type": "code",
   "id": "initial_id",
   "metadata": {
    "collapsed": true,
    "ExecuteTime": {
     "end_time": "2024-07-18T12:36:43.993696Z",
     "start_time": "2024-07-18T12:36:43.975490Z"
    }
   },
   "source": [
    "from langchain_community.document_loaders import TextLoader\n",
    "\n",
    "\n",
    "def load_file(path):\n",
    "    with open(path,encoding=\"utf-8\") as f:\n",
    "        return f.read()\n",
    "    \n",
    "file_path_Arr = [\"data/MacBook Air13寸.txt\",\"data/MacBook Air15寸.txt\"]\n",
    "\n",
    "text_Arr = [load_file(path) for path in file_path_Arr]"
   ],
   "outputs": [
    {
     "data": {
      "text/plain": [
       "['# MacBook Air13寸\\n\\n## 外观\\n\\n银色 星光色 深空灰色 午夜色\\n\\n## 价格\\n\\nRMB 7999 (8 核图形处理器，256GB 固态硬盘)\\nRMB 9499 (10 核图形处理器，512GB 固态硬盘)\\nRMB 8999\\nRMB 10,499\\nRMB 11,999\\n\\n## 芯片\\n\\nApple M2 芯片8核中央处理器，具有4个性能核心和4个能效核心8核或10核图形处理器—\\n16 核神经网络引擎\\n100GB/s 内存带宽\\n媒体处理引擎\\n支持 H.264、HEVC、ProRes 和 ProRes RAW 硬件加速\\n视频解码引擎\\n视频编码引擎\\nProRes 编解码引擎 —可选配：\\nM2 (8 核中央处理器和 10 核图形处理器)\\nApple M3 芯片\\n8核中央处理器，具有4个性能核心和4个能效核心8核图形处理器\\n硬件加速光线追踪\\n16核神经网络引擎\\n100GB/s内存带宽\\n媒体处理引擎\\n支持 H.264、HEVC、ProRes 和 ProRes RAW 硬件加速\\n视频解码引擎\\n视频编码引擎\\nProRes 编解码引擎\\nAV1 解码引擎\\n可选配：\\nM3 (8核中央处理器和 10核图形处理器)\\nApple M3 芯片\\n8核中央处理器，具有\\n4个性能核心和\\n4个能效核心\\n10核图形处理器\\n硬件加速光线追踪\\n16核神经网络引擎\\n100GB/s内存带宽\\n媒体处理引擎\\n支持 H.264、HEVC、ProRes 和 ProRes RAW 硬件加速\\n视频解码引擎\\n视频编码引擎\\nProRes编解码引擎\\nAV1 解码引擎\\nApple M3 芯片\\n8核中央处理器，具有\\n4个性能核心和\\n4个能效核心\\n10核图形处理器\\n硬件加速光线追踪\\n16核神经网络引擎\\n100GB/s 内存带宽\\n媒体处理引擎\\n支持 H.264、HEVC、ProRes 和 ProRes RAW 硬件加速\\n视频解码引擎\\n视频编码引擎\\nProRes 编解码引擎\\nAV1 解码引擎\\n\\n## 显示屏\\n\\nLiquid 视网膜显示屏\\n13.6 英寸 (对角线) LED 背光显示屏 (采用 IPS 技术)^{1}；\\n初始分辨率 2560 x 1664 (224 ppi)\\n500 尼特亮度\\n色彩\\n支持 10 亿色彩\\n广色域 (P3)\\n原彩显示技术\\n\\n## 内存\\n\\n8GB\\n8GB 统一内存\\n可选配：\\n16GB 或 24GB 8GB\\n8GB 统一内存\\n可选配：\\n16GB 或 24GB 8GB\\n8GB 统一内存\\n可选配：\\n16GB 或 24GB 16GB\\n16GB 统一内存\\n可选配：\\n24GB\\n\\n## 电池和电源^{2}\\n\\n最长可达 18 小时的 Apple TV app 影片播放\\n最长可达 15 小时的无线上网\\n52.6 瓦时锂聚合物电池\\n30W USB-C 电源适配器 (随附于 8 核图形处理器的 M2 机型和 M3 机型)\\n35W 双 USB-C 端口小型电源适配器 (随附于 10 核图形处理器、512GB 存储容量的 M2 机型和 M3 机型；8 核图形处理器的 M2 机型和 M3 机型可选配)\\nUSB-C 转 MagSafe 3 连接线\\n可快速充电 (使用 70W USB-C 电源适配器)\\n\\n## 存储容量^{3}\\n\\n256GB 或 512GB\\n256GB 或 512GB 固态硬盘\\n可选配：\\n512GB、1TB 或 2TB 256GB\\n256GB 固态硬盘\\n可选配：\\n512GB、1TB 或 2TB 512GB\\n512GB 固态硬盘\\n可选配：\\n1TB 或 2TB 512GB\\n512GB 固态硬盘\\n可选配：\\n1TB 或 2TB\\n\\n## 充电和外设扩展\\n\\nMagSafe 3 充电端口\\n3.5 毫米耳机插孔\\n两个雷雳 / USB 4 端口，均可支持：\\n充电\\nDisplayPort\\n雷雳 3 (速率最高可达 40Gb/s)\\nUSB 4 (速率最高可达 40Gb/s)\\nMagSafe 3 3.5 毫米耳机插孔 雷雳 / USB 4\\n显示器支持 M2 机型\\n同时支持初始分辨率下的内置显示屏 (可显示 10 亿色彩) 以及：\\n一台分辨率最高达 6K (60Hz) 的外接显示器\\nM3 机型\\n同时支持初始分辨率下的内置显示屏 (可显示 10 亿色彩) 以及：\\n一台分辨率最高达 6K (60Hz) 的外接显示器\\n闭合 MacBook Air 可使用第二台外接显示器，分辨率最高达 5K (60Hz)\\n\\n## 视频播放\\n\\n支持的格式包括 HEVC、H.264、AV1 和 ProRes\\n支持杜比视界、HDR10 和 HLG，并可显示 HDR 画质\\n音频播放 支持的格式包括 AAC、MP3、Apple 保真压缩、FLAC、杜比数字、杜比数字+、杜比全景声\\n键盘和触控板 背光妙控键盘，配备：\\n78 个 (ANSI) 或 79 个 (ISO) 按键，包括 12 个全尺寸功能键和 4 个方向键 (呈倒 T 形排列)\\n触控 ID\\n环境光传感器\\n力度触控板可实现精准光标控制和压力感应功能；支持用力点按、加速控制、压力感应绘图和多点触控手势\\n\\n## 无线连接\\n\\nM2 机型\\nWi-Fi 6 (802.11ax)\\n蓝牙 5.3\\nM3 机型\\nWi-Fi 6E (802.11ax)^{4}\\n蓝牙 5.3\\n摄像头\\n1080p FaceTime 高清摄像头\\n先进的图像信号处理器，具备计算视频技术\\n\\n## 音频\\n\\n四扬声器系统\\n使用内置扬声器播放杜比全景声音乐或视频时支持空间音频功能\\n搭配 AirPods (第三代)、AirPods Pro 或 AirPods Max 可实现支持动态头部追踪的空间音频\\n三麦克风阵列，支持定向波束成形\\n“语音突显”和“宽谱”麦克风模式\\n音频和视频通话声音更清晰 (M3 机型)\\n3.5 毫米耳机插孔，具备先进的高阻抗耳机支持功能\\n\\n## 操作环境\\n\\n电压：100 伏至 240 伏交流电\\n频率：50Hz 至 60Hz\\n工作温度：10°C 至 35°C (50°F 至 95°F)\\n存放温度：–25°C 至 45°C (–13°F 至 113°F)\\n相对湿度：非凝结状态下 0% 至 90%\\n工作高度：目前测试最高可达 3000 米 (10000 英尺)\\n最高储存高度：4500 米 (15000 英尺)\\n最高装运高度：10500 米 (35000 英尺)\\n\\n## 尺寸和重量\\n\\n高度：1.13 厘米 (0.44 英寸)\\n宽度：30.41 厘米 (11.97 英寸)\\n深度：21.50 厘米 (8.46 英寸)\\n重量：1.24 千克 (2.7 磅)^{5}\\n\\n##操作系统\\n\\nmacOS\\nmacOS 是先进的桌面操作系统。macOS Sonoma 的强大，让 Mac 工作和娱乐起来都更得心应手。各项新技能让你的视频演示更精彩，游戏玩起来更带劲，还有各种个性化方式助你尽情展现自己的风格。\\n\\n## 包装内容\\n\\n13 英寸 MacBook Air\\n30W USB-C 电源适配器\\n(8 核图形处理器的 M2 机型和 M3 机型)\\n或\\n35W 双 USB-C 端口小型电源适配器\\n(10 核图形处理器、512GB 存储容量的 M2 机型和 M3 机型)\\nUSB-C 转 MagSafe 3 连接线\\n(2 米)\\n\\n',\n",
       " '# MacBook Air15寸\\n\\n## 外观\\n\\n银色、星光色、深空灰色、午夜色\\n\\n## 价格\\n\\nRMB 10,499\\nRMB 11,999\\nRMB 13,499\\n\\n## 芯片\\n\\nApple M3 芯片\\n8 核中央处理器，具有 4 个性能核心和 4 个能效核心\\n10 核图形处理器\\n硬件加速光线追踪\\n16 核神经网络引擎\\n100GB/s 内存带宽\\n媒体处理引擎\\n支持 H.264、HEVC、ProRes 和 ProRes RAW 硬件加速\\n视频解码引擎\\n视频编码引擎\\nProRes 编解码引擎\\nAV1 解码引擎\\n\\n## 显示屏\\n\\nLiquid 视网膜显示屏\\n15.3 英寸 (对角线) LED 背光显示屏 (采用 IPS 技术)^{1}；\\n初始分辨率 2880 x 1864 (224 ppi)\\n500 尼特亮度\\n色彩\\n支持 10 亿色彩\\n广色域 (P3)\\n原彩显示技术\\n\\n## 内存\\n\\n8GB\\n8GB 统一内存\\n可选配：\\n16GB 或 24GB\\n8GB\\n8GB 统一内存\\n可选配：\\n16GB 或 24GB\\n16GB\\n16GB 统一内存\\n可选配：\\n24GB\\n\\n## 电池和电源^{2}\\n\\n最长可达 18 小时的 Apple TV app 影片播放\\n最长可达 15 小时的无线上网\\n66.5 瓦时锂聚合物电池\\n35W 双 USB-C 端口小型电源适配器\\nUSB-C 转 MagSafe 3 连接线\\n可快速充电 (使用 70W USB-C 电源适配器)\\n\\n## 存储容量^{3}\\n\\n256GB\\n256GB 固态硬盘\\n可选配：\\n512GB、1TB 或 2TB\\n512GB\\n512GB 固态硬盘\\n可选配：\\n1TB 或 2TB\\n512GB\\n512GB 固态硬盘\\n可选配：\\n1TB 或 2TB\\n\\n## 充电和外设扩展\\n\\nMagSafe 3 充电端口\\n3.5 毫米耳机插孔\\n两个雷雳 / USB 4 端口，均可支持：\\n充电\\nDisplayPort\\n雷雳 3 (速率最高可达 40Gb/s)\\nUSB 4 (速率最高可达 40Gb/s)\\nMagSafe 33.5 毫米耳机插孔雷雳 / USB 4\\n显示器支持\\n同时支持初始分辨率下的内置显示屏 (可显示 10 亿色彩) 以及：\\n一台分辨率最高达 6K (60Hz) 的外接显示器\\n闭合 MacBook Air 可使用第二台外接显示器，分辨率最高达 5K (60Hz)\\n支持的格式包括 HEVC、H.264、AV1 和 ProRes\\n支持杜比视界、HDR10 和 HLG，并可显示 HDR 画质\\n音频播放\\n支持的格式包括 AAC、MP3、Apple 保真压缩、FLAC、杜比数字、杜比数字+、杜比全景声\\n键盘和触控板\\n背光妙控键盘，配备：\\n78 个 (ANSI) 或 79 个 (ISO) 按键，包括 12 个全尺寸功能键和 4 个方向键 (呈倒 T 形排列)\\n触控 ID\\n环境光传感器\\n力度触控板可实现精准光标控制和压力感应功能；支持用力点按、加速控制、压力感应绘图和多点触控手势\\n\\n## 无线连接\\n\\nWi-Fi\\nWi-Fi 6E (802.11ax)^{4}\\n蓝牙\\n蓝牙 5.3\\n摄像头\\n1080p FaceTime 高清摄像头\\n先进的图像信号处理器，具备计算视频技术\\n\\n## 音频\\n\\n六扬声器系统，采用振动抵消低音单元\\n使用内置扬声器播放杜比全景声音乐或视频时支持空间音频功能\\n搭配 AirPods (第三代)、AirPods Pro 或 AirPods Max 可实现支持动态头部追踪的空间音频\\n三麦克风阵列，支持定向波束成形\\n“语音突显”和“宽谱”麦克风模式\\n音频和视频通话声音更清晰\\n3.5 毫米耳机插孔，具备先进的高阻抗耳机支持功能\\n\\n## 操作环境\\n电压：100 伏至 240 伏交流电\\n频率：50Hz 至 60Hz\\n工作温度：10°C 至 35°C (50°F 至 95°F)\\n存放温度：–25°C 至 45°C (–13°F 至 113°F)\\n相对湿度：非凝结状态下 0% 至 90%\\n工作高度：目前测试最高可达 3000 米 (10000 英尺)\\n最高储存高度：4500 米 (15000 英尺)\\n最高装运高度：10500 米 (35000 英尺)\\n\\n## 尺寸和重量\\n\\n高度：1.15 厘米 (0.45 英寸)\\n宽度：34.04 厘米 (13.40 英寸)\\n深度：23.76 厘米 (9.35 英寸)\\n重量：1.51 千克 (3.3 磅)^{5}\\n深度：23.76 厘米 (9.35 英寸)\\n宽度：34.04 厘米 (13.40 英寸)\\n高度：1.15 厘米 (0.45 英寸)\\n\\n## 操作系统\\n\\nmacOS\\nmacOS 是先进的桌面操作系统。macOS Sonoma 的强大，让 Mac 工作和娱乐起来都更得心应手。各项新技能让你的视频演示更精彩，游戏玩起来更带劲，还有各种个性化方式助你尽情展现自己的风格。\\n\\n']"
      ]
     },
     "execution_count": 14,
     "metadata": {},
     "output_type": "execute_result"
    }
   ],
   "execution_count": 14
  },
  {
   "metadata": {},
   "cell_type": "markdown",
   "source": "## 文本分割",
   "id": "1a3e3870e025257c"
  },
  {
   "metadata": {
    "ExecuteTime": {
     "end_time": "2024-07-18T12:52:52.900179Z",
     "start_time": "2024-07-18T12:52:52.869779Z"
    }
   },
   "cell_type": "code",
   "source": [
    "from langchain_text_splitters import CharacterTextSplitter\n",
    "\n",
    "text_splitter = CharacterTextSplitter(\n",
    "    separator=\"##\",\n",
    "    chunk_size=200,\n",
    "    chunk_overlap=100,\n",
    "    length_function=len,\n",
    "    is_separator_regex=True,\n",
    ")\n",
    "\n",
    "texts = text_splitter.create_documents(text_Arr)\n",
    "len(texts)"
   ],
   "id": "b8ff86d1148591cc",
   "outputs": [
    {
     "name": "stderr",
     "output_type": "stream",
     "text": [
      "Created a chunk of size 685, which is longer than the specified 200\n",
      "Created a chunk of size 256, which is longer than the specified 200\n",
      "Created a chunk of size 331, which is longer than the specified 200\n",
      "Created a chunk of size 265, which is longer than the specified 200\n",
      "Created a chunk of size 211, which is longer than the specified 200\n",
      "Created a chunk of size 514, which is longer than the specified 200\n",
      "Created a chunk of size 210, which is longer than the specified 200\n"
     ]
    },
    {
     "data": {
      "text/plain": [
       "26"
      ]
     },
     "execution_count": 15,
     "metadata": {},
     "output_type": "execute_result"
    }
   ],
   "execution_count": 15
  },
  {
   "metadata": {},
   "cell_type": "markdown",
   "source": "## 使用 Faiss 作为向量数据库，持久化存储",
   "id": "be1613773ad1ffcf"
  },
  {
   "metadata": {
    "ExecuteTime": {
     "end_time": "2024-07-18T12:56:09.319722Z",
     "start_time": "2024-07-18T12:56:06.268036Z"
    }
   },
   "cell_type": "code",
   "source": [
    "from langchain_openai import OpenAIEmbeddings\n",
    "from langchain_community.vectorstores import FAISS\n",
    "\n",
    "save_local = \"save_local\"\n",
    "\n",
    "db = FAISS.from_documents(texts, OpenAIEmbeddings())\n",
    "\n",
    "db.save_local(save_local)"
   ],
   "id": "a720b5779c1579b5",
   "outputs": [],
   "execution_count": 16
  },
  {
   "metadata": {},
   "cell_type": "code",
   "outputs": [],
   "execution_count": null,
   "source": "",
   "id": "dbf9e6b4b4d2b156"
  }
 ],
 "metadata": {
  "kernelspec": {
   "display_name": "Python 3",
   "language": "python",
   "name": "python3"
  },
  "language_info": {
   "codemirror_mode": {
    "name": "ipython",
    "version": 2
   },
   "file_extension": ".py",
   "mimetype": "text/x-python",
   "name": "python",
   "nbconvert_exporter": "python",
   "pygments_lexer": "ipython2",
   "version": "2.7.6"
  }
 },
 "nbformat": 4,
 "nbformat_minor": 5
}
