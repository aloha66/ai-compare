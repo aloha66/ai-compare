{
 "cells": [
  {
   "metadata": {},
   "cell_type": "markdown",
   "source": "## 读取文件",
   "id": "5ddc838b9ecafe66"
  },
  {
   "metadata": {
    "ExecuteTime": {
     "end_time": "2024-07-30T23:25:50.846783Z",
     "start_time": "2024-07-30T23:25:50.825072Z"
    }
   },
   "cell_type": "code",
   "source": [
    "import os\n",
    "import config.env"
   ],
   "id": "5b7d0e7c4afdcfdc",
   "outputs": [],
   "execution_count": 1
  },
  {
   "metadata": {
    "ExecuteTime": {
     "end_time": "2024-07-30T23:25:50.862705Z",
     "start_time": "2024-07-30T23:25:50.848743Z"
    }
   },
   "cell_type": "code",
   "source": [
    "from util.file import load_file\n",
    "\n",
    "load_file"
   ],
   "id": "f273c378ff3df3b6",
   "outputs": [
    {
     "data": {
      "text/plain": [
       "<function util.file.load_file(path)>"
      ]
     },
     "execution_count": 2,
     "metadata": {},
     "output_type": "execute_result"
    }
   ],
   "execution_count": 2
  },
  {
   "metadata": {},
   "cell_type": "markdown",
   "source": "## 文本分割",
   "id": "84a2ea0c50ef386a"
  },
  {
   "metadata": {
    "ExecuteTime": {
     "end_time": "2024-07-30T23:25:50.877708Z",
     "start_time": "2024-07-30T23:25:50.863702Z"
    }
   },
   "cell_type": "code",
   "source": [
    "headers_to_split_on = [\n",
    "    (\"#\", \"header1\"),\n",
    "    (\"##\", \"header2\"),\n",
    "]"
   ],
   "id": "3b4e7d873c7df039",
   "outputs": [],
   "execution_count": 3
  },
  {
   "metadata": {
    "ExecuteTime": {
     "end_time": "2024-07-30T23:25:51.313881Z",
     "start_time": "2024-07-30T23:25:50.878662Z"
    }
   },
   "cell_type": "code",
   "source": [
    "from langchain_text_splitters import MarkdownHeaderTextSplitter\n",
    "\n",
    "text_splitter = MarkdownHeaderTextSplitter(headers_to_split_on)\n"
   ],
   "id": "d37238403119b88f",
   "outputs": [],
   "execution_count": 4
  },
  {
   "metadata": {
    "ExecuteTime": {
     "end_time": "2024-07-30T23:25:51.329750Z",
     "start_time": "2024-07-30T23:25:51.315788Z"
    }
   },
   "cell_type": "code",
   "source": "texts = text_splitter.split_text(load_file(\"data/荣耀Magic V Flip.txt\"))",
   "id": "92f80cb8c213c285",
   "outputs": [],
   "execution_count": 5
  },
  {
   "metadata": {
    "ExecuteTime": {
     "end_time": "2024-07-30T23:25:51.345707Z",
     "start_time": "2024-07-30T23:25:51.330747Z"
    }
   },
   "cell_type": "code",
   "source": "texts2 = text_splitter.split_text(load_file(\"data/Xiaomi MIX Flip.txt\"))",
   "id": "3b00a412ec10d006",
   "outputs": [],
   "execution_count": 6
  },
  {
   "metadata": {
    "ExecuteTime": {
     "end_time": "2024-07-30T23:25:51.361776Z",
     "start_time": "2024-07-30T23:25:51.346705Z"
    }
   },
   "cell_type": "code",
   "source": "texts3 = text_splitter.split_text(load_file(\"data/Find N3 Flip.txt\"))",
   "id": "1d1084c0c8c1bfe9",
   "outputs": [],
   "execution_count": 7
  },
  {
   "metadata": {
    "ExecuteTime": {
     "end_time": "2024-07-30T23:25:57.079896Z",
     "start_time": "2024-07-30T23:25:51.362662Z"
    }
   },
   "cell_type": "code",
   "source": [
    "from langchain_openai import OpenAIEmbeddings\n",
    "from langchain_chroma import Chroma\n",
    "\n",
    "db = Chroma.from_documents(\n",
    "    texts+texts2+texts3,\n",
    "    OpenAIEmbeddings(),\n",
    ")\n"
   ],
   "id": "daa3d19c4fe73a39",
   "outputs": [],
   "execution_count": 8
  },
  {
   "metadata": {},
   "cell_type": "markdown",
   "source": "### 元数据字段的信息",
   "id": "941eeb4b4bfba7"
  },
  {
   "metadata": {
    "ExecuteTime": {
     "end_time": "2024-07-30T23:25:57.189526Z",
     "start_time": "2024-07-30T23:25:57.080790Z"
    }
   },
   "cell_type": "code",
   "source": [
    "from langchain.chains.query_constructor.schema import AttributeInfo\n",
    "\n",
    "metadata_field_info = [\n",
    "    AttributeInfo(\n",
    "        name=\"header1\",\n",
    "        description=\"商品名称。这个产品可以是手机，电脑等\",\n",
    "        type=\"string\",\n",
    "    ),\n",
    "    AttributeInfo(\n",
    "        name=\"header2\",\n",
    "        description=\"商品详细参数的类别信息。包括但不限于：颜色，价格，影像参数，电池，cpu等信息\",\n",
    "        type=\"string\",\n",
    "    ),\n",
    "]"
   ],
   "id": "e8e0d94c38a17954",
   "outputs": [],
   "execution_count": 9
  },
  {
   "metadata": {},
   "cell_type": "markdown",
   "source": "## 构建",
   "id": "e79cba92e6631178"
  },
  {
   "metadata": {},
   "cell_type": "code",
   "outputs": [],
   "execution_count": null,
   "source": "document_content_description = \"商品详细参数的类别信息的正文，里面不会有具体商品和类型信息，全部由metadata提供。例如：header1：小米6，header2：电池，正文：电池容量为4000mAh，支持快充。\"",
   "id": "80232106b1f66363"
  },
  {
   "metadata": {
    "ExecuteTime": {
     "end_time": "2024-07-30T23:35:53.555216Z",
     "start_time": "2024-07-30T23:35:53.544128Z"
    }
   },
   "cell_type": "code",
   "source": [
    "from langchain.chains.query_constructor.base import StructuredQueryOutputParser, get_query_constructor_prompt\n",
    "\n",
    "prompt = get_query_constructor_prompt(\n",
    "    document_content_description,\n",
    "    metadata_field_info,\n",
    ")\n",
    "# output_parser = StructuredQueryOutputParser.from_components()\n",
    "# query_constructor = prompt | llm | output_parser"
   ],
   "id": "3c3cf61fc7dbcc09",
   "outputs": [],
   "execution_count": 12
  },
  {
   "metadata": {
    "ExecuteTime": {
     "end_time": "2024-07-30T23:35:54.382932Z",
     "start_time": "2024-07-30T23:35:54.369970Z"
    }
   },
   "cell_type": "code",
   "source": "prompt.format(query=\"荣耀Magic V Flip的颜色\")",
   "id": "92aa66d2538826a5",
   "outputs": [
    {
     "data": {
      "text/plain": [
       "'Your goal is to structure the user\\'s query to match the request schema provided below.\\n\\n<< Structured Request Schema >>\\nWhen responding use a markdown code snippet with a JSON object formatted in the following schema:\\n\\n```json\\n{\\n    \"query\": string \\\\ text string to compare to document contents\\n    \"filter\": string \\\\ logical condition statement for filtering documents\\n}\\n```\\n\\nThe query string should contain only text that is expected to match the contents of documents. Any conditions in the filter should not be mentioned in the query as well.\\n\\nA logical condition statement is composed of one or more comparison and logical operation statements.\\n\\nA comparison statement takes the form: `comp(attr, val)`:\\n- `comp` (eq | ne | gt | gte | lt | lte | contain | like | in | nin): comparator\\n- `attr` (string):  name of attribute to apply the comparison to\\n- `val` (string): is the comparison value\\n\\nA logical operation statement takes the form `op(statement1, statement2, ...)`:\\n- `op` (and | or | not): logical operator\\n- `statement1`, `statement2`, ... (comparison statements or logical operation statements): one or more statements to apply the operation to\\n\\nMake sure that you only use the comparators and logical operators listed above and no others.\\nMake sure that filters only refer to attributes that exist in the data source.\\nMake sure that filters only use the attributed names with its function names if there are functions applied on them.\\nMake sure that filters only use format `YYYY-MM-DD` when handling date data typed values.\\nMake sure that filters take into account the descriptions of attributes and only make comparisons that are feasible given the type of data being stored.\\nMake sure that filters are only used as needed. If there are no filters that should be applied return \"NO_FILTER\" for the filter value.\\n\\n<< Example 1. >>\\nData Source:\\n```json\\n{\\n    \"content\": \"Lyrics of a song\",\\n    \"attributes\": {\\n        \"artist\": {\\n            \"type\": \"string\",\\n            \"description\": \"Name of the song artist\"\\n        },\\n        \"length\": {\\n            \"type\": \"integer\",\\n            \"description\": \"Length of the song in seconds\"\\n        },\\n        \"genre\": {\\n            \"type\": \"string\",\\n            \"description\": \"The song genre, one of \"pop\", \"rock\" or \"rap\"\"\\n        }\\n    }\\n}\\n```\\n\\nUser Query:\\nWhat are songs by Taylor Swift or Katy Perry about teenage romance under 3 minutes long in the dance pop genre\\n\\nStructured Request:\\n```json\\n{\\n    \"query\": \"teenager love\",\\n    \"filter\": \"and(or(eq(\\\\\"artist\\\\\", \\\\\"Taylor Swift\\\\\"), eq(\\\\\"artist\\\\\", \\\\\"Katy Perry\\\\\")), lt(\\\\\"length\\\\\", 180), eq(\\\\\"genre\\\\\", \\\\\"pop\\\\\"))\"\\n}\\n```\\n\\n\\n<< Example 2. >>\\nData Source:\\n```json\\n{\\n    \"content\": \"Lyrics of a song\",\\n    \"attributes\": {\\n        \"artist\": {\\n            \"type\": \"string\",\\n            \"description\": \"Name of the song artist\"\\n        },\\n        \"length\": {\\n            \"type\": \"integer\",\\n            \"description\": \"Length of the song in seconds\"\\n        },\\n        \"genre\": {\\n            \"type\": \"string\",\\n            \"description\": \"The song genre, one of \"pop\", \"rock\" or \"rap\"\"\\n        }\\n    }\\n}\\n```\\n\\nUser Query:\\nWhat are songs that were not published on Spotify\\n\\nStructured Request:\\n```json\\n{\\n    \"query\": \"\",\\n    \"filter\": \"NO_FILTER\"\\n}\\n```\\n\\n\\n<< Example 3. >>\\nData Source:\\n```json\\n{\\n    \"content\": \"商品详细参数的类别信息的正文，里面不会有具体商品和类型信息，全部由metadata提供。例如：header1：小米6，header2：电池，正文：电池容量为4000mAh，支持快充。\",\\n    \"attributes\": {\\n    \"header1\": {\\n        \"description\": \"\\\\u5546\\\\u54c1\\\\u540d\\\\u79f0\\\\u3002\\\\u8fd9\\\\u4e2a\\\\u4ea7\\\\u54c1\\\\u53ef\\\\u4ee5\\\\u662f\\\\u624b\\\\u673a\\\\uff0c\\\\u7535\\\\u8111\\\\u7b49\",\\n        \"type\": \"string\"\\n    },\\n    \"header2\": {\\n        \"description\": \"\\\\u5546\\\\u54c1\\\\u8be6\\\\u7ec6\\\\u53c2\\\\u6570\\\\u7684\\\\u7c7b\\\\u522b\\\\u4fe1\\\\u606f\\\\u3002\\\\u5305\\\\u62ec\\\\u4f46\\\\u4e0d\\\\u9650\\\\u4e8e\\\\uff1a\\\\u989c\\\\u8272\\\\uff0c\\\\u4ef7\\\\u683c\\\\uff0c\\\\u5f71\\\\u50cf\\\\u53c2\\\\u6570\\\\uff0c\\\\u7535\\\\u6c60\\\\uff0ccpu\\\\u7b49\\\\u4fe1\\\\u606f\",\\n        \"type\": \"string\"\\n    }\\n}\\n}\\n```\\n\\nUser Query:\\n荣耀Magic V Flip的颜色\\n\\nStructured Request:\\n'"
      ]
     },
     "execution_count": 13,
     "metadata": {},
     "output_type": "execute_result"
    }
   ],
   "execution_count": 13
  },
  {
   "metadata": {
    "ExecuteTime": {
     "end_time": "2024-07-30T23:25:58.344872Z",
     "start_time": "2024-07-30T23:25:57.190519Z"
    }
   },
   "cell_type": "code",
   "source": [
    "from langchain_openai import ChatOpenAI\n",
    "from langchain.retrievers.self_query.base import SelfQueryRetriever\n",
    "\n",
    "\n",
    "llm = ChatOpenAI(temperature=0)\n",
    "retriever = SelfQueryRetriever.from_llm(\n",
    "    llm,\n",
    "    db,\n",
    "    document_content_description,\n",
    "    metadata_field_info,\n",
    ")"
   ],
   "id": "e6010f6c4e154e4f",
   "outputs": [],
   "execution_count": 10
  },
  {
   "metadata": {
    "ExecuteTime": {
     "end_time": "2024-07-30T23:26:00.177744Z",
     "start_time": "2024-07-30T23:25:58.345868Z"
    }
   },
   "cell_type": "code",
   "source": "retriever.invoke(\"荣耀Magic V Flip的颜色\")",
   "id": "91f65c86ea8ffd94",
   "outputs": [
    {
     "data": {
      "text/plain": [
       "[Document(metadata={'header1': 'Xiaomi MIX Flip', 'header2': '价格'}, page_content='RMB 5999 (12GB+256GB)\\nRMB 6499 (12GB+512GB)\\nRMB 7299 (16GB+1TB 幻影紫，白色)'),\n",
       " Document(metadata={'header1': '荣耀Magic V Flip', 'header2': '操作系统'}, page_content='MagicOS 8.0（基于Android 14）\\n用户界面\\nMagicOS 8.0'),\n",
       " Document(metadata={'header1': 'Find N3 Flip', 'header2': '颜色'}, page_content='月光缪斯 | 薄雾玫瑰 | 镜中之夜  \\n入网型号：PHT110'),\n",
       " Document(metadata={'header1': '荣耀Magic V Flip', 'header2': '包装清单'}, page_content='外包装采用塑封，彩盒内标配：\\n1）手机（含内置电池）x 1\\n2）快速指南x 1\\n3）HONOR SuperCharge充电器x 1\\n4）USB Type-C 数据线x 1\\n5）取卡针x 1\\n6）保护壳x 1\\n7）新机权益卡（含新机权益和电子三包凭证） x1\\n8）内屏保护膜（出厂贴在屏幕上）x 1\\n9）外屏保护膜（出厂贴在屏幕上）x 1\\n高定款：\\n外包装采用塑封，彩盒内标配：\\n1）手机（含内置电池）x 1\\n2）快速指南x 1\\n3）HONOR SuperCharge充电器x 1\\n4）USB Type-C 数据线x 1\\n5）取卡针x 1\\n6）保护壳x 2\\n7）新机权益卡（含新机权益和电子三包凭证） x1\\n8）内屏保护膜（出厂贴在屏幕上）x 1\\n9）外屏保护膜（出厂贴在屏幕上）x 1\\n备注：最终以实物为准。')]"
      ]
     },
     "execution_count": 11,
     "metadata": {},
     "output_type": "execute_result"
    }
   ],
   "execution_count": 11
  }
 ],
 "metadata": {
  "kernelspec": {
   "display_name": "Python 3",
   "language": "python",
   "name": "python3"
  },
  "language_info": {
   "codemirror_mode": {
    "name": "ipython",
    "version": 2
   },
   "file_extension": ".py",
   "mimetype": "text/x-python",
   "name": "python",
   "nbconvert_exporter": "python",
   "pygments_lexer": "ipython2",
   "version": "2.7.6"
  }
 },
 "nbformat": 4,
 "nbformat_minor": 5
}
