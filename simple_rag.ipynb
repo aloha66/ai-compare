{
 "cells": [
  {
   "metadata": {
    "ExecuteTime": {
     "end_time": "2024-07-21T02:55:05.378844Z",
     "start_time": "2024-07-21T02:55:05.363728Z"
    }
   },
   "cell_type": "code",
   "source": "import config.env",
   "id": "ae6c2c3e0c91e70e",
   "outputs": [],
   "execution_count": 56
  },
  {
   "metadata": {
    "ExecuteTime": {
     "end_time": "2024-07-21T02:55:05.393829Z",
     "start_time": "2024-07-21T02:55:05.379839Z"
    }
   },
   "cell_type": "code",
   "source": [
    "# import os\n",
    "# \n",
    "# os.environ[\"LANGSMITH_TRACING\"] = \"true\""
   ],
   "id": "f262e81bef17c78f",
   "outputs": [],
   "execution_count": 57
  },
  {
   "metadata": {
    "ExecuteTime": {
     "end_time": "2024-07-21T02:55:05.468614Z",
     "start_time": "2024-07-21T02:55:05.394825Z"
    }
   },
   "cell_type": "code",
   "source": [
    "from langchain_openai import OpenAIEmbeddings\n",
    "from langchain_community.vectorstores import FAISS\n",
    "\n",
    "save_local = \"save_local\"\n",
    "\n",
    "db = FAISS.load_local(save_local, OpenAIEmbeddings(),allow_dangerous_deserialization=True)"
   ],
   "id": "e7cdbb9ce839e0cd",
   "outputs": [],
   "execution_count": 58
  },
  {
   "cell_type": "code",
   "id": "66765ced4a4b781d",
   "metadata": {
    "ExecuteTime": {
     "end_time": "2024-07-21T02:55:05.483574Z",
     "start_time": "2024-07-21T02:55:05.470609Z"
    }
   },
   "source": [
    "# query = \"MacBook Air15寸的重量\"\n",
    "\n",
    "query = \"MacBook Air15寸的尺寸\"\n",
    "\n",
    "# query = \"MacBook Air16寸的尺寸\""
   ],
   "outputs": [],
   "execution_count": 59
  },
  {
   "cell_type": "code",
   "id": "9659aef8e5f10fef",
   "metadata": {
    "ExecuteTime": {
     "end_time": "2024-07-21T02:55:05.498534Z",
     "start_time": "2024-07-21T02:55:05.484572Z"
    }
   },
   "source": [
    "## 当向量数据库中没有合适答案时，使用大语言模型能力"
   ],
   "outputs": [],
   "execution_count": 60
  },
  {
   "cell_type": "code",
   "id": "d1d9d6190821dc13",
   "metadata": {
    "ExecuteTime": {
     "end_time": "2024-07-21T02:55:05.514152Z",
     "start_time": "2024-07-21T02:55:05.499194Z"
    }
   },
   "source": [
    "from langchain.globals import set_debug,set_verbose\n",
    "\n",
    "import logging\n",
    "\n",
    "logging.basicConfig(filename=\"log.log\")\n",
    "\n",
    "set_verbose(True) # 没有更多的信息\n",
    "set_debug(True)  # 全部的信息，太多了"
   ],
   "outputs": [],
   "execution_count": 61
  },
  {
   "cell_type": "code",
   "id": "64cf668cdb4bb155",
   "metadata": {
    "ExecuteTime": {
     "end_time": "2024-07-21T02:55:05.529140Z",
     "start_time": "2024-07-21T02:55:05.515149Z"
    }
   },
   "source": [
    "def format_docs(docs):\n",
    "    return \"\\n\\n\".join(doc.page_content  for doc in docs)"
   ],
   "outputs": [],
   "execution_count": 62
  },
  {
   "cell_type": "code",
   "id": "744d1ebb2de948c6",
   "metadata": {
    "ExecuteTime": {
     "end_time": "2024-07-21T02:55:05.544100Z",
     "start_time": "2024-07-21T02:55:05.530137Z"
    }
   },
   "source": [
    "from langchain_core.prompts import ChatPromptTemplate\n",
    "\n",
    "template = \"\"\"\n",
    "# 角色\n",
    "你是一位专业且极具洞察力的商品问答专家，\n",
    "拥有精准的眼光和丰富的经验，能够迅速且透彻地理解用户的问题，\n",
    "在丰富的知识库中高效、准确地搜索有用信息，\n",
    "为用户提供详尽、精确且易于理解的答案。\n",
    "\n",
    "## 技能\n",
    "### 技能 1: 深度剖析与精确搜索\n",
    "1. 全方位、深层次地剖析用户提出的问题，精准提取关键核心要点。\n",
    "2. 依据关键要点，在知识库中进行全面、深入且精确的检索。\n",
    "\n",
    "### 技能 2: 细致对比商品差异\n",
    "1. 依据检索获取的商品信息，梳理并对比每件商品之间的信息差别、区别，把每项结果记录下来。例如：都有描述屏幕大小，一个是6寸，一个是5.5寸，这就是两者的差异、区别。把结果存起来，为后面的回复做准备\n",
    "2. 若商品不存在差异点，则无需记录。\n",
    "\n",
    "### 技能 3: 精心组织回复\n",
    "1. 将技能 2得出的差异结果，以清晰、有条理的表格形式展示。\n",
    "2. 为用户生成确切、简洁且通俗易懂的回答。\n",
    "\n",
    "## 约束\n",
    "- 如果检索结果没有数据，请如实回答没有数据，不要自作主张填充或修改数据。\n",
    "- 只回答与产品有关的问题，坚决不涉及无关内容。\n",
    "- 始终使用清晰、简洁、通俗易懂的语言回应用户的问题。\n",
    "\n",
    "#\n",
    "Context: {context}\n",
    "\n",
    "Question: {question}\n",
    "\"\"\"\n",
    "\n",
    "prompt = ChatPromptTemplate.from_messages(\n",
    "    [\"system\",template,(\"user\", \"{question}\")],\n",
    ")"
   ],
   "outputs": [],
   "execution_count": 63
  },
  {
   "cell_type": "code",
   "id": "b69906fe6a0ced99",
   "metadata": {
    "ExecuteTime": {
     "end_time": "2024-07-21T02:55:05.603943Z",
     "start_time": "2024-07-21T02:55:05.545097Z"
    }
   },
   "source": [
    "from langchain_openai import ChatOpenAI\n",
    "\n",
    "llm = ChatOpenAI(model=\"gpt-4o-ca\",)"
   ],
   "outputs": [],
   "execution_count": 64
  },
  {
   "cell_type": "code",
   "id": "807cff070e69e183",
   "metadata": {
    "ExecuteTime": {
     "end_time": "2024-07-21T02:55:05.619035Z",
     "start_time": "2024-07-21T02:55:05.605935Z"
    }
   },
   "source": [
    "from langchain_core.runnables import RunnablePassthrough\n",
    "from langchain_core.output_parsers import StrOutputParser\n",
    "\n",
    "qa_chain = (\n",
    "    {\n",
    "        \"context\": db.as_retriever(  search_type=\"similarity_score_threshold\",\n",
    "    search_kwargs={\"score_threshold\": 0.8}) | format_docs,\n",
    "        \"question\": RunnablePassthrough()\n",
    "    }\n",
    "    | prompt\n",
    "    | llm\n",
    "    | StrOutputParser()\n",
    ")"
   ],
   "outputs": [],
   "execution_count": 65
  },
  {
   "cell_type": "code",
   "id": "f8adde36cc789702",
   "metadata": {
    "ExecuteTime": {
     "end_time": "2024-07-21T02:55:10.014596Z",
     "start_time": "2024-07-21T02:55:05.620032Z"
    }
   },
   "source": [
    "qa_chain.invoke(query)"
   ],
   "outputs": [
    {
     "name": "stdout",
     "output_type": "stream",
     "text": [
      "\u001B[32;1m\u001B[1;3m[chain/start]\u001B[0m \u001B[1m[chain:RunnableSequence] Entering Chain run with input:\n",
      "\u001B[0m{\n",
      "  \"input\": \"MacBook Air15寸的尺寸\"\n",
      "}\n",
      "\u001B[32;1m\u001B[1;3m[chain/start]\u001B[0m \u001B[1m[chain:RunnableSequence > chain:RunnableParallel<context,question>] Entering Chain run with input:\n",
      "\u001B[0m{\n",
      "  \"input\": \"MacBook Air15寸的尺寸\"\n",
      "}\n",
      "\u001B[32;1m\u001B[1;3m[chain/start]\u001B[0m \u001B[1m[chain:RunnableSequence > chain:RunnableParallel<context,question> > chain:RunnablePassthrough] Entering Chain run with input:\n",
      "\u001B[0m{\n",
      "  \"input\": \"MacBook Air15寸的尺寸\"\n",
      "}\n",
      "\u001B[36;1m\u001B[1;3m[chain/end]\u001B[0m \u001B[1m[chain:RunnableSequence > chain:RunnableParallel<context,question> > chain:RunnablePassthrough] [0ms] Exiting Chain run with output:\n",
      "\u001B[0m{\n",
      "  \"output\": \"MacBook Air15寸的尺寸\"\n",
      "}\n",
      "\u001B[32;1m\u001B[1;3m[chain/start]\u001B[0m \u001B[1m[chain:RunnableSequence > chain:RunnableParallel<context,question> > chain:RunnableSequence] Entering Chain run with input:\n",
      "\u001B[0m{\n",
      "  \"input\": \"MacBook Air15寸的尺寸\"\n",
      "}\n",
      "\u001B[32;1m\u001B[1;3m[chain/start]\u001B[0m \u001B[1m[chain:RunnableSequence > chain:RunnableParallel<context,question> > chain:RunnableSequence > chain:format_docs] Entering Chain run with input:\n",
      "\u001B[0m[inputs]\n",
      "\u001B[36;1m\u001B[1;3m[chain/end]\u001B[0m \u001B[1m[chain:RunnableSequence > chain:RunnableParallel<context,question> > chain:RunnableSequence > chain:format_docs] [2ms] Exiting Chain run with output:\n",
      "\u001B[0m{\n",
      "  \"output\": \"# MacBook Air15寸\\n\\n## 外观\\n\\n银色、星光色、深空灰色、午夜色\\n\\n## 价格\\n\\nRMB 10,499\\nRMB 11,999\\nRMB 13,499\\n\\n# MacBook Air13寸\\n\\n## 外观\\n\\n银色 星光色 深空灰色 午夜色\\n\\n## 价格\\n\\nRMB 7999 (8 核图形处理器，256GB 固态硬盘)\\nRMB 9499 (10 核图形处理器，512GB 固态硬盘)\\nRMB 8999\\nRMB 10,499\\nRMB 11,999\\n\\n充电和外设扩展\\n\\nMagSafe 3 充电端口\\n3.5 毫米耳机插孔\\n两个雷雳 / USB 4 端口，均可支持：\\n充电\\nDisplayPort\\n雷雳 3 (速率最高可达 40Gb/s)\\nUSB 4 (速率最高可达 40Gb/s)\\nMagSafe 33.5 毫米耳机插孔雷雳 / USB 4\\n显示器支持\\n同时支持初始分辨率下的内置显示屏 (可显示 10 亿色彩) 以及：\\n一台分辨率最高达 6K (60Hz) 的外接显示器\\n闭合 MacBook Air 可使用第二台外接显示器，分辨率最高达 5K (60Hz)\\n支持的格式包括 HEVC、H.264、AV1 和 ProRes\\n支持杜比视界、HDR10 和 HLG，并可显示 HDR 画质\\n音频播放\\n支持的格式包括 AAC、MP3、Apple 保真压缩、FLAC、杜比数字、杜比数字+、杜比全景声\\n键盘和触控板\\n背光妙控键盘，配备：\\n78 个 (ANSI) 或 79 个 (ISO) 按键，包括 12 个全尺寸功能键和 4 个方向键 (呈倒 T 形排列)\\n触控 ID\\n环境光传感器\\n力度触控板可实现精准光标控制和压力感应功能；支持用力点按、加速控制、压力感应绘图和多点触控手势\"\n",
      "}\n",
      "\u001B[36;1m\u001B[1;3m[chain/end]\u001B[0m \u001B[1m[chain:RunnableSequence > chain:RunnableParallel<context,question> > chain:RunnableSequence] [2.28s] Exiting Chain run with output:\n",
      "\u001B[0m{\n",
      "  \"output\": \"# MacBook Air15寸\\n\\n## 外观\\n\\n银色、星光色、深空灰色、午夜色\\n\\n## 价格\\n\\nRMB 10,499\\nRMB 11,999\\nRMB 13,499\\n\\n# MacBook Air13寸\\n\\n## 外观\\n\\n银色 星光色 深空灰色 午夜色\\n\\n## 价格\\n\\nRMB 7999 (8 核图形处理器，256GB 固态硬盘)\\nRMB 9499 (10 核图形处理器，512GB 固态硬盘)\\nRMB 8999\\nRMB 10,499\\nRMB 11,999\\n\\n充电和外设扩展\\n\\nMagSafe 3 充电端口\\n3.5 毫米耳机插孔\\n两个雷雳 / USB 4 端口，均可支持：\\n充电\\nDisplayPort\\n雷雳 3 (速率最高可达 40Gb/s)\\nUSB 4 (速率最高可达 40Gb/s)\\nMagSafe 33.5 毫米耳机插孔雷雳 / USB 4\\n显示器支持\\n同时支持初始分辨率下的内置显示屏 (可显示 10 亿色彩) 以及：\\n一台分辨率最高达 6K (60Hz) 的外接显示器\\n闭合 MacBook Air 可使用第二台外接显示器，分辨率最高达 5K (60Hz)\\n支持的格式包括 HEVC、H.264、AV1 和 ProRes\\n支持杜比视界、HDR10 和 HLG，并可显示 HDR 画质\\n音频播放\\n支持的格式包括 AAC、MP3、Apple 保真压缩、FLAC、杜比数字、杜比数字+、杜比全景声\\n键盘和触控板\\n背光妙控键盘，配备：\\n78 个 (ANSI) 或 79 个 (ISO) 按键，包括 12 个全尺寸功能键和 4 个方向键 (呈倒 T 形排列)\\n触控 ID\\n环境光传感器\\n力度触控板可实现精准光标控制和压力感应功能；支持用力点按、加速控制、压力感应绘图和多点触控手势\"\n",
      "}\n",
      "\u001B[36;1m\u001B[1;3m[chain/end]\u001B[0m \u001B[1m[chain:RunnableSequence > chain:RunnableParallel<context,question>] [2.29s] Exiting Chain run with output:\n",
      "\u001B[0m{\n",
      "  \"context\": \"# MacBook Air15寸\\n\\n## 外观\\n\\n银色、星光色、深空灰色、午夜色\\n\\n## 价格\\n\\nRMB 10,499\\nRMB 11,999\\nRMB 13,499\\n\\n# MacBook Air13寸\\n\\n## 外观\\n\\n银色 星光色 深空灰色 午夜色\\n\\n## 价格\\n\\nRMB 7999 (8 核图形处理器，256GB 固态硬盘)\\nRMB 9499 (10 核图形处理器，512GB 固态硬盘)\\nRMB 8999\\nRMB 10,499\\nRMB 11,999\\n\\n充电和外设扩展\\n\\nMagSafe 3 充电端口\\n3.5 毫米耳机插孔\\n两个雷雳 / USB 4 端口，均可支持：\\n充电\\nDisplayPort\\n雷雳 3 (速率最高可达 40Gb/s)\\nUSB 4 (速率最高可达 40Gb/s)\\nMagSafe 33.5 毫米耳机插孔雷雳 / USB 4\\n显示器支持\\n同时支持初始分辨率下的内置显示屏 (可显示 10 亿色彩) 以及：\\n一台分辨率最高达 6K (60Hz) 的外接显示器\\n闭合 MacBook Air 可使用第二台外接显示器，分辨率最高达 5K (60Hz)\\n支持的格式包括 HEVC、H.264、AV1 和 ProRes\\n支持杜比视界、HDR10 和 HLG，并可显示 HDR 画质\\n音频播放\\n支持的格式包括 AAC、MP3、Apple 保真压缩、FLAC、杜比数字、杜比数字+、杜比全景声\\n键盘和触控板\\n背光妙控键盘，配备：\\n78 个 (ANSI) 或 79 个 (ISO) 按键，包括 12 个全尺寸功能键和 4 个方向键 (呈倒 T 形排列)\\n触控 ID\\n环境光传感器\\n力度触控板可实现精准光标控制和压力感应功能；支持用力点按、加速控制、压力感应绘图和多点触控手势\",\n",
      "  \"question\": \"MacBook Air15寸的尺寸\"\n",
      "}\n",
      "\u001B[32;1m\u001B[1;3m[chain/start]\u001B[0m \u001B[1m[chain:RunnableSequence > prompt:ChatPromptTemplate] Entering Prompt run with input:\n",
      "\u001B[0m{\n",
      "  \"context\": \"# MacBook Air15寸\\n\\n## 外观\\n\\n银色、星光色、深空灰色、午夜色\\n\\n## 价格\\n\\nRMB 10,499\\nRMB 11,999\\nRMB 13,499\\n\\n# MacBook Air13寸\\n\\n## 外观\\n\\n银色 星光色 深空灰色 午夜色\\n\\n## 价格\\n\\nRMB 7999 (8 核图形处理器，256GB 固态硬盘)\\nRMB 9499 (10 核图形处理器，512GB 固态硬盘)\\nRMB 8999\\nRMB 10,499\\nRMB 11,999\\n\\n充电和外设扩展\\n\\nMagSafe 3 充电端口\\n3.5 毫米耳机插孔\\n两个雷雳 / USB 4 端口，均可支持：\\n充电\\nDisplayPort\\n雷雳 3 (速率最高可达 40Gb/s)\\nUSB 4 (速率最高可达 40Gb/s)\\nMagSafe 33.5 毫米耳机插孔雷雳 / USB 4\\n显示器支持\\n同时支持初始分辨率下的内置显示屏 (可显示 10 亿色彩) 以及：\\n一台分辨率最高达 6K (60Hz) 的外接显示器\\n闭合 MacBook Air 可使用第二台外接显示器，分辨率最高达 5K (60Hz)\\n支持的格式包括 HEVC、H.264、AV1 和 ProRes\\n支持杜比视界、HDR10 和 HLG，并可显示 HDR 画质\\n音频播放\\n支持的格式包括 AAC、MP3、Apple 保真压缩、FLAC、杜比数字、杜比数字+、杜比全景声\\n键盘和触控板\\n背光妙控键盘，配备：\\n78 个 (ANSI) 或 79 个 (ISO) 按键，包括 12 个全尺寸功能键和 4 个方向键 (呈倒 T 形排列)\\n触控 ID\\n环境光传感器\\n力度触控板可实现精准光标控制和压力感应功能；支持用力点按、加速控制、压力感应绘图和多点触控手势\",\n",
      "  \"question\": \"MacBook Air15寸的尺寸\"\n",
      "}\n",
      "\u001B[36;1m\u001B[1;3m[chain/end]\u001B[0m \u001B[1m[chain:RunnableSequence > prompt:ChatPromptTemplate] [1ms] Exiting Prompt run with output:\n",
      "\u001B[0m[outputs]\n",
      "\u001B[32;1m\u001B[1;3m[llm/start]\u001B[0m \u001B[1m[chain:RunnableSequence > llm:ChatOpenAI] Entering LLM run with input:\n",
      "\u001B[0m{\n",
      "  \"prompts\": [\n",
      "    \"Human: system\\nHuman: \\n# 角色\\n你是一位专业且极具洞察力的商品问答专家，\\n拥有精准的眼光和丰富的经验，能够迅速且透彻地理解用户的问题，\\n在丰富的知识库中高效、准确地搜索有用信息，\\n为用户提供详尽、精确且易于理解的答案。\\n\\n## 技能\\n### 技能 1: 深度剖析与精确搜索\\n1. 全方位、深层次地剖析用户提出的问题，精准提取关键核心要点。\\n2. 依据关键要点，在知识库中进行全面、深入且精确的检索。\\n\\n### 技能 2: 细致对比商品差异\\n1. 依据检索获取的商品信息，梳理并对比每件商品之间的信息差别、区别，把每项结果记录下来。例如：都有描述屏幕大小，一个是6寸，一个是5.5寸，这就是两者的差异、区别。把结果存起来，为后面的回复做准备\\n2. 若商品不存在差异点，则无需记录。\\n\\n### 技能 3: 精心组织回复\\n1. 将技能 2得出的差异结果，以清晰、有条理的表格形式展示。\\n2. 为用户生成确切、简洁且通俗易懂的回答。\\n\\n## 约束\\n- 如果检索结果没有数据，请如实回答没有数据，不要自作主张填充或修改数据。\\n- 只回答与产品有关的问题，坚决不涉及无关内容。\\n- 始终使用清晰、简洁、通俗易懂的语言回应用户的问题。\\n\\n#\\nContext: # MacBook Air15寸\\n\\n## 外观\\n\\n银色、星光色、深空灰色、午夜色\\n\\n## 价格\\n\\nRMB 10,499\\nRMB 11,999\\nRMB 13,499\\n\\n# MacBook Air13寸\\n\\n## 外观\\n\\n银色 星光色 深空灰色 午夜色\\n\\n## 价格\\n\\nRMB 7999 (8 核图形处理器，256GB 固态硬盘)\\nRMB 9499 (10 核图形处理器，512GB 固态硬盘)\\nRMB 8999\\nRMB 10,499\\nRMB 11,999\\n\\n充电和外设扩展\\n\\nMagSafe 3 充电端口\\n3.5 毫米耳机插孔\\n两个雷雳 / USB 4 端口，均可支持：\\n充电\\nDisplayPort\\n雷雳 3 (速率最高可达 40Gb/s)\\nUSB 4 (速率最高可达 40Gb/s)\\nMagSafe 33.5 毫米耳机插孔雷雳 / USB 4\\n显示器支持\\n同时支持初始分辨率下的内置显示屏 (可显示 10 亿色彩) 以及：\\n一台分辨率最高达 6K (60Hz) 的外接显示器\\n闭合 MacBook Air 可使用第二台外接显示器，分辨率最高达 5K (60Hz)\\n支持的格式包括 HEVC、H.264、AV1 和 ProRes\\n支持杜比视界、HDR10 和 HLG，并可显示 HDR 画质\\n音频播放\\n支持的格式包括 AAC、MP3、Apple 保真压缩、FLAC、杜比数字、杜比数字+、杜比全景声\\n键盘和触控板\\n背光妙控键盘，配备：\\n78 个 (ANSI) 或 79 个 (ISO) 按键，包括 12 个全尺寸功能键和 4 个方向键 (呈倒 T 形排列)\\n触控 ID\\n环境光传感器\\n力度触控板可实现精准光标控制和压力感应功能；支持用力点按、加速控制、压力感应绘图和多点触控手势\\n\\nQuestion: MacBook Air15寸的尺寸\\n\\nHuman: MacBook Air15寸的尺寸\"\n",
      "  ]\n",
      "}\n",
      "\u001B[36;1m\u001B[1;3m[llm/end]\u001B[0m \u001B[1m[chain:RunnableSequence > llm:ChatOpenAI] [2.09s] Exiting LLM run with output:\n",
      "\u001B[0m{\n",
      "  \"generations\": [\n",
      "    [\n",
      "      {\n",
      "        \"text\": \"很抱歉，当前提供的信息中没有包含MacBook Air 15寸的具体尺寸数据。您可以访问苹果官网或联系苹果客服获取最新的产品规格和详细信息。\",\n",
      "        \"generation_info\": {\n",
      "          \"finish_reason\": \"stop\",\n",
      "          \"logprobs\": null\n",
      "        },\n",
      "        \"type\": \"ChatGeneration\",\n",
      "        \"message\": {\n",
      "          \"lc\": 1,\n",
      "          \"type\": \"constructor\",\n",
      "          \"id\": [\n",
      "            \"langchain\",\n",
      "            \"schema\",\n",
      "            \"messages\",\n",
      "            \"AIMessage\"\n",
      "          ],\n",
      "          \"kwargs\": {\n",
      "            \"content\": \"很抱歉，当前提供的信息中没有包含MacBook Air 15寸的具体尺寸数据。您可以访问苹果官网或联系苹果客服获取最新的产品规格和详细信息。\",\n",
      "            \"response_metadata\": {\n",
      "              \"token_usage\": {\n",
      "                \"completion_tokens\": 39,\n",
      "                \"prompt_tokens\": 886,\n",
      "                \"total_tokens\": 925\n",
      "              },\n",
      "              \"model_name\": \"gpt-4o-2024-05-13\",\n",
      "              \"system_fingerprint\": \"fp_400f27fa1f\",\n",
      "              \"finish_reason\": \"stop\",\n",
      "              \"logprobs\": null\n",
      "            },\n",
      "            \"type\": \"ai\",\n",
      "            \"id\": \"run-a214d6ee-0b90-48b6-8e7b-38cac3b1a8a7-0\",\n",
      "            \"usage_metadata\": {\n",
      "              \"input_tokens\": 886,\n",
      "              \"output_tokens\": 39,\n",
      "              \"total_tokens\": 925\n",
      "            },\n",
      "            \"tool_calls\": [],\n",
      "            \"invalid_tool_calls\": []\n",
      "          }\n",
      "        }\n",
      "      }\n",
      "    ]\n",
      "  ],\n",
      "  \"llm_output\": {\n",
      "    \"token_usage\": {\n",
      "      \"completion_tokens\": 39,\n",
      "      \"prompt_tokens\": 886,\n",
      "      \"total_tokens\": 925\n",
      "    },\n",
      "    \"model_name\": \"gpt-4o-2024-05-13\",\n",
      "    \"system_fingerprint\": \"fp_400f27fa1f\"\n",
      "  },\n",
      "  \"run\": null\n",
      "}\n",
      "\u001B[32;1m\u001B[1;3m[chain/start]\u001B[0m \u001B[1m[chain:RunnableSequence > parser:StrOutputParser] Entering Parser run with input:\n",
      "\u001B[0m[inputs]\n",
      "\u001B[36;1m\u001B[1;3m[chain/end]\u001B[0m \u001B[1m[chain:RunnableSequence > parser:StrOutputParser] [1ms] Exiting Parser run with output:\n",
      "\u001B[0m{\n",
      "  \"output\": \"很抱歉，当前提供的信息中没有包含MacBook Air 15寸的具体尺寸数据。您可以访问苹果官网或联系苹果客服获取最新的产品规格和详细信息。\"\n",
      "}\n",
      "\u001B[36;1m\u001B[1;3m[chain/end]\u001B[0m \u001B[1m[chain:RunnableSequence] [4.38s] Exiting Chain run with output:\n",
      "\u001B[0m{\n",
      "  \"output\": \"很抱歉，当前提供的信息中没有包含MacBook Air 15寸的具体尺寸数据。您可以访问苹果官网或联系苹果客服获取最新的产品规格和详细信息。\"\n",
      "}\n"
     ]
    },
    {
     "data": {
      "text/plain": [
       "'很抱歉，当前提供的信息中没有包含MacBook Air 15寸的具体尺寸数据。您可以访问苹果官网或联系苹果客服获取最新的产品规格和详细信息。'"
      ]
     },
     "execution_count": 66,
     "metadata": {},
     "output_type": "execute_result"
    }
   ],
   "execution_count": 66
  },
  {
   "cell_type": "markdown",
   "id": "f964d878f09d1354",
   "metadata": {},
   "source": [
    "## 总结\n",
    "\n",
    "1. chunk_size不能设100，搜索的结果不一定是当前需要的信息\n",
    "例如：vector库入面存在13寸和15寸MBA的价格，按照上面的规则进行搜索，当搜索出价格就会停止（不管是谁的价格）\n",
    "\n",
    "错误答案：\n",
    "13英寸的MacBook Air有几种配置和价格选项：\\n\\n1. **RMB 10,499** - 这可能是较低配置的价格，可能包括较低的存储容量和处理器选项。\\n   \\n2. **RMB 11,999** - 这可能是中等配置的价格，可能包括更大的存储容量或者更高性能的处理器。\\n\\n3. **RMB 13,499** - 这可能是高端配置\n",
    "\n",
    "原因：\n",
    "13寸的分段\n",
    "[Document(page_content='# MacBook Air13寸\\n\\n## 外观\\n\\n银色 星光色 深空灰色 午夜色'),\n",
    " Document(page_content='价格\\n\\nRMB 7999 (8 核图形处理器，256GB 固态硬盘)\\nRMB 9499 (10 核图形处理器，512GB 固态硬盘)\\nRMB 8999\\nRMB 10,499\\nRMB 11,999'),\n",
    " \n",
    "15寸的分段：\n",
    "Document(page_content='# MacBook Air15寸\\n\\n## 外观\\n\\n银色、星光色、深空灰色、午夜色\\n\\n## 价格\\n\\nRMB 10,499\\nRMB 11,999\\nRMB 13,499'),\n",
    "\n",
    "\n",
    "2. 如果数据库搜索不出来结果，而ai又返回了数据，说明ai产生幻觉"
   ]
  },
  {
   "metadata": {
    "ExecuteTime": {
     "end_time": "2024-07-21T02:55:10.029560Z",
     "start_time": "2024-07-21T02:55:10.015594Z"
    }
   },
   "cell_type": "code",
   "source": "",
   "id": "9ea3be98d9f6a523",
   "outputs": [],
   "execution_count": 66
  }
 ],
 "metadata": {
  "kernelspec": {
   "display_name": "Python 3",
   "language": "python",
   "name": "python3"
  },
  "language_info": {
   "codemirror_mode": {
    "name": "ipython",
    "version": 2
   },
   "file_extension": ".py",
   "mimetype": "text/x-python",
   "name": "python",
   "nbconvert_exporter": "python",
   "pygments_lexer": "ipython2",
   "version": "2.7.6"
  }
 },
 "nbformat": 4,
 "nbformat_minor": 5
}
