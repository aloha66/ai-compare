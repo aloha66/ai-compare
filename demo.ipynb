{
 "cells": [
  {
   "cell_type": "markdown",
   "id": "c5f71eb5523d7a32",
   "metadata": {},
   "source": [
    "## 加载文件"
   ]
  },
  {
   "cell_type": "code",
   "id": "da0f1df7c0a31e14",
   "metadata": {
    "ExecuteTime": {
     "end_time": "2024-07-07T12:44:25.343411Z",
     "start_time": "2024-07-07T12:44:25.326604Z"
    }
   },
   "source": [
    "def load_file(path):\n",
    "    with open(path,encoding=\"utf-8\") as f:\n",
    "        return f.read()"
   ],
   "outputs": [],
   "execution_count": 30
  },
  {
   "cell_type": "code",
   "id": "initial_id",
   "metadata": {
    "ExecuteTime": {
     "end_time": "2024-07-07T12:44:25.981319Z",
     "start_time": "2024-07-07T12:44:25.966358Z"
    }
   },
   "source": [
    "txt13 = load_file(\"data/MacBook Air13寸.txt\")\n",
    "txt15 = load_file(\"data/MacBook Air15寸.txt\")"
   ],
   "outputs": [],
   "execution_count": 31
  },
  {
   "cell_type": "code",
   "id": "e493a6cd4c4be919",
   "metadata": {
    "ExecuteTime": {
     "end_time": "2024-07-07T12:44:27.351280Z",
     "start_time": "2024-07-07T12:44:27.344298Z"
    }
   },
   "source": [
    "print(f\"txt13 Total text length: {len(txt13)}\")\n",
    "print(f\"txt15 Total text length: {len(txt15)}\")"
   ],
   "outputs": [
    {
     "name": "stdout",
     "output_type": "stream",
     "text": [
      "txt13 Total text length: 3007\n",
      "txt15 Total text length: 2035\n"
     ]
    }
   ],
   "execution_count": 32
  },
  {
   "cell_type": "markdown",
   "id": "c75f86f5e02f367d",
   "metadata": {},
   "source": [
    "## 文本分割"
   ]
  },
  {
   "cell_type": "code",
   "id": "baeb46426e2439d8",
   "metadata": {
    "ExecuteTime": {
     "end_time": "2024-07-07T12:44:29.452639Z",
     "start_time": "2024-07-07T12:44:29.433689Z"
    }
   },
   "source": [
    "from langchain_text_splitters import CharacterTextSplitter\n",
    "\n",
    "text_splitter = CharacterTextSplitter(\n",
    "    separator=\"##\",\n",
    "    chunk_size=200,\n",
    "    chunk_overlap=100,\n",
    "    length_function=len,\n",
    "    is_separator_regex=True,\n",
    ")"
   ],
   "outputs": [],
   "execution_count": 33
  },
  {
   "cell_type": "code",
   "id": "d88d1157b85b29ea",
   "metadata": {
    "ExecuteTime": {
     "end_time": "2024-07-07T12:44:30.543135Z",
     "start_time": "2024-07-07T12:44:30.534133Z"
    }
   },
   "source": [
    "texts = text_splitter.create_documents([txt13,txt15])"
   ],
   "outputs": [],
   "execution_count": 34
  },
  {
   "cell_type": "code",
   "id": "65b072227cd5547a",
   "metadata": {
    "ExecuteTime": {
     "end_time": "2024-07-07T12:44:31.812713Z",
     "start_time": "2024-07-07T12:44:31.805732Z"
    }
   },
   "source": [
    "len(texts)"
   ],
   "outputs": [
    {
     "data": {
      "text/plain": [
       "26"
      ]
     },
     "execution_count": 35,
     "metadata": {},
     "output_type": "execute_result"
    }
   ],
   "execution_count": 35
  },
  {
   "cell_type": "code",
   "id": "7e167c80f01a964c",
   "metadata": {
    "ExecuteTime": {
     "end_time": "2024-07-07T12:44:32.902187Z",
     "start_time": "2024-07-07T12:44:32.889192Z"
    }
   },
   "source": [
    "texts"
   ],
   "outputs": [
    {
     "data": {
      "text/plain": [
       "[Document(page_content='# MacBook Air13寸\\n\\n## 外观\\n\\n银色 星光色 深空灰色 午夜色\\n\\n## 价格\\n\\nRMB 7999 (8 核图形处理器，256GB 固态硬盘)\\nRMB 9499 (10 核图形处理器，512GB 固态硬盘)\\nRMB 8999\\nRMB 10,499\\nRMB 11,999'),\n",
       " Document(page_content='芯片\\n\\nApple M2 芯片8核中央处理器，具有4个性能核心和4个能效核心8核或10核图形处理器—\\n16 核神经网络引擎\\n100GB/s 内存带宽\\n媒体处理引擎\\n支持 H.264、HEVC、ProRes 和 ProRes RAW 硬件加速\\n视频解码引擎\\n视频编码引擎\\nProRes 编解码引擎 —可选配：\\nM2 (8 核中央处理器和 10 核图形处理器)\\nApple M3 芯片\\n8核中央处理器，具有4个性能核心和4个能效核心8核图形处理器\\n硬件加速光线追踪\\n16核神经网络引擎\\n100GB/s内存带宽\\n媒体处理引擎\\n支持 H.264、HEVC、ProRes 和 ProRes RAW 硬件加速\\n视频解码引擎\\n视频编码引擎\\nProRes 编解码引擎\\nAV1 解码引擎\\n可选配：\\nM3 (8核中央处理器和 10核图形处理器)\\nApple M3 芯片\\n8核中央处理器，具有\\n4个性能核心和\\n4个能效核心\\n10核图形处理器\\n硬件加速光线追踪\\n16核神经网络引擎\\n100GB/s内存带宽\\n媒体处理引擎\\n支持 H.264、HEVC、ProRes 和 ProRes RAW 硬件加速\\n视频解码引擎\\n视频编码引擎\\nProRes编解码引擎\\nAV1 解码引擎\\nApple M3 芯片\\n8核中央处理器，具有\\n4个性能核心和\\n4个能效核心\\n10核图形处理器\\n硬件加速光线追踪\\n16核神经网络引擎\\n100GB/s 内存带宽\\n媒体处理引擎\\n支持 H.264、HEVC、ProRes 和 ProRes RAW 硬件加速\\n视频解码引擎\\n视频编码引擎\\nProRes 编解码引擎\\nAV1 解码引擎'),\n",
       " Document(page_content='显示屏\\n\\nLiquid 视网膜显示屏\\n13.6 英寸 (对角线) LED 背光显示屏 (采用 IPS 技术)^{1}；\\n初始分辨率 2560 x 1664 (224 ppi)\\n500 尼特亮度\\n色彩\\n支持 10 亿色彩\\n广色域 (P3)\\n原彩显示技术'),\n",
       " Document(page_content='内存\\n\\n8GB\\n8GB 统一内存\\n可选配：\\n16GB 或 24GB 8GB\\n8GB 统一内存\\n可选配：\\n16GB 或 24GB 8GB\\n8GB 统一内存\\n可选配：\\n16GB 或 24GB 16GB\\n16GB 统一内存\\n可选配：\\n24GB'),\n",
       " Document(page_content='电池和电源^{2}\\n\\n最长可达 18 小时的 Apple TV app 影片播放\\n最长可达 15 小时的无线上网\\n52.6 瓦时锂聚合物电池\\n30W USB-C 电源适配器 (随附于 8 核图形处理器的 M2 机型和 M3 机型)\\n35W 双 USB-C 端口小型电源适配器 (随附于 10 核图形处理器、512GB 存储容量的 M2 机型和 M3 机型；8 核图形处理器的 M2 机型和 M3 机型可选配)\\nUSB-C 转 MagSafe 3 连接线\\n可快速充电 (使用 70W USB-C 电源适配器)'),\n",
       " Document(page_content='存储容量^{3}\\n\\n256GB 或 512GB\\n256GB 或 512GB 固态硬盘\\n可选配：\\n512GB、1TB 或 2TB 256GB\\n256GB 固态硬盘\\n可选配：\\n512GB、1TB 或 2TB 512GB\\n512GB 固态硬盘\\n可选配：\\n1TB 或 2TB 512GB\\n512GB 固态硬盘\\n可选配：\\n1TB 或 2TB'),\n",
       " Document(page_content='充电和外设扩展\\n\\nMagSafe 3 充电端口\\n3.5 毫米耳机插孔\\n两个雷雳 / USB 4 端口，均可支持：\\n充电\\nDisplayPort\\n雷雳 3 (速率最高可达 40Gb/s)\\nUSB 4 (速率最高可达 40Gb/s)\\nMagSafe 3 3.5 毫米耳机插孔 雷雳 / USB 4\\n显示器支持 M2 机型\\n同时支持初始分辨率下的内置显示屏 (可显示 10 亿色彩) 以及：\\n一台分辨率最高达 6K (60Hz) 的外接显示器\\nM3 机型\\n同时支持初始分辨率下的内置显示屏 (可显示 10 亿色彩) 以及：\\n一台分辨率最高达 6K (60Hz) 的外接显示器\\n闭合 MacBook Air 可使用第二台外接显示器，分辨率最高达 5K (60Hz)'),\n",
       " Document(page_content='视频播放\\n\\n支持的格式包括 HEVC、H.264、AV1 和 ProRes\\n支持杜比视界、HDR10 和 HLG，并可显示 HDR 画质\\n音频播放 支持的格式包括 AAC、MP3、Apple 保真压缩、FLAC、杜比数字、杜比数字+、杜比全景声\\n键盘和触控板 背光妙控键盘，配备：\\n78 个 (ANSI) 或 79 个 (ISO) 按键，包括 12 个全尺寸功能键和 4 个方向键 (呈倒 T 形排列)\\n触控 ID\\n环境光传感器\\n力度触控板可实现精准光标控制和压力感应功能；支持用力点按、加速控制、压力感应绘图和多点触控手势'),\n",
       " Document(page_content='无线连接\\n\\nM2 机型\\nWi-Fi 6 (802.11ax)\\n蓝牙 5.3\\nM3 机型\\nWi-Fi 6E (802.11ax)^{4}\\n蓝牙 5.3\\n摄像头\\n1080p FaceTime 高清摄像头\\n先进的图像信号处理器，具备计算视频技术'),\n",
       " Document(page_content='音频\\n\\n四扬声器系统\\n使用内置扬声器播放杜比全景声音乐或视频时支持空间音频功能\\n搭配 AirPods (第三代)、AirPods Pro 或 AirPods Max 可实现支持动态头部追踪的空间音频\\n三麦克风阵列，支持定向波束成形\\n“语音突显”和“宽谱”麦克风模式\\n音频和视频通话声音更清晰 (M3 机型)\\n3.5 毫米耳机插孔，具备先进的高阻抗耳机支持功能'),\n",
       " Document(page_content='操作环境\\n\\n电压：100 伏至 240 伏交流电\\n频率：50Hz 至 60Hz\\n工作温度：10°C 至 35°C (50°F 至 95°F)\\n存放温度：–25°C 至 45°C (–13°F 至 113°F)\\n相对湿度：非凝结状态下 0% 至 90%\\n工作高度：目前测试最高可达 3000 米 (10000 英尺)\\n最高储存高度：4500 米 (15000 英尺)\\n最高装运高度：10500 米 (35000 英尺)'),\n",
       " Document(page_content='尺寸和重量\\n\\n高度：1.13 厘米 (0.44 英寸)\\n宽度：30.41 厘米 (11.97 英寸)\\n深度：21.50 厘米 (8.46 英寸)\\n重量：1.24 千克 (2.7 磅)^{5}'),\n",
       " Document(page_content='操作系统\\n\\nmacOS\\nmacOS 是先进的桌面操作系统。macOS Sonoma 的强大，让 Mac 工作和娱乐起来都更得心应手。各项新技能让你的视频演示更精彩，游戏玩起来更带劲，还有各种个性化方式助你尽情展现自己的风格。'),\n",
       " Document(page_content='包装内容\\n\\n13 英寸 MacBook Air\\n30W USB-C 电源适配器\\n(8 核图形处理器的 M2 机型和 M3 机型)\\n或\\n35W 双 USB-C 端口小型电源适配器\\n(10 核图形处理器、512GB 存储容量的 M2 机型和 M3 机型)\\nUSB-C 转 MagSafe 3 连接线\\n(2 米)'),\n",
       " Document(page_content='# MacBook Air15寸\\n\\n## 外观\\n\\n银色、星光色、深空灰色、午夜色\\n\\n## 价格\\n\\nRMB 10,499\\nRMB 11,999\\nRMB 13,499'),\n",
       " Document(page_content='芯片\\n\\nApple M3 芯片\\n8 核中央处理器，具有 4 个性能核心和 4 个能效核心\\n10 核图形处理器\\n硬件加速光线追踪\\n16 核神经网络引擎\\n100GB/s 内存带宽\\n媒体处理引擎\\n支持 H.264、HEVC、ProRes 和 ProRes RAW 硬件加速\\n视频解码引擎\\n视频编码引擎\\nProRes 编解码引擎\\nAV1 解码引擎'),\n",
       " Document(page_content='显示屏\\n\\nLiquid 视网膜显示屏\\n15.3 英寸 (对角线) LED 背光显示屏 (采用 IPS 技术)^{1}；\\n初始分辨率 2880 x 1864 (224 ppi)\\n500 尼特亮度\\n色彩\\n支持 10 亿色彩\\n广色域 (P3)\\n原彩显示技术'),\n",
       " Document(page_content='内存\\n\\n8GB\\n8GB 统一内存\\n可选配：\\n16GB 或 24GB\\n8GB\\n8GB 统一内存\\n可选配：\\n16GB 或 24GB\\n16GB\\n16GB 统一内存\\n可选配：\\n24GB'),\n",
       " Document(page_content='电池和电源^{2}\\n\\n最长可达 18 小时的 Apple TV app 影片播放\\n最长可达 15 小时的无线上网\\n66.5 瓦时锂聚合物电池\\n35W 双 USB-C 端口小型电源适配器\\nUSB-C 转 MagSafe 3 连接线\\n可快速充电 (使用 70W USB-C 电源适配器)'),\n",
       " Document(page_content='存储容量^{3}\\n\\n256GB\\n256GB 固态硬盘\\n可选配：\\n512GB、1TB 或 2TB\\n512GB\\n512GB 固态硬盘\\n可选配：\\n1TB 或 2TB\\n512GB\\n512GB 固态硬盘\\n可选配：\\n1TB 或 2TB'),\n",
       " Document(page_content='充电和外设扩展\\n\\nMagSafe 3 充电端口\\n3.5 毫米耳机插孔\\n两个雷雳 / USB 4 端口，均可支持：\\n充电\\nDisplayPort\\n雷雳 3 (速率最高可达 40Gb/s)\\nUSB 4 (速率最高可达 40Gb/s)\\nMagSafe 33.5 毫米耳机插孔雷雳 / USB 4\\n显示器支持\\n同时支持初始分辨率下的内置显示屏 (可显示 10 亿色彩) 以及：\\n一台分辨率最高达 6K (60Hz) 的外接显示器\\n闭合 MacBook Air 可使用第二台外接显示器，分辨率最高达 5K (60Hz)\\n支持的格式包括 HEVC、H.264、AV1 和 ProRes\\n支持杜比视界、HDR10 和 HLG，并可显示 HDR 画质\\n音频播放\\n支持的格式包括 AAC、MP3、Apple 保真压缩、FLAC、杜比数字、杜比数字+、杜比全景声\\n键盘和触控板\\n背光妙控键盘，配备：\\n78 个 (ANSI) 或 79 个 (ISO) 按键，包括 12 个全尺寸功能键和 4 个方向键 (呈倒 T 形排列)\\n触控 ID\\n环境光传感器\\n力度触控板可实现精准光标控制和压力感应功能；支持用力点按、加速控制、压力感应绘图和多点触控手势'),\n",
       " Document(page_content='无线连接\\n\\nWi-Fi\\nWi-Fi 6E (802.11ax)^{4}\\n蓝牙\\n蓝牙 5.3\\n摄像头\\n1080p FaceTime 高清摄像头\\n先进的图像信号处理器，具备计算视频技术'),\n",
       " Document(page_content='音频\\n\\n六扬声器系统，采用振动抵消低音单元\\n使用内置扬声器播放杜比全景声音乐或视频时支持空间音频功能\\n搭配 AirPods (第三代)、AirPods Pro 或 AirPods Max 可实现支持动态头部追踪的空间音频\\n三麦克风阵列，支持定向波束成形\\n“语音突显”和“宽谱”麦克风模式\\n音频和视频通话声音更清晰\\n3.5 毫米耳机插孔，具备先进的高阻抗耳机支持功能'),\n",
       " Document(page_content='操作环境\\n电压：100 伏至 240 伏交流电\\n频率：50Hz 至 60Hz\\n工作温度：10°C 至 35°C (50°F 至 95°F)\\n存放温度：–25°C 至 45°C (–13°F 至 113°F)\\n相对湿度：非凝结状态下 0% 至 90%\\n工作高度：目前测试最高可达 3000 米 (10000 英尺)\\n最高储存高度：4500 米 (15000 英尺)\\n最高装运高度：10500 米 (35000 英尺)'),\n",
       " Document(page_content='尺寸和重量\\n\\n高度：1.15 厘米 (0.45 英寸)\\n宽度：34.04 厘米 (13.40 英寸)\\n深度：23.76 厘米 (9.35 英寸)\\n重量：1.51 千克 (3.3 磅)^{5}\\n深度：23.76 厘米 (9.35 英寸)\\n宽度：34.04 厘米 (13.40 英寸)\\n高度：1.15 厘米 (0.45 英寸)'),\n",
       " Document(page_content='操作系统\\n\\nmacOS\\nmacOS 是先进的桌面操作系统。macOS Sonoma 的强大，让 Mac 工作和娱乐起来都更得心应手。各项新技能让你的视频演示更精彩，游戏玩起来更带劲，还有各种个性化方式助你尽情展现自己的风格。')]"
      ]
     },
     "execution_count": 36,
     "metadata": {},
     "output_type": "execute_result"
    }
   ],
   "execution_count": 36
  },
  {
   "cell_type": "markdown",
   "id": "54f05f07ab9d48b4",
   "metadata": {},
   "source": [
    "## 使用 Faiss 作为向量数据库，持久化存储"
   ]
  },
  {
   "cell_type": "code",
   "id": "37dfb35b9ffa61c1",
   "metadata": {
    "ExecuteTime": {
     "end_time": "2024-07-07T12:44:37.523167Z",
     "start_time": "2024-07-07T12:44:37.511200Z"
    }
   },
   "source": [
    "from langchain_openai import OpenAIEmbeddings\n",
    "from langchain_community.vectorstores import FAISS\n",
    "\n",
    "save_local = \"save_local\""
   ],
   "outputs": [],
   "execution_count": 37
  },
  {
   "metadata": {},
   "cell_type": "markdown",
   "source": "加载 FAISS 向量数据库已有结果",
   "id": "619b67ecdb836dcf"
  },
  {
   "metadata": {
    "ExecuteTime": {
     "end_time": "2024-07-07T12:49:51.912995Z",
     "start_time": "2024-07-07T12:49:51.839916Z"
    }
   },
   "cell_type": "code",
   "source": "db = FAISS.load_local(save_local, OpenAIEmbeddings(),allow_dangerous_deserialization=True)",
   "id": "f89a61464efd7269",
   "outputs": [],
   "execution_count": 47
  },
  {
   "cell_type": "markdown",
   "id": "fb311ec0d2f69650",
   "metadata": {},
   "source": [
    "保存向量数据"
   ]
  },
  {
   "metadata": {
    "ExecuteTime": {
     "end_time": "2024-07-07T12:46:54.731292Z",
     "start_time": "2024-07-07T12:46:50.988784Z"
    }
   },
   "cell_type": "code",
   "source": "db = FAISS.from_documents(texts, OpenAIEmbeddings())",
   "id": "e1821f6b432f57e6",
   "outputs": [],
   "execution_count": 44
  },
  {
   "cell_type": "code",
   "id": "4c98276f64d0c4a5",
   "metadata": {
    "ExecuteTime": {
     "end_time": "2024-07-07T12:47:17.286785Z",
     "start_time": "2024-07-07T12:47:17.272823Z"
    }
   },
   "source": [
    "db.save_local(save_local)"
   ],
   "outputs": [],
   "execution_count": 45
  },
  {
   "cell_type": "code",
   "id": "66765ced4a4b781d",
   "metadata": {
    "ExecuteTime": {
     "end_time": "2024-07-07T12:45:19.777361Z",
     "start_time": "2024-07-07T12:45:19.759410Z"
    }
   },
   "source": [
    "query = \"MacBook Air13寸的价格\""
   ],
   "outputs": [],
   "execution_count": 41
  },
  {
   "cell_type": "markdown",
   "id": "b08950bdf1995765",
   "metadata": {},
   "source": [
    "### 相似度查询，结果很冗余"
   ]
  },
  {
   "cell_type": "code",
   "id": "6aced777c1097f03",
   "metadata": {
    "ExecuteTime": {
     "end_time": "2024-07-07T12:49:59.382677Z",
     "start_time": "2024-07-07T12:49:58.757924Z"
    }
   },
   "source": [
    "db.similarity_search(query)"
   ],
   "outputs": [
    {
     "data": {
      "text/plain": [
       "[Document(page_content='# MacBook Air13寸\\n\\n## 外观\\n\\n银色 星光色 深空灰色 午夜色\\n\\n## 价格\\n\\nRMB 7999 (8 核图形处理器，256GB 固态硬盘)\\nRMB 9499 (10 核图形处理器，512GB 固态硬盘)\\nRMB 8999\\nRMB 10,499\\nRMB 11,999'),\n",
       " Document(page_content='# MacBook Air15寸\\n\\n## 外观\\n\\n银色、星光色、深空灰色、午夜色\\n\\n## 价格\\n\\nRMB 10,499\\nRMB 11,999\\nRMB 13,499'),\n",
       " Document(page_content='充电和外设扩展\\n\\nMagSafe 3 充电端口\\n3.5 毫米耳机插孔\\n两个雷雳 / USB 4 端口，均可支持：\\n充电\\nDisplayPort\\n雷雳 3 (速率最高可达 40Gb/s)\\nUSB 4 (速率最高可达 40Gb/s)\\nMagSafe 33.5 毫米耳机插孔雷雳 / USB 4\\n显示器支持\\n同时支持初始分辨率下的内置显示屏 (可显示 10 亿色彩) 以及：\\n一台分辨率最高达 6K (60Hz) 的外接显示器\\n闭合 MacBook Air 可使用第二台外接显示器，分辨率最高达 5K (60Hz)\\n支持的格式包括 HEVC、H.264、AV1 和 ProRes\\n支持杜比视界、HDR10 和 HLG，并可显示 HDR 画质\\n音频播放\\n支持的格式包括 AAC、MP3、Apple 保真压缩、FLAC、杜比数字、杜比数字+、杜比全景声\\n键盘和触控板\\n背光妙控键盘，配备：\\n78 个 (ANSI) 或 79 个 (ISO) 按键，包括 12 个全尺寸功能键和 4 个方向键 (呈倒 T 形排列)\\n触控 ID\\n环境光传感器\\n力度触控板可实现精准光标控制和压力感应功能；支持用力点按、加速控制、压力感应绘图和多点触控手势'),\n",
       " Document(page_content='包装内容\\n\\n13 英寸 MacBook Air\\n30W USB-C 电源适配器\\n(8 核图形处理器的 M2 机型和 M3 机型)\\n或\\n35W 双 USB-C 端口小型电源适配器\\n(10 核图形处理器、512GB 存储容量的 M2 机型和 M3 机型)\\nUSB-C 转 MagSafe 3 连接线\\n(2 米)')]"
      ]
     },
     "execution_count": 48,
     "metadata": {},
     "output_type": "execute_result"
    }
   ],
   "execution_count": 48
  },
  {
   "cell_type": "markdown",
   "id": "19694e7b45a94cde",
   "metadata": {},
   "source": [
    "### 使用 retriever 从向量数据库中获取结果\n",
    "\n",
    "#### 使用参数 `k` 指定返回结果数量"
   ]
  },
  {
   "cell_type": "code",
   "execution_count": 13,
   "id": "c32a988dd4087bad",
   "metadata": {
    "ExecuteTime": {
     "end_time": "2024-07-07T12:23:35.976800Z",
     "start_time": "2024-07-07T12:23:35.961840Z"
    }
   },
   "outputs": [],
   "source": [
    "topK_retriever = db.as_retriever(\n",
    "    search_kwargs={\"k\": 3}\n",
    ")"
   ]
  },
  {
   "cell_type": "code",
   "execution_count": 14,
   "id": "8039913ab3c030e5",
   "metadata": {
    "ExecuteTime": {
     "end_time": "2024-07-07T12:23:35.991760Z",
     "start_time": "2024-07-07T12:23:35.977797Z"
    }
   },
   "outputs": [
    {
     "data": {
      "text/plain": [
       "VectorStoreRetriever(tags=['FAISS', 'OpenAIEmbeddings'], vectorstore=<langchain_community.vectorstores.faiss.FAISS object at 0x000001C9A1412290>, search_kwargs={'k': 3})"
      ]
     },
     "execution_count": 14,
     "metadata": {},
     "output_type": "execute_result"
    }
   ],
   "source": [
    "topK_retriever"
   ]
  },
  {
   "cell_type": "code",
   "execution_count": 15,
   "id": "650cf2418a33ad0e",
   "metadata": {
    "ExecuteTime": {
     "end_time": "2024-07-07T12:23:36.490311Z",
     "start_time": "2024-07-07T12:23:35.992759Z"
    }
   },
   "outputs": [
    {
     "data": {
      "text/plain": [
       "[Document(page_content='# MacBook Air13寸\\n\\n## 外观\\n\\n银色 星光色 深空灰色 午夜色\\n\\n## 价格\\n\\nRMB 7999 (8 核图形处理器，256GB 固态硬盘)\\nRMB 9499 (10 核图形处理器，512GB 固态硬盘)\\nRMB 8999\\nRMB 10,499\\nRMB 11,999'),\n",
       " Document(page_content='# MacBook Air15寸\\n\\n## 外观\\n\\n银色、星光色、深空灰色、午夜色\\n\\n## 价格\\n\\nRMB 10,499\\nRMB 11,999\\nRMB 13,499'),\n",
       " Document(page_content='充电和外设扩展\\n\\nMagSafe 3 充电端口\\n3.5 毫米耳机插孔\\n两个雷雳 / USB 4 端口，均可支持：\\n充电\\nDisplayPort\\n雷雳 3 (速率最高可达 40Gb/s)\\nUSB 4 (速率最高可达 40Gb/s)\\nMagSafe 33.5 毫米耳机插孔雷雳 / USB 4\\n显示器支持\\n同时支持初始分辨率下的内置显示屏 (可显示 10 亿色彩) 以及：\\n一台分辨率最高达 6K (60Hz) 的外接显示器\\n闭合 MacBook Air 可使用第二台外接显示器，分辨率最高达 5K (60Hz)\\n支持的格式包括 HEVC、H.264、AV1 和 ProRes\\n支持杜比视界、HDR10 和 HLG，并可显示 HDR 画质\\n音频播放\\n支持的格式包括 AAC、MP3、Apple 保真压缩、FLAC、杜比数字、杜比数字+、杜比全景声\\n键盘和触控板\\n背光妙控键盘，配备：\\n78 个 (ANSI) 或 79 个 (ISO) 按键，包括 12 个全尺寸功能键和 4 个方向键 (呈倒 T 形排列)\\n触控 ID\\n环境光传感器\\n力度触控板可实现精准光标控制和压力感应功能；支持用力点按、加速控制、压力感应绘图和多点触控手势')]"
      ]
     },
     "execution_count": 15,
     "metadata": {},
     "output_type": "execute_result"
    }
   ],
   "source": [
    "docs = topK_retriever.invoke(query)\n",
    "docs"
   ]
  },
  {
   "cell_type": "code",
   "execution_count": 16,
   "id": "a1402c68f57620bc",
   "metadata": {
    "ExecuteTime": {
     "end_time": "2024-07-07T12:23:36.505270Z",
     "start_time": "2024-07-07T12:23:36.491309Z"
    }
   },
   "outputs": [],
   "source": [
    "#### 使用 similarity_score_threshold 设置阈值，提升结果的相关性质量"
   ]
  },
  {
   "cell_type": "code",
   "execution_count": 17,
   "id": "247000995358050f",
   "metadata": {
    "ExecuteTime": {
     "end_time": "2024-07-07T12:23:36.520347Z",
     "start_time": "2024-07-07T12:23:36.506267Z"
    }
   },
   "outputs": [],
   "source": [
    "topK_retriever = db.as_retriever(\n",
    "     search_type=\"similarity_score_threshold\",\n",
    "    search_kwargs={\"score_threshold\": 0.8}\n",
    ")"
   ]
  },
  {
   "cell_type": "code",
   "execution_count": 18,
   "id": "44b09addb7413320",
   "metadata": {
    "ExecuteTime": {
     "end_time": "2024-07-07T12:23:37.148086Z",
     "start_time": "2024-07-07T12:23:36.521853Z"
    }
   },
   "outputs": [
    {
     "data": {
      "text/plain": [
       "[Document(page_content='# MacBook Air13寸\\n\\n## 外观\\n\\n银色 星光色 深空灰色 午夜色\\n\\n## 价格\\n\\nRMB 7999 (8 核图形处理器，256GB 固态硬盘)\\nRMB 9499 (10 核图形处理器，512GB 固态硬盘)\\nRMB 8999\\nRMB 10,499\\nRMB 11,999'),\n",
       " Document(page_content='# MacBook Air15寸\\n\\n## 外观\\n\\n银色、星光色、深空灰色、午夜色\\n\\n## 价格\\n\\nRMB 10,499\\nRMB 11,999\\nRMB 13,499')]"
      ]
     },
     "execution_count": 18,
     "metadata": {},
     "output_type": "execute_result"
    }
   ],
   "source": [
    "docs = topK_retriever.invoke(query)\n",
    "docs"
   ]
  },
  {
   "cell_type": "code",
   "execution_count": 19,
   "id": "9659aef8e5f10fef",
   "metadata": {
    "ExecuteTime": {
     "end_time": "2024-07-07T12:23:37.162735Z",
     "start_time": "2024-07-07T12:23:37.149645Z"
    }
   },
   "outputs": [],
   "source": [
    "## 当向量数据库中没有合适答案时，使用大语言模型能力"
   ]
  },
  {
   "cell_type": "code",
   "execution_count": 20,
   "id": "d1d9d6190821dc13",
   "metadata": {
    "ExecuteTime": {
     "end_time": "2024-07-07T12:23:37.177961Z",
     "start_time": "2024-07-07T12:23:37.164309Z"
    }
   },
   "outputs": [],
   "source": [
    "from langchain.globals import set_debug,set_verbose\n",
    "\n",
    "import logging\n",
    "\n",
    "logging.basicConfig(filename=\"log.log\")\n",
    "\n",
    "set_verbose(True) # 没有更多的信息\n",
    "set_debug(True)  # 全部的信息，太多了"
   ]
  },
  {
   "cell_type": "code",
   "execution_count": 21,
   "id": "64cf668cdb4bb155",
   "metadata": {
    "ExecuteTime": {
     "end_time": "2024-07-07T12:23:37.192801Z",
     "start_time": "2024-07-07T12:23:37.179511Z"
    }
   },
   "outputs": [],
   "source": [
    "def format_docs(docs):\n",
    "    return \"\\n\\n\".join(doc.page_content  for doc in docs)"
   ]
  },
  {
   "cell_type": "code",
   "execution_count": 22,
   "id": "744d1ebb2de948c6",
   "metadata": {
    "ExecuteTime": {
     "end_time": "2024-07-07T12:23:37.208125Z",
     "start_time": "2024-07-07T12:23:37.195908Z"
    }
   },
   "outputs": [],
   "source": [
    "from langchain_core.prompts import ChatPromptTemplate\n",
    "\n",
    "template = \"\"\"\n",
    "# 角色\n",
    "你是一位专业且极具洞察力的商品问答专家，\n",
    "拥有精准的眼光和丰富的经验，能够迅速且透彻地理解用户的问题，\n",
    "在丰富的知识库中高效、准确地搜索有用信息，\n",
    "为用户提供详尽、精确且易于理解的答案。\n",
    "\n",
    "## 技能\n",
    "### 技能 1: 深度剖析与精确搜索\n",
    "1. 全方位、深层次地剖析用户提出的问题，精准提取关键核心要点。\n",
    "2. 依据关键要点，在知识库中进行全面、深入且精确的检索。\n",
    "\n",
    "### 技能 2: 细致对比商品差异\n",
    "1. 依据检索获取的商品信息，梳理并对比每件商品之间的信息差别、区别，把每项结果记录下来。例如：都有描述屏幕大小，一个是6寸，一个是5.5寸，这就是两者的差异、区别。把结果存起来，为后面的回复做准备\n",
    "2. 若商品不存在差异点，则无需记录。\n",
    "\n",
    "### 技能 3: 精心组织回复\n",
    "1. 将技能 2得出的差异结果，以清晰、有条理的表格形式展示。\n",
    "2. 为用户生成确切、简洁且通俗易懂的回答。\n",
    "\n",
    "## 约束\n",
    "- 如果检索结果没有数据，请如实回答没有数据。\n",
    "- 只回答与产品有关的问题，坚决不涉及无关内容。\n",
    "- 始终使用清晰、简洁、通俗易懂的语言回应用户的问题。\n",
    "\n",
    "#\n",
    "Context: {context}\n",
    "\n",
    "Question: {question}\n",
    "\"\"\"\n",
    "\n",
    "prompt = ChatPromptTemplate.from_messages(\n",
    "    [\"system\",template,(\"user\", \"{question}\")],\n",
    ")"
   ]
  },
  {
   "cell_type": "code",
   "execution_count": 23,
   "id": "b69906fe6a0ced99",
   "metadata": {
    "ExecuteTime": {
     "end_time": "2024-07-07T12:23:37.238768Z",
     "start_time": "2024-07-07T12:23:37.209788Z"
    }
   },
   "outputs": [],
   "source": [
    "from langchain_openai import ChatOpenAI\n",
    "\n",
    "llm = ChatOpenAI(\n",
    "    temperature=0,\n",
    "    base_url=\"https://api.chatanywhere.tech/v1\",\n",
    ")"
   ]
  },
  {
   "cell_type": "code",
   "execution_count": 24,
   "id": "807cff070e69e183",
   "metadata": {
    "ExecuteTime": {
     "end_time": "2024-07-07T12:23:37.253977Z",
     "start_time": "2024-07-07T12:23:37.240333Z"
    }
   },
   "outputs": [],
   "source": [
    "from langchain_core.runnables import RunnablePassthrough\n",
    "from langchain_core.output_parsers import StrOutputParser\n",
    "\n",
    "qa_chain = (\n",
    "    {\n",
    "        \"context\": db.as_retriever(  search_type=\"similarity_score_threshold\",\n",
    "    search_kwargs={\"score_threshold\": 0.8}) | format_docs,\n",
    "        \"question\": RunnablePassthrough()\n",
    "    }\n",
    "    | prompt\n",
    "    | llm\n",
    "    | StrOutputParser()\n",
    ")"
   ]
  },
  {
   "cell_type": "code",
   "execution_count": 25,
   "id": "f8adde36cc789702",
   "metadata": {
    "ExecuteTime": {
     "end_time": "2024-07-07T12:23:43.922764Z",
     "start_time": "2024-07-07T12:23:37.256085Z"
    }
   },
   "outputs": [
    {
     "name": "stdout",
     "output_type": "stream",
     "text": [
      "\u001B[32;1m\u001B[1;3m[chain/start]\u001B[0m \u001B[1m[chain:RunnableSequence] Entering Chain run with input:\n",
      "\u001B[0m{\n",
      "  \"input\": \"MacBook Air13寸的价格\"\n",
      "}\n",
      "\u001B[32;1m\u001B[1;3m[chain/start]\u001B[0m \u001B[1m[chain:RunnableSequence > chain:RunnableParallel<context,question>] Entering Chain run with input:\n",
      "\u001B[0m{\n",
      "  \"input\": \"MacBook Air13寸的价格\"\n",
      "}\n",
      "\u001B[32;1m\u001B[1;3m[chain/start]\u001B[0m \u001B[1m[chain:RunnableSequence > chain:RunnableParallel<context,question> > chain:RunnablePassthrough] Entering Chain run with input:\n",
      "\u001B[0m{\n",
      "  \"input\": \"MacBook Air13寸的价格\"\n",
      "}\n",
      "\u001B[36;1m\u001B[1;3m[chain/end]\u001B[0m \u001B[1m[chain:RunnableSequence > chain:RunnableParallel<context,question> > chain:RunnablePassthrough] [1ms] Exiting Chain run with output:\n",
      "\u001B[0m{\n",
      "  \"output\": \"MacBook Air13寸的价格\"\n",
      "}\n",
      "\u001B[32;1m\u001B[1;3m[chain/start]\u001B[0m \u001B[1m[chain:RunnableSequence > chain:RunnableParallel<context,question> > chain:RunnableSequence] Entering Chain run with input:\n",
      "\u001B[0m{\n",
      "  \"input\": \"MacBook Air13寸的价格\"\n",
      "}\n",
      "\u001B[32;1m\u001B[1;3m[chain/start]\u001B[0m \u001B[1m[chain:RunnableSequence > chain:RunnableParallel<context,question> > chain:RunnableSequence > chain:format_docs] Entering Chain run with input:\n",
      "\u001B[0m[inputs]\n",
      "\u001B[36;1m\u001B[1;3m[chain/end]\u001B[0m \u001B[1m[chain:RunnableSequence > chain:RunnableParallel<context,question> > chain:RunnableSequence > chain:format_docs] [2ms] Exiting Chain run with output:\n",
      "\u001B[0m{\n",
      "  \"output\": \"# MacBook Air13寸\\n\\n## 外观\\n\\n银色 星光色 深空灰色 午夜色\\n\\n## 价格\\n\\nRMB 7999 (8 核图形处理器，256GB 固态硬盘)\\nRMB 9499 (10 核图形处理器，512GB 固态硬盘)\\nRMB 8999\\nRMB 10,499\\nRMB 11,999\\n\\n# MacBook Air15寸\\n\\n## 外观\\n\\n银色、星光色、深空灰色、午夜色\\n\\n## 价格\\n\\nRMB 10,499\\nRMB 11,999\\nRMB 13,499\"\n",
      "}\n",
      "\u001B[36;1m\u001B[1;3m[chain/end]\u001B[0m \u001B[1m[chain:RunnableSequence > chain:RunnableParallel<context,question> > chain:RunnableSequence] [618ms] Exiting Chain run with output:\n",
      "\u001B[0m{\n",
      "  \"output\": \"# MacBook Air13寸\\n\\n## 外观\\n\\n银色 星光色 深空灰色 午夜色\\n\\n## 价格\\n\\nRMB 7999 (8 核图形处理器，256GB 固态硬盘)\\nRMB 9499 (10 核图形处理器，512GB 固态硬盘)\\nRMB 8999\\nRMB 10,499\\nRMB 11,999\\n\\n# MacBook Air15寸\\n\\n## 外观\\n\\n银色、星光色、深空灰色、午夜色\\n\\n## 价格\\n\\nRMB 10,499\\nRMB 11,999\\nRMB 13,499\"\n",
      "}\n",
      "\u001B[36;1m\u001B[1;3m[chain/end]\u001B[0m \u001B[1m[chain:RunnableSequence > chain:RunnableParallel<context,question>] [625ms] Exiting Chain run with output:\n",
      "\u001B[0m{\n",
      "  \"context\": \"# MacBook Air13寸\\n\\n## 外观\\n\\n银色 星光色 深空灰色 午夜色\\n\\n## 价格\\n\\nRMB 7999 (8 核图形处理器，256GB 固态硬盘)\\nRMB 9499 (10 核图形处理器，512GB 固态硬盘)\\nRMB 8999\\nRMB 10,499\\nRMB 11,999\\n\\n# MacBook Air15寸\\n\\n## 外观\\n\\n银色、星光色、深空灰色、午夜色\\n\\n## 价格\\n\\nRMB 10,499\\nRMB 11,999\\nRMB 13,499\",\n",
      "  \"question\": \"MacBook Air13寸的价格\"\n",
      "}\n",
      "\u001B[32;1m\u001B[1;3m[chain/start]\u001B[0m \u001B[1m[chain:RunnableSequence > prompt:ChatPromptTemplate] Entering Prompt run with input:\n",
      "\u001B[0m{\n",
      "  \"context\": \"# MacBook Air13寸\\n\\n## 外观\\n\\n银色 星光色 深空灰色 午夜色\\n\\n## 价格\\n\\nRMB 7999 (8 核图形处理器，256GB 固态硬盘)\\nRMB 9499 (10 核图形处理器，512GB 固态硬盘)\\nRMB 8999\\nRMB 10,499\\nRMB 11,999\\n\\n# MacBook Air15寸\\n\\n## 外观\\n\\n银色、星光色、深空灰色、午夜色\\n\\n## 价格\\n\\nRMB 10,499\\nRMB 11,999\\nRMB 13,499\",\n",
      "  \"question\": \"MacBook Air13寸的价格\"\n",
      "}\n",
      "\u001B[36;1m\u001B[1;3m[chain/end]\u001B[0m \u001B[1m[chain:RunnableSequence > prompt:ChatPromptTemplate] [0ms] Exiting Prompt run with output:\n",
      "\u001B[0m[outputs]\n",
      "\u001B[32;1m\u001B[1;3m[llm/start]\u001B[0m \u001B[1m[chain:RunnableSequence > llm:ChatOpenAI] Entering LLM run with input:\n",
      "\u001B[0m{\n",
      "  \"prompts\": [\n",
      "    \"Human: system\\nHuman: \\n# 角色\\n你是一位专业且极具洞察力的商品问答专家，\\n拥有精准的眼光和丰富的经验，能够迅速且透彻地理解用户的问题，\\n在丰富的知识库中高效、准确地搜索有用信息，\\n为用户提供详尽、精确且易于理解的答案。\\n\\n## 技能\\n### 技能 1: 深度剖析与精确搜索\\n1. 全方位、深层次地剖析用户提出的问题，精准提取关键核心要点。\\n2. 依据关键要点，在知识库中进行全面、深入且精确的检索。\\n\\n### 技能 2: 细致对比商品差异\\n1. 依据检索获取的商品信息，梳理并对比每件商品之间的信息差别、区别，把每项结果记录下来。例如：都有描述屏幕大小，一个是6寸，一个是5.5寸，这就是两者的差异、区别。把结果存起来，为后面的回复做准备\\n2. 若商品不存在差异点，则无需记录。\\n\\n### 技能 3: 精心组织回复\\n1. 将技能 2得出的差异结果，以清晰、有条理的表格形式展示。\\n2. 为用户生成确切、简洁且通俗易懂的回答。\\n\\n## 约束\\n- 如果检索结果没有数据，请如实回答没有数据。\\n- 只回答与产品有关的问题，坚决不涉及无关内容。\\n- 始终使用清晰、简洁、通俗易懂的语言回应用户的问题。\\n\\n#\\nContext: # MacBook Air13寸\\n\\n## 外观\\n\\n银色 星光色 深空灰色 午夜色\\n\\n## 价格\\n\\nRMB 7999 (8 核图形处理器，256GB 固态硬盘)\\nRMB 9499 (10 核图形处理器，512GB 固态硬盘)\\nRMB 8999\\nRMB 10,499\\nRMB 11,999\\n\\n# MacBook Air15寸\\n\\n## 外观\\n\\n银色、星光色、深空灰色、午夜色\\n\\n## 价格\\n\\nRMB 10,499\\nRMB 11,999\\nRMB 13,499\\n\\nQuestion: MacBook Air13寸的价格\\n\\nHuman: MacBook Air13寸的价格\"\n",
      "  ]\n",
      "}\n",
      "\u001B[36;1m\u001B[1;3m[llm/end]\u001B[0m \u001B[1m[chain:RunnableSequence > llm:ChatOpenAI] [6.00s] Exiting LLM run with output:\n",
      "\u001B[0m{\n",
      "  \"generations\": [\n",
      "    [\n",
      "      {\n",
      "        \"text\": \"MacBook Air 13寸的价格如下：\\n\\n- RMB 7999 (8 核图形处理器，256GB 固态硬盘)\\n- RMB 9499 (10 核图形处理器，512GB 固态硬盘)\\n- RMB 8999\\n- RMB 10,499\\n- RMB 11,999\\n\\n这些价格对应不同配置的MacBook Air 13寸型号，包括处理器核数和固态硬盘容量的变化。\",\n",
      "        \"generation_info\": {\n",
      "          \"finish_reason\": \"stop\",\n",
      "          \"logprobs\": null\n",
      "        },\n",
      "        \"type\": \"ChatGeneration\",\n",
      "        \"message\": {\n",
      "          \"lc\": 1,\n",
      "          \"type\": \"constructor\",\n",
      "          \"id\": [\n",
      "            \"langchain\",\n",
      "            \"schema\",\n",
      "            \"messages\",\n",
      "            \"AIMessage\"\n",
      "          ],\n",
      "          \"kwargs\": {\n",
      "            \"content\": \"MacBook Air 13寸的价格如下：\\n\\n- RMB 7999 (8 核图形处理器，256GB 固态硬盘)\\n- RMB 9499 (10 核图形处理器，512GB 固态硬盘)\\n- RMB 8999\\n- RMB 10,499\\n- RMB 11,999\\n\\n这些价格对应不同配置的MacBook Air 13寸型号，包括处理器核数和固态硬盘容量的变化。\",\n",
      "            \"response_metadata\": {\n",
      "              \"token_usage\": {\n",
      "                \"completion_tokens\": 125,\n",
      "                \"prompt_tokens\": 680,\n",
      "                \"total_tokens\": 805\n",
      "              },\n",
      "              \"model_name\": \"gpt-3.5-turbo\",\n",
      "              \"system_fingerprint\": null,\n",
      "              \"finish_reason\": \"stop\",\n",
      "              \"logprobs\": null\n",
      "            },\n",
      "            \"type\": \"ai\",\n",
      "            \"id\": \"run-62b6ec2a-f719-42d8-b3bc-ec1c2d2ddb37-0\",\n",
      "            \"usage_metadata\": {\n",
      "              \"input_tokens\": 680,\n",
      "              \"output_tokens\": 125,\n",
      "              \"total_tokens\": 805\n",
      "            },\n",
      "            \"tool_calls\": [],\n",
      "            \"invalid_tool_calls\": []\n",
      "          }\n",
      "        }\n",
      "      }\n",
      "    ]\n",
      "  ],\n",
      "  \"llm_output\": {\n",
      "    \"token_usage\": {\n",
      "      \"completion_tokens\": 125,\n",
      "      \"prompt_tokens\": 680,\n",
      "      \"total_tokens\": 805\n",
      "    },\n",
      "    \"model_name\": \"gpt-3.5-turbo\",\n",
      "    \"system_fingerprint\": null\n",
      "  },\n",
      "  \"run\": null\n",
      "}\n",
      "\u001B[32;1m\u001B[1;3m[chain/start]\u001B[0m \u001B[1m[chain:RunnableSequence > parser:StrOutputParser] Entering Parser run with input:\n",
      "\u001B[0m[inputs]\n",
      "\u001B[36;1m\u001B[1;3m[chain/end]\u001B[0m \u001B[1m[chain:RunnableSequence > parser:StrOutputParser] [0ms] Exiting Parser run with output:\n",
      "\u001B[0m{\n",
      "  \"output\": \"MacBook Air 13寸的价格如下：\\n\\n- RMB 7999 (8 核图形处理器，256GB 固态硬盘)\\n- RMB 9499 (10 核图形处理器，512GB 固态硬盘)\\n- RMB 8999\\n- RMB 10,499\\n- RMB 11,999\\n\\n这些价格对应不同配置的MacBook Air 13寸型号，包括处理器核数和固态硬盘容量的变化。\"\n",
      "}\n",
      "\u001B[36;1m\u001B[1;3m[chain/end]\u001B[0m \u001B[1m[chain:RunnableSequence] [6.63s] Exiting Chain run with output:\n",
      "\u001B[0m{\n",
      "  \"output\": \"MacBook Air 13寸的价格如下：\\n\\n- RMB 7999 (8 核图形处理器，256GB 固态硬盘)\\n- RMB 9499 (10 核图形处理器，512GB 固态硬盘)\\n- RMB 8999\\n- RMB 10,499\\n- RMB 11,999\\n\\n这些价格对应不同配置的MacBook Air 13寸型号，包括处理器核数和固态硬盘容量的变化。\"\n",
      "}\n"
     ]
    },
    {
     "data": {
      "text/plain": [
       "'MacBook Air 13寸的价格如下：\\n\\n- RMB 7999 (8 核图形处理器，256GB 固态硬盘)\\n- RMB 9499 (10 核图形处理器，512GB 固态硬盘)\\n- RMB 8999\\n- RMB 10,499\\n- RMB 11,999\\n\\n这些价格对应不同配置的MacBook Air 13寸型号，包括处理器核数和固态硬盘容量的变化。'"
      ]
     },
     "execution_count": 25,
     "metadata": {},
     "output_type": "execute_result"
    }
   ],
   "source": [
    "qa_chain.invoke(query)"
   ]
  },
  {
   "cell_type": "markdown",
   "id": "f964d878f09d1354",
   "metadata": {},
   "source": [
    "## 总结\n",
    "\n",
    "1. chunk_size不能设100，搜索的结果不一定是当前需要的信息\n",
    "例如：vector库入面存在13寸和15寸MBA的价格，按照上面的规则进行搜索，当搜索出价格就会停止（不管是谁的价格）\n",
    "\n",
    "错误答案：\n",
    "13英寸的MacBook Air有几种配置和价格选项：\\n\\n1. **RMB 10,499** - 这可能是较低配置的价格，可能包括较低的存储容量和处理器选项。\\n   \\n2. **RMB 11,999** - 这可能是中等配置的价格，可能包括更大的存储容量或者更高性能的处理器。\\n\\n3. **RMB 13,499** - 这可能是高端配置\n",
    "\n",
    "原因：\n",
    "13寸的分段\n",
    "[Document(page_content='# MacBook Air13寸\\n\\n## 外观\\n\\n银色 星光色 深空灰色 午夜色'),\n",
    " Document(page_content='价格\\n\\nRMB 7999 (8 核图形处理器，256GB 固态硬盘)\\nRMB 9499 (10 核图形处理器，512GB 固态硬盘)\\nRMB 8999\\nRMB 10,499\\nRMB 11,999'),\n",
    " \n",
    "15寸的分段：\n",
    "Document(page_content='# MacBook Air15寸\\n\\n## 外观\\n\\n银色、星光色、深空灰色、午夜色\\n\\n## 价格\\n\\nRMB 10,499\\nRMB 11,999\\nRMB 13,499'),\n",
    "\n",
    "\n",
    "2. `similarity_search`,`as_retriever(\n",
    "    search_kwargs={\"k\": 3}\n",
    ")`,`as_retriever(  search_type=\"similarity_score_threshold\",\n",
    "    search_kwargs={\"score_threshold\": 0.8})`,三者目前最优解是`as_retriever(  search_type=\"similarity_score_threshold\",\n",
    "    search_kwargs={\"score_threshold\": 0.8})`"
   ]
  }
 ],
 "metadata": {
  "kernelspec": {
   "display_name": "Python 3",
   "language": "python",
   "name": "python3"
  },
  "language_info": {
   "codemirror_mode": {
    "name": "ipython",
    "version": 2
   },
   "file_extension": ".py",
   "mimetype": "text/x-python",
   "name": "python",
   "nbconvert_exporter": "python",
   "pygments_lexer": "ipython2",
   "version": "2.7.6"
  }
 },
 "nbformat": 4,
 "nbformat_minor": 5
}
