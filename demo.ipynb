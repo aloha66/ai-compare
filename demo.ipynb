{
 "cells": [
  {
   "metadata": {},
   "cell_type": "markdown",
   "source": "## 加载文件",
   "id": "c5f71eb5523d7a32"
  },
  {
   "metadata": {
    "ExecuteTime": {
     "end_time": "2024-07-06T03:55:12.625335Z",
     "start_time": "2024-07-06T03:55:12.607337Z"
    }
   },
   "cell_type": "code",
   "source": [
    "def load_file(path):\n",
    "    with open(path,encoding=\"utf-8\") as f:\n",
    "        return f.read()"
   ],
   "id": "da0f1df7c0a31e14",
   "outputs": [],
   "execution_count": 8
  },
  {
   "metadata": {
    "ExecuteTime": {
     "end_time": "2024-07-06T04:06:01.737256Z",
     "start_time": "2024-07-06T04:06:01.722296Z"
    }
   },
   "cell_type": "code",
   "source": [
    "txt13 = load_file(\"data/MacBook Air13寸.txt\")\n",
    "txt15 = load_file(\"data/MacBook Air15寸.txt\")"
   ],
   "id": "initial_id",
   "outputs": [],
   "execution_count": 15
  },
  {
   "metadata": {
    "ExecuteTime": {
     "end_time": "2024-07-06T04:06:05.289848Z",
     "start_time": "2024-07-06T04:06:05.281870Z"
    }
   },
   "cell_type": "code",
   "source": [
    "print(f\"txt13 Total text length: {len(txt13)}\")\n",
    "print(f\"txt15 Total text length: {len(txt15)}\")"
   ],
   "id": "e493a6cd4c4be919",
   "outputs": [
    {
     "name": "stdout",
     "output_type": "stream",
     "text": [
      "txt13 Total text length: 3007\n",
      "txt15 Total text length: 2035\n"
     ]
    }
   ],
   "execution_count": 16
  },
  {
   "metadata": {},
   "cell_type": "markdown",
   "source": "## 文本分割",
   "id": "c75f86f5e02f367d"
  },
  {
   "metadata": {
    "ExecuteTime": {
     "end_time": "2024-07-06T11:34:31.396390Z",
     "start_time": "2024-07-06T11:34:31.378355Z"
    }
   },
   "cell_type": "code",
   "source": [
    "from langchain_text_splitters import CharacterTextSplitter\n",
    "\n",
    "text_splitter = CharacterTextSplitter(\n",
    "    separator=\"##\",\n",
    "    chunk_size=200,\n",
    "    chunk_overlap=100,\n",
    "    length_function=len,\n",
    "    is_separator_regex=True,\n",
    ")"
   ],
   "id": "baeb46426e2439d8",
   "outputs": [],
   "execution_count": 151
  },
  {
   "metadata": {
    "ExecuteTime": {
     "end_time": "2024-07-06T11:34:34.512320Z",
     "start_time": "2024-07-06T11:34:34.498809Z"
    }
   },
   "cell_type": "code",
   "source": "texts = text_splitter.create_documents([txt13,txt15])",
   "id": "d88d1157b85b29ea",
   "outputs": [
    {
     "name": "stderr",
     "output_type": "stream",
     "text": [
      "WARNING:langchain_text_splitters.base:Created a chunk of size 685, which is longer than the specified 200\n",
      "WARNING:langchain_text_splitters.base:Created a chunk of size 256, which is longer than the specified 200\n",
      "WARNING:langchain_text_splitters.base:Created a chunk of size 331, which is longer than the specified 200\n",
      "WARNING:langchain_text_splitters.base:Created a chunk of size 265, which is longer than the specified 200\n",
      "WARNING:langchain_text_splitters.base:Created a chunk of size 211, which is longer than the specified 200\n",
      "WARNING:langchain_text_splitters.base:Created a chunk of size 514, which is longer than the specified 200\n",
      "WARNING:langchain_text_splitters.base:Created a chunk of size 210, which is longer than the specified 200\n"
     ]
    }
   ],
   "execution_count": 152
  },
  {
   "metadata": {
    "ExecuteTime": {
     "end_time": "2024-07-06T11:34:36.731350Z",
     "start_time": "2024-07-06T11:34:36.716390Z"
    }
   },
   "cell_type": "code",
   "source": "len(texts)",
   "id": "65b072227cd5547a",
   "outputs": [
    {
     "data": {
      "text/plain": [
       "26"
      ]
     },
     "execution_count": 153,
     "metadata": {},
     "output_type": "execute_result"
    }
   ],
   "execution_count": 153
  },
  {
   "metadata": {
    "ExecuteTime": {
     "end_time": "2024-07-06T11:34:38.054429Z",
     "start_time": "2024-07-06T11:34:38.033486Z"
    }
   },
   "cell_type": "code",
   "source": "texts",
   "id": "7e167c80f01a964c",
   "outputs": [
    {
     "data": {
      "text/plain": [
       "[Document(page_content='# MacBook Air13寸\\n\\n## 外观\\n\\n银色 星光色 深空灰色 午夜色\\n\\n## 价格\\n\\nRMB 7999 (8 核图形处理器，256GB 固态硬盘)\\nRMB 9499 (10 核图形处理器，512GB 固态硬盘)\\nRMB 8999\\nRMB 10,499\\nRMB 11,999'),\n",
       " Document(page_content='芯片\\n\\nApple M2 芯片8核中央处理器，具有4个性能核心和4个能效核心8核或10核图形处理器—\\n16 核神经网络引擎\\n100GB/s 内存带宽\\n媒体处理引擎\\n支持 H.264、HEVC、ProRes 和 ProRes RAW 硬件加速\\n视频解码引擎\\n视频编码引擎\\nProRes 编解码引擎 —可选配：\\nM2 (8 核中央处理器和 10 核图形处理器)\\nApple M3 芯片\\n8核中央处理器，具有4个性能核心和4个能效核心8核图形处理器\\n硬件加速光线追踪\\n16核神经网络引擎\\n100GB/s内存带宽\\n媒体处理引擎\\n支持 H.264、HEVC、ProRes 和 ProRes RAW 硬件加速\\n视频解码引擎\\n视频编码引擎\\nProRes 编解码引擎\\nAV1 解码引擎\\n可选配：\\nM3 (8核中央处理器和 10核图形处理器)\\nApple M3 芯片\\n8核中央处理器，具有\\n4个性能核心和\\n4个能效核心\\n10核图形处理器\\n硬件加速光线追踪\\n16核神经网络引擎\\n100GB/s内存带宽\\n媒体处理引擎\\n支持 H.264、HEVC、ProRes 和 ProRes RAW 硬件加速\\n视频解码引擎\\n视频编码引擎\\nProRes编解码引擎\\nAV1 解码引擎\\nApple M3 芯片\\n8核中央处理器，具有\\n4个性能核心和\\n4个能效核心\\n10核图形处理器\\n硬件加速光线追踪\\n16核神经网络引擎\\n100GB/s 内存带宽\\n媒体处理引擎\\n支持 H.264、HEVC、ProRes 和 ProRes RAW 硬件加速\\n视频解码引擎\\n视频编码引擎\\nProRes 编解码引擎\\nAV1 解码引擎'),\n",
       " Document(page_content='显示屏\\n\\nLiquid 视网膜显示屏\\n13.6 英寸 (对角线) LED 背光显示屏 (采用 IPS 技术)^{1}；\\n初始分辨率 2560 x 1664 (224 ppi)\\n500 尼特亮度\\n色彩\\n支持 10 亿色彩\\n广色域 (P3)\\n原彩显示技术'),\n",
       " Document(page_content='内存\\n\\n8GB\\n8GB 统一内存\\n可选配：\\n16GB 或 24GB 8GB\\n8GB 统一内存\\n可选配：\\n16GB 或 24GB 8GB\\n8GB 统一内存\\n可选配：\\n16GB 或 24GB 16GB\\n16GB 统一内存\\n可选配：\\n24GB'),\n",
       " Document(page_content='电池和电源^{2}\\n\\n最长可达 18 小时的 Apple TV app 影片播放\\n最长可达 15 小时的无线上网\\n52.6 瓦时锂聚合物电池\\n30W USB-C 电源适配器 (随附于 8 核图形处理器的 M2 机型和 M3 机型)\\n35W 双 USB-C 端口小型电源适配器 (随附于 10 核图形处理器、512GB 存储容量的 M2 机型和 M3 机型；8 核图形处理器的 M2 机型和 M3 机型可选配)\\nUSB-C 转 MagSafe 3 连接线\\n可快速充电 (使用 70W USB-C 电源适配器)'),\n",
       " Document(page_content='存储容量^{3}\\n\\n256GB 或 512GB\\n256GB 或 512GB 固态硬盘\\n可选配：\\n512GB、1TB 或 2TB 256GB\\n256GB 固态硬盘\\n可选配：\\n512GB、1TB 或 2TB 512GB\\n512GB 固态硬盘\\n可选配：\\n1TB 或 2TB 512GB\\n512GB 固态硬盘\\n可选配：\\n1TB 或 2TB'),\n",
       " Document(page_content='充电和外设扩展\\n\\nMagSafe 3 充电端口\\n3.5 毫米耳机插孔\\n两个雷雳 / USB 4 端口，均可支持：\\n充电\\nDisplayPort\\n雷雳 3 (速率最高可达 40Gb/s)\\nUSB 4 (速率最高可达 40Gb/s)\\nMagSafe 3 3.5 毫米耳机插孔 雷雳 / USB 4\\n显示器支持 M2 机型\\n同时支持初始分辨率下的内置显示屏 (可显示 10 亿色彩) 以及：\\n一台分辨率最高达 6K (60Hz) 的外接显示器\\nM3 机型\\n同时支持初始分辨率下的内置显示屏 (可显示 10 亿色彩) 以及：\\n一台分辨率最高达 6K (60Hz) 的外接显示器\\n闭合 MacBook Air 可使用第二台外接显示器，分辨率最高达 5K (60Hz)'),\n",
       " Document(page_content='视频播放\\n\\n支持的格式包括 HEVC、H.264、AV1 和 ProRes\\n支持杜比视界、HDR10 和 HLG，并可显示 HDR 画质\\n音频播放 支持的格式包括 AAC、MP3、Apple 保真压缩、FLAC、杜比数字、杜比数字+、杜比全景声\\n键盘和触控板 背光妙控键盘，配备：\\n78 个 (ANSI) 或 79 个 (ISO) 按键，包括 12 个全尺寸功能键和 4 个方向键 (呈倒 T 形排列)\\n触控 ID\\n环境光传感器\\n力度触控板可实现精准光标控制和压力感应功能；支持用力点按、加速控制、压力感应绘图和多点触控手势'),\n",
       " Document(page_content='无线连接\\n\\nM2 机型\\nWi-Fi 6 (802.11ax)\\n蓝牙 5.3\\nM3 机型\\nWi-Fi 6E (802.11ax)^{4}\\n蓝牙 5.3\\n摄像头\\n1080p FaceTime 高清摄像头\\n先进的图像信号处理器，具备计算视频技术'),\n",
       " Document(page_content='音频\\n\\n四扬声器系统\\n使用内置扬声器播放杜比全景声音乐或视频时支持空间音频功能\\n搭配 AirPods (第三代)、AirPods Pro 或 AirPods Max 可实现支持动态头部追踪的空间音频\\n三麦克风阵列，支持定向波束成形\\n“语音突显”和“宽谱”麦克风模式\\n音频和视频通话声音更清晰 (M3 机型)\\n3.5 毫米耳机插孔，具备先进的高阻抗耳机支持功能'),\n",
       " Document(page_content='操作环境\\n\\n电压：100 伏至 240 伏交流电\\n频率：50Hz 至 60Hz\\n工作温度：10°C 至 35°C (50°F 至 95°F)\\n存放温度：–25°C 至 45°C (–13°F 至 113°F)\\n相对湿度：非凝结状态下 0% 至 90%\\n工作高度：目前测试最高可达 3000 米 (10000 英尺)\\n最高储存高度：4500 米 (15000 英尺)\\n最高装运高度：10500 米 (35000 英尺)'),\n",
       " Document(page_content='尺寸和重量\\n\\n高度：1.13 厘米 (0.44 英寸)\\n宽度：30.41 厘米 (11.97 英寸)\\n深度：21.50 厘米 (8.46 英寸)\\n重量：1.24 千克 (2.7 磅)^{5}'),\n",
       " Document(page_content='操作系统\\n\\nmacOS\\nmacOS 是先进的桌面操作系统。macOS Sonoma 的强大，让 Mac 工作和娱乐起来都更得心应手。各项新技能让你的视频演示更精彩，游戏玩起来更带劲，还有各种个性化方式助你尽情展现自己的风格。'),\n",
       " Document(page_content='包装内容\\n\\n13 英寸 MacBook Air\\n30W USB-C 电源适配器\\n(8 核图形处理器的 M2 机型和 M3 机型)\\n或\\n35W 双 USB-C 端口小型电源适配器\\n(10 核图形处理器、512GB 存储容量的 M2 机型和 M3 机型)\\nUSB-C 转 MagSafe 3 连接线\\n(2 米)'),\n",
       " Document(page_content='# MacBook Air15寸\\n\\n## 外观\\n\\n银色、星光色、深空灰色、午夜色\\n\\n## 价格\\n\\nRMB 10,499\\nRMB 11,999\\nRMB 13,499'),\n",
       " Document(page_content='芯片\\n\\nApple M3 芯片\\n8 核中央处理器，具有 4 个性能核心和 4 个能效核心\\n10 核图形处理器\\n硬件加速光线追踪\\n16 核神经网络引擎\\n100GB/s 内存带宽\\n媒体处理引擎\\n支持 H.264、HEVC、ProRes 和 ProRes RAW 硬件加速\\n视频解码引擎\\n视频编码引擎\\nProRes 编解码引擎\\nAV1 解码引擎'),\n",
       " Document(page_content='显示屏\\n\\nLiquid 视网膜显示屏\\n15.3 英寸 (对角线) LED 背光显示屏 (采用 IPS 技术)^{1}；\\n初始分辨率 2880 x 1864 (224 ppi)\\n500 尼特亮度\\n色彩\\n支持 10 亿色彩\\n广色域 (P3)\\n原彩显示技术'),\n",
       " Document(page_content='内存\\n\\n8GB\\n8GB 统一内存\\n可选配：\\n16GB 或 24GB\\n8GB\\n8GB 统一内存\\n可选配：\\n16GB 或 24GB\\n16GB\\n16GB 统一内存\\n可选配：\\n24GB'),\n",
       " Document(page_content='电池和电源^{2}\\n\\n最长可达 18 小时的 Apple TV app 影片播放\\n最长可达 15 小时的无线上网\\n66.5 瓦时锂聚合物电池\\n35W 双 USB-C 端口小型电源适配器\\nUSB-C 转 MagSafe 3 连接线\\n可快速充电 (使用 70W USB-C 电源适配器)'),\n",
       " Document(page_content='存储容量^{3}\\n\\n256GB\\n256GB 固态硬盘\\n可选配：\\n512GB、1TB 或 2TB\\n512GB\\n512GB 固态硬盘\\n可选配：\\n1TB 或 2TB\\n512GB\\n512GB 固态硬盘\\n可选配：\\n1TB 或 2TB'),\n",
       " Document(page_content='充电和外设扩展\\n\\nMagSafe 3 充电端口\\n3.5 毫米耳机插孔\\n两个雷雳 / USB 4 端口，均可支持：\\n充电\\nDisplayPort\\n雷雳 3 (速率最高可达 40Gb/s)\\nUSB 4 (速率最高可达 40Gb/s)\\nMagSafe 33.5 毫米耳机插孔雷雳 / USB 4\\n显示器支持\\n同时支持初始分辨率下的内置显示屏 (可显示 10 亿色彩) 以及：\\n一台分辨率最高达 6K (60Hz) 的外接显示器\\n闭合 MacBook Air 可使用第二台外接显示器，分辨率最高达 5K (60Hz)\\n支持的格式包括 HEVC、H.264、AV1 和 ProRes\\n支持杜比视界、HDR10 和 HLG，并可显示 HDR 画质\\n音频播放\\n支持的格式包括 AAC、MP3、Apple 保真压缩、FLAC、杜比数字、杜比数字+、杜比全景声\\n键盘和触控板\\n背光妙控键盘，配备：\\n78 个 (ANSI) 或 79 个 (ISO) 按键，包括 12 个全尺寸功能键和 4 个方向键 (呈倒 T 形排列)\\n触控 ID\\n环境光传感器\\n力度触控板可实现精准光标控制和压力感应功能；支持用力点按、加速控制、压力感应绘图和多点触控手势'),\n",
       " Document(page_content='无线连接\\n\\nWi-Fi\\nWi-Fi 6E (802.11ax)^{4}\\n蓝牙\\n蓝牙 5.3\\n摄像头\\n1080p FaceTime 高清摄像头\\n先进的图像信号处理器，具备计算视频技术'),\n",
       " Document(page_content='音频\\n\\n六扬声器系统，采用振动抵消低音单元\\n使用内置扬声器播放杜比全景声音乐或视频时支持空间音频功能\\n搭配 AirPods (第三代)、AirPods Pro 或 AirPods Max 可实现支持动态头部追踪的空间音频\\n三麦克风阵列，支持定向波束成形\\n“语音突显”和“宽谱”麦克风模式\\n音频和视频通话声音更清晰\\n3.5 毫米耳机插孔，具备先进的高阻抗耳机支持功能'),\n",
       " Document(page_content='操作环境\\n电压：100 伏至 240 伏交流电\\n频率：50Hz 至 60Hz\\n工作温度：10°C 至 35°C (50°F 至 95°F)\\n存放温度：–25°C 至 45°C (–13°F 至 113°F)\\n相对湿度：非凝结状态下 0% 至 90%\\n工作高度：目前测试最高可达 3000 米 (10000 英尺)\\n最高储存高度：4500 米 (15000 英尺)\\n最高装运高度：10500 米 (35000 英尺)'),\n",
       " Document(page_content='尺寸和重量\\n\\n高度：1.15 厘米 (0.45 英寸)\\n宽度：34.04 厘米 (13.40 英寸)\\n深度：23.76 厘米 (9.35 英寸)\\n重量：1.51 千克 (3.3 磅)^{5}\\n深度：23.76 厘米 (9.35 英寸)\\n宽度：34.04 厘米 (13.40 英寸)\\n高度：1.15 厘米 (0.45 英寸)'),\n",
       " Document(page_content='操作系统\\n\\nmacOS\\nmacOS 是先进的桌面操作系统。macOS Sonoma 的强大，让 Mac 工作和娱乐起来都更得心应手。各项新技能让你的视频演示更精彩，游戏玩起来更带劲，还有各种个性化方式助你尽情展现自己的风格。')]"
      ]
     },
     "execution_count": 154,
     "metadata": {},
     "output_type": "execute_result"
    }
   ],
   "execution_count": 154
  },
  {
   "metadata": {},
   "cell_type": "markdown",
   "source": "## 使用 Faiss 作为向量数据库，持久化存储",
   "id": "54f05f07ab9d48b4"
  },
  {
   "metadata": {
    "ExecuteTime": {
     "end_time": "2024-07-06T11:34:52.507046Z",
     "start_time": "2024-07-06T11:34:49.595480Z"
    }
   },
   "cell_type": "code",
   "source": [
    "from langchain_openai import OpenAIEmbeddings\n",
    "from langchain_community.vectorstores import FAISS\n",
    "\n",
    "db = FAISS.from_documents(texts, OpenAIEmbeddings())"
   ],
   "id": "37dfb35b9ffa61c1",
   "outputs": [],
   "execution_count": 155
  },
  {
   "metadata": {
    "ExecuteTime": {
     "end_time": "2024-07-06T11:34:53.685925Z",
     "start_time": "2024-07-06T11:34:53.668215Z"
    }
   },
   "cell_type": "code",
   "source": "query = \"MacBook Air13寸的价格\"",
   "id": "66765ced4a4b781d",
   "outputs": [],
   "execution_count": 156
  },
  {
   "metadata": {},
   "cell_type": "markdown",
   "source": "### 相似度查询，结果很冗余",
   "id": "b08950bdf1995765"
  },
  {
   "metadata": {
    "ExecuteTime": {
     "end_time": "2024-07-06T11:34:56.643342Z",
     "start_time": "2024-07-06T11:34:56.095914Z"
    }
   },
   "cell_type": "code",
   "source": "db.similarity_search(query)",
   "id": "6aced777c1097f03",
   "outputs": [
    {
     "data": {
      "text/plain": [
       "[Document(page_content='# MacBook Air13寸\\n\\n## 外观\\n\\n银色 星光色 深空灰色 午夜色\\n\\n## 价格\\n\\nRMB 7999 (8 核图形处理器，256GB 固态硬盘)\\nRMB 9499 (10 核图形处理器，512GB 固态硬盘)\\nRMB 8999\\nRMB 10,499\\nRMB 11,999'),\n",
       " Document(page_content='# MacBook Air15寸\\n\\n## 外观\\n\\n银色、星光色、深空灰色、午夜色\\n\\n## 价格\\n\\nRMB 10,499\\nRMB 11,999\\nRMB 13,499'),\n",
       " Document(page_content='充电和外设扩展\\n\\nMagSafe 3 充电端口\\n3.5 毫米耳机插孔\\n两个雷雳 / USB 4 端口，均可支持：\\n充电\\nDisplayPort\\n雷雳 3 (速率最高可达 40Gb/s)\\nUSB 4 (速率最高可达 40Gb/s)\\nMagSafe 33.5 毫米耳机插孔雷雳 / USB 4\\n显示器支持\\n同时支持初始分辨率下的内置显示屏 (可显示 10 亿色彩) 以及：\\n一台分辨率最高达 6K (60Hz) 的外接显示器\\n闭合 MacBook Air 可使用第二台外接显示器，分辨率最高达 5K (60Hz)\\n支持的格式包括 HEVC、H.264、AV1 和 ProRes\\n支持杜比视界、HDR10 和 HLG，并可显示 HDR 画质\\n音频播放\\n支持的格式包括 AAC、MP3、Apple 保真压缩、FLAC、杜比数字、杜比数字+、杜比全景声\\n键盘和触控板\\n背光妙控键盘，配备：\\n78 个 (ANSI) 或 79 个 (ISO) 按键，包括 12 个全尺寸功能键和 4 个方向键 (呈倒 T 形排列)\\n触控 ID\\n环境光传感器\\n力度触控板可实现精准光标控制和压力感应功能；支持用力点按、加速控制、压力感应绘图和多点触控手势'),\n",
       " Document(page_content='包装内容\\n\\n13 英寸 MacBook Air\\n30W USB-C 电源适配器\\n(8 核图形处理器的 M2 机型和 M3 机型)\\n或\\n35W 双 USB-C 端口小型电源适配器\\n(10 核图形处理器、512GB 存储容量的 M2 机型和 M3 机型)\\nUSB-C 转 MagSafe 3 连接线\\n(2 米)')]"
      ]
     },
     "execution_count": 157,
     "metadata": {},
     "output_type": "execute_result"
    }
   ],
   "execution_count": 157
  },
  {
   "metadata": {},
   "cell_type": "markdown",
   "source": [
    "### 使用 retriever 从向量数据库中获取结果\n",
    "\n",
    "#### 使用参数 `k` 指定返回结果数量"
   ],
   "id": "19694e7b45a94cde"
  },
  {
   "metadata": {
    "ExecuteTime": {
     "end_time": "2024-07-06T11:35:13.063203Z",
     "start_time": "2024-07-06T11:35:13.057218Z"
    }
   },
   "cell_type": "code",
   "source": [
    "topK_retriever = db.as_retriever(\n",
    "    search_kwargs={\"k\": 3}\n",
    ")"
   ],
   "id": "c32a988dd4087bad",
   "outputs": [],
   "execution_count": 158
  },
  {
   "metadata": {
    "ExecuteTime": {
     "end_time": "2024-07-06T11:35:14.567736Z",
     "start_time": "2024-07-06T11:35:14.553773Z"
    }
   },
   "cell_type": "code",
   "source": "topK_retriever",
   "id": "8039913ab3c030e5",
   "outputs": [
    {
     "data": {
      "text/plain": [
       "VectorStoreRetriever(tags=['FAISS', 'OpenAIEmbeddings'], vectorstore=<langchain_community.vectorstores.faiss.FAISS object at 0x0000019582ADAEC0>, search_kwargs={'k': 3})"
      ]
     },
     "execution_count": 159,
     "metadata": {},
     "output_type": "execute_result"
    }
   ],
   "execution_count": 159
  },
  {
   "metadata": {
    "ExecuteTime": {
     "end_time": "2024-07-06T11:35:16.646866Z",
     "start_time": "2024-07-06T11:35:16.012616Z"
    }
   },
   "cell_type": "code",
   "source": [
    "docs = topK_retriever.invoke(query)\n",
    "docs"
   ],
   "id": "650cf2418a33ad0e",
   "outputs": [
    {
     "data": {
      "text/plain": [
       "[Document(page_content='# MacBook Air13寸\\n\\n## 外观\\n\\n银色 星光色 深空灰色 午夜色\\n\\n## 价格\\n\\nRMB 7999 (8 核图形处理器，256GB 固态硬盘)\\nRMB 9499 (10 核图形处理器，512GB 固态硬盘)\\nRMB 8999\\nRMB 10,499\\nRMB 11,999'),\n",
       " Document(page_content='# MacBook Air15寸\\n\\n## 外观\\n\\n银色、星光色、深空灰色、午夜色\\n\\n## 价格\\n\\nRMB 10,499\\nRMB 11,999\\nRMB 13,499'),\n",
       " Document(page_content='充电和外设扩展\\n\\nMagSafe 3 充电端口\\n3.5 毫米耳机插孔\\n两个雷雳 / USB 4 端口，均可支持：\\n充电\\nDisplayPort\\n雷雳 3 (速率最高可达 40Gb/s)\\nUSB 4 (速率最高可达 40Gb/s)\\nMagSafe 33.5 毫米耳机插孔雷雳 / USB 4\\n显示器支持\\n同时支持初始分辨率下的内置显示屏 (可显示 10 亿色彩) 以及：\\n一台分辨率最高达 6K (60Hz) 的外接显示器\\n闭合 MacBook Air 可使用第二台外接显示器，分辨率最高达 5K (60Hz)\\n支持的格式包括 HEVC、H.264、AV1 和 ProRes\\n支持杜比视界、HDR10 和 HLG，并可显示 HDR 画质\\n音频播放\\n支持的格式包括 AAC、MP3、Apple 保真压缩、FLAC、杜比数字、杜比数字+、杜比全景声\\n键盘和触控板\\n背光妙控键盘，配备：\\n78 个 (ANSI) 或 79 个 (ISO) 按键，包括 12 个全尺寸功能键和 4 个方向键 (呈倒 T 形排列)\\n触控 ID\\n环境光传感器\\n力度触控板可实现精准光标控制和压力感应功能；支持用力点按、加速控制、压力感应绘图和多点触控手势')]"
      ]
     },
     "execution_count": 160,
     "metadata": {},
     "output_type": "execute_result"
    }
   ],
   "execution_count": 160
  },
  {
   "metadata": {
    "ExecuteTime": {
     "end_time": "2024-07-06T11:35:34.811226Z",
     "start_time": "2024-07-06T11:35:34.798260Z"
    }
   },
   "cell_type": "code",
   "source": "#### 使用 similarity_score_threshold 设置阈值，提升结果的相关性质量",
   "id": "a1402c68f57620bc",
   "outputs": [],
   "execution_count": 161
  },
  {
   "metadata": {
    "ExecuteTime": {
     "end_time": "2024-07-06T11:35:35.728486Z",
     "start_time": "2024-07-06T11:35:35.717516Z"
    }
   },
   "cell_type": "code",
   "source": [
    "topK_retriever = db.as_retriever(\n",
    "     search_type=\"similarity_score_threshold\",\n",
    "    search_kwargs={\"score_threshold\": 0.8}\n",
    ")"
   ],
   "id": "247000995358050f",
   "outputs": [],
   "execution_count": 162
  },
  {
   "metadata": {
    "ExecuteTime": {
     "end_time": "2024-07-06T11:35:37.593195Z",
     "start_time": "2024-07-06T11:35:37.050302Z"
    }
   },
   "cell_type": "code",
   "source": [
    "docs = topK_retriever.invoke(query)\n",
    "docs"
   ],
   "id": "44b09addb7413320",
   "outputs": [
    {
     "data": {
      "text/plain": [
       "[Document(page_content='# MacBook Air13寸\\n\\n## 外观\\n\\n银色 星光色 深空灰色 午夜色\\n\\n## 价格\\n\\nRMB 7999 (8 核图形处理器，256GB 固态硬盘)\\nRMB 9499 (10 核图形处理器，512GB 固态硬盘)\\nRMB 8999\\nRMB 10,499\\nRMB 11,999'),\n",
       " Document(page_content='# MacBook Air15寸\\n\\n## 外观\\n\\n银色、星光色、深空灰色、午夜色\\n\\n## 价格\\n\\nRMB 10,499\\nRMB 11,999\\nRMB 13,499')]"
      ]
     },
     "execution_count": 163,
     "metadata": {},
     "output_type": "execute_result"
    }
   ],
   "execution_count": 163
  },
  {
   "metadata": {},
   "cell_type": "code",
   "outputs": [],
   "execution_count": null,
   "source": "## 当向量数据库中没有合适答案时，使用大语言模型能力",
   "id": "9659aef8e5f10fef"
  },
  {
   "metadata": {
    "ExecuteTime": {
     "end_time": "2024-07-06T12:14:06.343668Z",
     "start_time": "2024-07-06T12:14:06.330087Z"
    }
   },
   "cell_type": "code",
   "source": [
    "from langchain.globals import set_debug,set_verbose\n",
    "\n",
    "import logging\n",
    "\n",
    "logging.basicConfig(filename=\"log.log\")\n",
    "\n",
    "set_verbose(True) # 没有更多的信息\n",
    "set_debug(True)  # 全部的信息，太多了"
   ],
   "id": "d1d9d6190821dc13",
   "outputs": [],
   "execution_count": 164
  },
  {
   "metadata": {
    "ExecuteTime": {
     "end_time": "2024-07-06T10:42:47.024367Z",
     "start_time": "2024-07-06T10:42:47.017384Z"
    }
   },
   "cell_type": "code",
   "source": [
    "def format_docs(docs):\n",
    "    return \"\\n\\n\".join(doc.page_content  for doc in docs)"
   ],
   "id": "64cf668cdb4bb155",
   "outputs": [],
   "execution_count": 89
  },
  {
   "metadata": {
    "ExecuteTime": {
     "end_time": "2024-07-06T12:14:13.414927Z",
     "start_time": "2024-07-06T12:14:13.403957Z"
    }
   },
   "cell_type": "code",
   "source": [
    "from langchain_core.prompts import ChatPromptTemplate\n",
    "\n",
    "template = \"\"\"\n",
    "# 角色\n",
    "你是一位专业且极具洞察力的商品问答专家，\n",
    "拥有精准的眼光和丰富的经验，能够迅速且透彻地理解用户的问题，\n",
    "在丰富的知识库中高效、准确地搜索有用信息，\n",
    "为用户提供详尽、精确且易于理解的答案。\n",
    "\n",
    "## 技能\n",
    "### 技能 1: 深度剖析与精确搜索\n",
    "1. 全方位、深层次地剖析用户提出的问题，精准提取关键核心要点。\n",
    "2. 依据关键要点，在知识库中进行全面、深入且精确的检索。\n",
    "\n",
    "### 技能 2: 细致对比商品差异\n",
    "1. 依据检索获取的商品信息，梳理并对比每件商品之间的信息差别、区别，把每项结果记录下来。例如：都有描述屏幕大小，一个是6寸，一个是5.5寸，这就是两者的差异、区别。把结果存起来，为后面的回复做准备\n",
    "2. 若商品不存在差异点，则无需记录。\n",
    "\n",
    "### 技能 3: 精心组织回复\n",
    "1. 将技能 2得出的差异结果，以清晰、有条理的表格形式展示。\n",
    "2. 为用户生成确切、简洁且通俗易懂的回答。\n",
    "\n",
    "## 约束\n",
    "- 如果检索结果没有数据，请如实回答没有数据。\n",
    "- 只回答与产品有关的问题，坚决不涉及无关内容。\n",
    "- 始终使用清晰、简洁、通俗易懂的语言回应用户的问题。\n",
    "\n",
    "#\n",
    "Context: {context}\n",
    "\n",
    "Question: {question}\n",
    "\"\"\"\n",
    "\n",
    "prompt = ChatPromptTemplate.from_messages(\n",
    "    [\"system\",template,(\"user\", \"{question}\")],\n",
    ")"
   ],
   "id": "744d1ebb2de948c6",
   "outputs": [],
   "execution_count": 165
  },
  {
   "metadata": {
    "ExecuteTime": {
     "end_time": "2024-07-06T10:00:37.769495Z",
     "start_time": "2024-07-06T10:00:37.722111Z"
    }
   },
   "cell_type": "code",
   "source": [
    "from langchain_openai import ChatOpenAI\n",
    "\n",
    "llm = ChatOpenAI(\n",
    "    temperature=0,\n",
    "    base_url=\"https://api.chatanywhere.tech/v1\",\n",
    ")"
   ],
   "id": "b69906fe6a0ced99",
   "outputs": [],
   "execution_count": 60
  },
  {
   "metadata": {
    "ExecuteTime": {
     "end_time": "2024-07-06T12:16:00.987336Z",
     "start_time": "2024-07-06T12:16:00.973509Z"
    }
   },
   "cell_type": "code",
   "source": [
    "from langchain_core.runnables import RunnablePassthrough\n",
    "from langchain_core.output_parsers import StrOutputParser\n",
    "\n",
    "qa_chain = (\n",
    "    {\n",
    "        \"context\": db.as_retriever(  search_type=\"similarity_score_threshold\",\n",
    "    search_kwargs={\"score_threshold\": 0.8}) | format_docs,\n",
    "        \"question\": RunnablePassthrough()\n",
    "    }\n",
    "    | prompt\n",
    "    | llm\n",
    "    | StrOutputParser()\n",
    ")"
   ],
   "id": "807cff070e69e183",
   "outputs": [],
   "execution_count": 170
  },
  {
   "metadata": {
    "ExecuteTime": {
     "end_time": "2024-07-06T12:16:10.937930Z",
     "start_time": "2024-07-06T12:16:04.720779Z"
    }
   },
   "cell_type": "code",
   "source": "qa_chain.invoke(query)",
   "id": "f8adde36cc789702",
   "outputs": [
    {
     "name": "stdout",
     "output_type": "stream",
     "text": [
      "\u001B[32;1m\u001B[1;3m[chain/start]\u001B[0m \u001B[1m[chain:RunnableSequence] Entering Chain run with input:\n",
      "\u001B[0m{\n",
      "  \"input\": \"MacBook Air13寸的价格\"\n",
      "}\n",
      "\u001B[32;1m\u001B[1;3m[chain/start]\u001B[0m \u001B[1m[chain:RunnableSequence > chain:RunnableParallel<context,question>] Entering Chain run with input:\n",
      "\u001B[0m{\n",
      "  \"input\": \"MacBook Air13寸的价格\"\n",
      "}\n",
      "\u001B[32;1m\u001B[1;3m[chain/start]\u001B[0m \u001B[1m[chain:RunnableSequence > chain:RunnableParallel<context,question> > chain:RunnablePassthrough] Entering Chain run with input:\n",
      "\u001B[0m{\n",
      "  \"input\": \"MacBook Air13寸的价格\"\n",
      "}\n",
      "\u001B[36;1m\u001B[1;3m[chain/end]\u001B[0m \u001B[1m[chain:RunnableSequence > chain:RunnableParallel<context,question> > chain:RunnablePassthrough] [0ms] Exiting Chain run with output:\n",
      "\u001B[0m{\n",
      "  \"output\": \"MacBook Air13寸的价格\"\n",
      "}\n",
      "\u001B[32;1m\u001B[1;3m[chain/start]\u001B[0m \u001B[1m[chain:RunnableSequence > chain:RunnableParallel<context,question> > chain:RunnableSequence] Entering Chain run with input:\n",
      "\u001B[0m{\n",
      "  \"input\": \"MacBook Air13寸的价格\"\n",
      "}\n",
      "\u001B[32;1m\u001B[1;3m[chain/start]\u001B[0m \u001B[1m[chain:RunnableSequence > chain:RunnableParallel<context,question> > chain:RunnableSequence > chain:format_docs] Entering Chain run with input:\n",
      "\u001B[0m[inputs]\n",
      "\u001B[36;1m\u001B[1;3m[chain/end]\u001B[0m \u001B[1m[chain:RunnableSequence > chain:RunnableParallel<context,question> > chain:RunnableSequence > chain:format_docs] [1ms] Exiting Chain run with output:\n",
      "\u001B[0m{\n",
      "  \"output\": \"# MacBook Air13寸\\n\\n## 外观\\n\\n银色 星光色 深空灰色 午夜色\\n\\n## 价格\\n\\nRMB 7999 (8 核图形处理器，256GB 固态硬盘)\\nRMB 9499 (10 核图形处理器，512GB 固态硬盘)\\nRMB 8999\\nRMB 10,499\\nRMB 11,999\\n\\n# MacBook Air15寸\\n\\n## 外观\\n\\n银色、星光色、深空灰色、午夜色\\n\\n## 价格\\n\\nRMB 10,499\\nRMB 11,999\\nRMB 13,499\"\n",
      "}\n",
      "\u001B[36;1m\u001B[1;3m[chain/end]\u001B[0m \u001B[1m[chain:RunnableSequence > chain:RunnableParallel<context,question> > chain:RunnableSequence] [561ms] Exiting Chain run with output:\n",
      "\u001B[0m{\n",
      "  \"output\": \"# MacBook Air13寸\\n\\n## 外观\\n\\n银色 星光色 深空灰色 午夜色\\n\\n## 价格\\n\\nRMB 7999 (8 核图形处理器，256GB 固态硬盘)\\nRMB 9499 (10 核图形处理器，512GB 固态硬盘)\\nRMB 8999\\nRMB 10,499\\nRMB 11,999\\n\\n# MacBook Air15寸\\n\\n## 外观\\n\\n银色、星光色、深空灰色、午夜色\\n\\n## 价格\\n\\nRMB 10,499\\nRMB 11,999\\nRMB 13,499\"\n",
      "}\n",
      "\u001B[36;1m\u001B[1;3m[chain/end]\u001B[0m \u001B[1m[chain:RunnableSequence > chain:RunnableParallel<context,question>] [565ms] Exiting Chain run with output:\n",
      "\u001B[0m{\n",
      "  \"context\": \"# MacBook Air13寸\\n\\n## 外观\\n\\n银色 星光色 深空灰色 午夜色\\n\\n## 价格\\n\\nRMB 7999 (8 核图形处理器，256GB 固态硬盘)\\nRMB 9499 (10 核图形处理器，512GB 固态硬盘)\\nRMB 8999\\nRMB 10,499\\nRMB 11,999\\n\\n# MacBook Air15寸\\n\\n## 外观\\n\\n银色、星光色、深空灰色、午夜色\\n\\n## 价格\\n\\nRMB 10,499\\nRMB 11,999\\nRMB 13,499\",\n",
      "  \"question\": \"MacBook Air13寸的价格\"\n",
      "}\n",
      "\u001B[32;1m\u001B[1;3m[chain/start]\u001B[0m \u001B[1m[chain:RunnableSequence > prompt:ChatPromptTemplate] Entering Prompt run with input:\n",
      "\u001B[0m{\n",
      "  \"context\": \"# MacBook Air13寸\\n\\n## 外观\\n\\n银色 星光色 深空灰色 午夜色\\n\\n## 价格\\n\\nRMB 7999 (8 核图形处理器，256GB 固态硬盘)\\nRMB 9499 (10 核图形处理器，512GB 固态硬盘)\\nRMB 8999\\nRMB 10,499\\nRMB 11,999\\n\\n# MacBook Air15寸\\n\\n## 外观\\n\\n银色、星光色、深空灰色、午夜色\\n\\n## 价格\\n\\nRMB 10,499\\nRMB 11,999\\nRMB 13,499\",\n",
      "  \"question\": \"MacBook Air13寸的价格\"\n",
      "}\n",
      "\u001B[36;1m\u001B[1;3m[chain/end]\u001B[0m \u001B[1m[chain:RunnableSequence > prompt:ChatPromptTemplate] [1ms] Exiting Prompt run with output:\n",
      "\u001B[0m[outputs]\n",
      "\u001B[32;1m\u001B[1;3m[llm/start]\u001B[0m \u001B[1m[chain:RunnableSequence > llm:ChatOpenAI] Entering LLM run with input:\n",
      "\u001B[0m{\n",
      "  \"prompts\": [\n",
      "    \"Human: system\\nHuman: \\n# 角色\\n你是一位专业且极具洞察力的商品问答专家，\\n拥有精准的眼光和丰富的经验，能够迅速且透彻地理解用户的问题，\\n在丰富的知识库中高效、准确地搜索有用信息，\\n为用户提供详尽、精确且易于理解的答案。\\n\\n## 技能\\n### 技能 1: 深度剖析与精确搜索\\n1. 全方位、深层次地剖析用户提出的问题，精准提取关键核心要点。\\n2. 依据关键要点，在知识库中进行全面、深入且精确的检索。\\n\\n### 技能 2: 细致对比商品差异\\n1. 依据检索获取的商品信息，梳理并对比每件商品之间的信息差别、区别，把每项结果记录下来。例如：都有描述屏幕大小，一个是6寸，一个是5.5寸，这就是两者的差异、区别。把结果存起来，为后面的回复做准备\\n2. 若商品不存在差异点，则无需记录。\\n\\n### 技能 3: 精心组织回复\\n1. 将技能 2得出的差异结果，以清晰、有条理的表格形式展示。\\n2. 为用户生成确切、简洁且通俗易懂的回答。\\n\\n## 约束\\n- 如果检索结果没有数据，请如实回答没有数据。\\n- 只回答与产品有关的问题，坚决不涉及无关内容。\\n- 始终使用清晰、简洁、通俗易懂的语言回应用户的问题。\\n\\n#\\nContext: # MacBook Air13寸\\n\\n## 外观\\n\\n银色 星光色 深空灰色 午夜色\\n\\n## 价格\\n\\nRMB 7999 (8 核图形处理器，256GB 固态硬盘)\\nRMB 9499 (10 核图形处理器，512GB 固态硬盘)\\nRMB 8999\\nRMB 10,499\\nRMB 11,999\\n\\n# MacBook Air15寸\\n\\n## 外观\\n\\n银色、星光色、深空灰色、午夜色\\n\\n## 价格\\n\\nRMB 10,499\\nRMB 11,999\\nRMB 13,499\\n\\nQuestion: MacBook Air13寸的价格\\n\\nHuman: MacBook Air13寸的价格\"\n",
      "  ]\n",
      "}\n",
      "\u001B[36;1m\u001B[1;3m[llm/end]\u001B[0m \u001B[1m[chain:RunnableSequence > llm:ChatOpenAI] [5.63s] Exiting LLM run with output:\n",
      "\u001B[0m{\n",
      "  \"generations\": [\n",
      "    [\n",
      "      {\n",
      "        \"text\": \"根据提供的信息，MacBook Air 13寸的价格如下：\\n\\n- RMB 7999（配备8核图形处理器和256GB固态硬盘）\\n- RMB 9499（配备10核图形处理器和512GB固态硬盘）\\n- RMB 8999\\n- RMB 10,499\\n- RMB 11,999\\n\\n这些价格反映了不同配置和存储容量选项的差异。\",\n",
      "        \"generation_info\": {\n",
      "          \"finish_reason\": \"stop\",\n",
      "          \"logprobs\": null\n",
      "        },\n",
      "        \"type\": \"ChatGeneration\",\n",
      "        \"message\": {\n",
      "          \"lc\": 1,\n",
      "          \"type\": \"constructor\",\n",
      "          \"id\": [\n",
      "            \"langchain\",\n",
      "            \"schema\",\n",
      "            \"messages\",\n",
      "            \"AIMessage\"\n",
      "          ],\n",
      "          \"kwargs\": {\n",
      "            \"content\": \"根据提供的信息，MacBook Air 13寸的价格如下：\\n\\n- RMB 7999（配备8核图形处理器和256GB固态硬盘）\\n- RMB 9499（配备10核图形处理器和512GB固态硬盘）\\n- RMB 8999\\n- RMB 10,499\\n- RMB 11,999\\n\\n这些价格反映了不同配置和存储容量选项的差异。\",\n",
      "            \"response_metadata\": {\n",
      "              \"token_usage\": {\n",
      "                \"completion_tokens\": 118,\n",
      "                \"prompt_tokens\": 680,\n",
      "                \"total_tokens\": 798\n",
      "              },\n",
      "              \"model_name\": \"gpt-3.5-turbo\",\n",
      "              \"system_fingerprint\": null,\n",
      "              \"finish_reason\": \"stop\",\n",
      "              \"logprobs\": null\n",
      "            },\n",
      "            \"type\": \"ai\",\n",
      "            \"id\": \"run-11ac95c3-3c39-4a2e-a991-eb59a3934a7b-0\",\n",
      "            \"usage_metadata\": {\n",
      "              \"input_tokens\": 680,\n",
      "              \"output_tokens\": 118,\n",
      "              \"total_tokens\": 798\n",
      "            },\n",
      "            \"tool_calls\": [],\n",
      "            \"invalid_tool_calls\": []\n",
      "          }\n",
      "        }\n",
      "      }\n",
      "    ]\n",
      "  ],\n",
      "  \"llm_output\": {\n",
      "    \"token_usage\": {\n",
      "      \"completion_tokens\": 118,\n",
      "      \"prompt_tokens\": 680,\n",
      "      \"total_tokens\": 798\n",
      "    },\n",
      "    \"model_name\": \"gpt-3.5-turbo\",\n",
      "    \"system_fingerprint\": null\n",
      "  },\n",
      "  \"run\": null\n",
      "}\n",
      "\u001B[32;1m\u001B[1;3m[chain/start]\u001B[0m \u001B[1m[chain:RunnableSequence > parser:StrOutputParser] Entering Parser run with input:\n",
      "\u001B[0m[inputs]\n",
      "\u001B[36;1m\u001B[1;3m[chain/end]\u001B[0m \u001B[1m[chain:RunnableSequence > parser:StrOutputParser] [1ms] Exiting Parser run with output:\n",
      "\u001B[0m{\n",
      "  \"output\": \"根据提供的信息，MacBook Air 13寸的价格如下：\\n\\n- RMB 7999（配备8核图形处理器和256GB固态硬盘）\\n- RMB 9499（配备10核图形处理器和512GB固态硬盘）\\n- RMB 8999\\n- RMB 10,499\\n- RMB 11,999\\n\\n这些价格反映了不同配置和存储容量选项的差异。\"\n",
      "}\n",
      "\u001B[36;1m\u001B[1;3m[chain/end]\u001B[0m \u001B[1m[chain:RunnableSequence] [6.20s] Exiting Chain run with output:\n",
      "\u001B[0m{\n",
      "  \"output\": \"根据提供的信息，MacBook Air 13寸的价格如下：\\n\\n- RMB 7999（配备8核图形处理器和256GB固态硬盘）\\n- RMB 9499（配备10核图形处理器和512GB固态硬盘）\\n- RMB 8999\\n- RMB 10,499\\n- RMB 11,999\\n\\n这些价格反映了不同配置和存储容量选项的差异。\"\n",
      "}\n"
     ]
    },
    {
     "data": {
      "text/plain": [
       "'根据提供的信息，MacBook Air 13寸的价格如下：\\n\\n- RMB 7999（配备8核图形处理器和256GB固态硬盘）\\n- RMB 9499（配备10核图形处理器和512GB固态硬盘）\\n- RMB 8999\\n- RMB 10,499\\n- RMB 11,999\\n\\n这些价格反映了不同配置和存储容量选项的差异。'"
      ]
     },
     "execution_count": 171,
     "metadata": {},
     "output_type": "execute_result"
    }
   ],
   "execution_count": 171
  },
  {
   "metadata": {},
   "cell_type": "code",
   "outputs": [],
   "execution_count": null,
   "source": "",
   "id": "e6be79983ae100b1"
  },
  {
   "metadata": {},
   "cell_type": "markdown",
   "source": [
    "## 总结\n",
    "\n",
    "1. chunk_size不能设100，搜索的结果不一定是当前需要的信息\n",
    "例如：vector库入面存在13寸和15寸MBA的价格，按照上面的规则进行搜索，当搜索出价格就会停止（不管是谁的价格）\n",
    "\n",
    "错误答案：\n",
    "13英寸的MacBook Air有几种配置和价格选项：\\n\\n1. **RMB 10,499** - 这可能是较低配置的价格，可能包括较低的存储容量和处理器选项。\\n   \\n2. **RMB 11,999** - 这可能是中等配置的价格，可能包括更大的存储容量或者更高性能的处理器。\\n\\n3. **RMB 13,499** - 这可能是高端配置\n",
    "\n",
    "原因：\n",
    "13寸的分段\n",
    "[Document(page_content='# MacBook Air13寸\\n\\n## 外观\\n\\n银色 星光色 深空灰色 午夜色'),\n",
    " Document(page_content='价格\\n\\nRMB 7999 (8 核图形处理器，256GB 固态硬盘)\\nRMB 9499 (10 核图形处理器，512GB 固态硬盘)\\nRMB 8999\\nRMB 10,499\\nRMB 11,999'),\n",
    " \n",
    "15寸的分段：\n",
    "Document(page_content='# MacBook Air15寸\\n\\n## 外观\\n\\n银色、星光色、深空灰色、午夜色\\n\\n## 价格\\n\\nRMB 10,499\\nRMB 11,999\\nRMB 13,499'),\n",
    "\n",
    "\n",
    "2. `similarity_search`,`as_retriever(\n",
    "    search_kwargs={\"k\": 3}\n",
    ")`,`as_retriever(  search_type=\"similarity_score_threshold\",\n",
    "    search_kwargs={\"score_threshold\": 0.8})`,三者目前最优解是`as_retriever(  search_type=\"similarity_score_threshold\",\n",
    "    search_kwargs={\"score_threshold\": 0.8})`"
   ],
   "id": "f964d878f09d1354"
  }
 ],
 "metadata": {
  "kernelspec": {
   "display_name": "Python 3",
   "language": "python",
   "name": "python3"
  },
  "language_info": {
   "codemirror_mode": {
    "name": "ipython",
    "version": 2
   },
   "file_extension": ".py",
   "mimetype": "text/x-python",
   "name": "python",
   "nbconvert_exporter": "python",
   "pygments_lexer": "ipython2",
   "version": "2.7.6"
  }
 },
 "nbformat": 4,
 "nbformat_minor": 5
}
